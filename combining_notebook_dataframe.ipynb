{
 "cells": [
  {
   "cell_type": "markdown",
   "metadata": {},
   "source": [
    "# Imports"
   ]
  },
  {
   "cell_type": "code",
   "execution_count": 33,
   "metadata": {},
   "outputs": [],
   "source": [
    "# Packages\n",
    "import pandas as pd\n",
    "\n",
    "# Helper functions\n",
    "from ipynb.fs.full.functions import *\n",
    "\n",
    "# Other notebooks for combining code\n",
    "from ipynb.fs.full.semrush_call import execute_call\n",
    "from ipynb.fs.full.text_division_and_styling import LoopGetHeaderCountFromURL, LoopGetListsCountFromURL"
   ]
  },
  {
   "cell_type": "markdown",
   "metadata": {},
   "source": [
    "# Executing of functions\n",
    "## Variables for keyword search"
   ]
  },
  {
   "cell_type": "code",
   "execution_count": 34,
   "metadata": {},
   "outputs": [],
   "source": [
    "keyword = 'houtkool' # What keyword do you want to call for?\n",
    "result_count = '2' # How many keyword results do you want to gather data for?\n",
    "\n",
    "# Do you want to overwrite the SEMrush keyword call if it has already been executed before?\n",
    "# This is to save on SEMrush token usage\n",
    "potential_overwrite = False\n",
    "\n",
    "# Do you want to save the result of the end dataframe?\n",
    "save = True"
   ]
  },
  {
   "cell_type": "markdown",
   "metadata": {},
   "source": [
    "## Creating dataframes"
   ]
  },
  {
   "cell_type": "code",
   "execution_count": 35,
   "metadata": {},
   "outputs": [
    {
     "ename": "TypeError",
     "evalue": "rename_columns() missing 1 required positional argument: 'export_columns'",
     "output_type": "error",
     "traceback": [
      "\u001b[1;31m---------------------------------------------------------------------------\u001b[0m",
      "\u001b[1;31mTypeError\u001b[0m                                 Traceback (most recent call last)",
      "\u001b[1;32m<ipython-input-35-ea64a2d8a5bc>\u001b[0m in \u001b[0;36m<module>\u001b[1;34m\u001b[0m\n\u001b[0;32m     24\u001b[0m     \u001b[1;32mreturn\u001b[0m \u001b[0mmain_dataframe\u001b[0m\u001b[1;33m\u001b[0m\u001b[1;33m\u001b[0m\u001b[0m\n\u001b[0;32m     25\u001b[0m \u001b[1;33m\u001b[0m\u001b[0m\n\u001b[1;32m---> 26\u001b[1;33m \u001b[0mmain_dataframe\u001b[0m \u001b[1;33m=\u001b[0m \u001b[0mExecuteAllCalls\u001b[0m\u001b[1;33m(\u001b[0m\u001b[1;33m)\u001b[0m\u001b[1;33m\u001b[0m\u001b[1;33m\u001b[0m\u001b[0m\n\u001b[0m\u001b[0;32m     27\u001b[0m \u001b[0mmain_dataframe\u001b[0m\u001b[1;33m\u001b[0m\u001b[1;33m\u001b[0m\u001b[0m\n",
      "\u001b[1;32m<ipython-input-35-ea64a2d8a5bc>\u001b[0m in \u001b[0;36mExecuteAllCalls\u001b[1;34m()\u001b[0m\n\u001b[0;32m      3\u001b[0m     \u001b[0mexport_columns\u001b[0m \u001b[1;33m=\u001b[0m \u001b[1;34m'Dn,Ur'\u001b[0m\u001b[1;33m\u001b[0m\u001b[1;33m\u001b[0m\u001b[0m\n\u001b[0;32m      4\u001b[0m     \u001b[0mendpoint_url\u001b[0m \u001b[1;33m=\u001b[0m \u001b[1;34m'https://api.semrush.com/'\u001b[0m\u001b[1;33m\u001b[0m\u001b[1;33m\u001b[0m\u001b[0m\n\u001b[1;32m----> 5\u001b[1;33m     \u001b[0mmain_dataframe\u001b[0m \u001b[1;33m=\u001b[0m \u001b[0mexecute_call\u001b[0m\u001b[1;33m(\u001b[0m\u001b[0mkeyword\u001b[0m\u001b[1;33m,\u001b[0m \u001b[0mresult_count\u001b[0m\u001b[1;33m,\u001b[0m \u001b[0mexport_columns\u001b[0m\u001b[1;33m,\u001b[0m \u001b[0mendpoint_url\u001b[0m\u001b[1;33m,\u001b[0m \u001b[0mpotential_overwrite\u001b[0m\u001b[1;33m)\u001b[0m\u001b[1;33m\u001b[0m\u001b[1;33m\u001b[0m\u001b[0m\n\u001b[0m\u001b[0;32m      6\u001b[0m \u001b[1;33m\u001b[0m\u001b[0m\n\u001b[0;32m      7\u001b[0m     \u001b[1;31m# Add used keyword to the dataframe\u001b[0m\u001b[1;33m\u001b[0m\u001b[1;33m\u001b[0m\u001b[1;33m\u001b[0m\u001b[0m\n",
      "\u001b[1;32m~\\OneDrive - Windesheim Office365\\School\\6 ICTDSe\\Proof of Concept\\SEO-De-Nieuwe-Zaak\\semrush_call.ipynb\u001b[0m in \u001b[0;36mexecute_call\u001b[1;34m(keyword, result_count, export_columns, endpoint_url, potential_overwrite)\u001b[0m\n\u001b[0;32m     89\u001b[0m     \u001b[1;34m\"    x = export_columns.split(',')\\n\"\u001b[0m\u001b[1;33m,\u001b[0m\u001b[1;33m\u001b[0m\u001b[1;33m\u001b[0m\u001b[0m\n\u001b[0;32m     90\u001b[0m     \u001b[1;34m\"    finalKeywordData = finalKeywordData.rename(columns={finalKeywordData.columns[0]:'Number'})\\n\"\u001b[0m\u001b[1;33m,\u001b[0m\u001b[1;33m\u001b[0m\u001b[1;33m\u001b[0m\u001b[0m\n\u001b[1;32m---> 91\u001b[1;33m     \u001b[1;34m\"\\n\"\u001b[0m\u001b[1;33m,\u001b[0m\u001b[1;33m\u001b[0m\u001b[1;33m\u001b[0m\u001b[0m\n\u001b[0m\u001b[0;32m     92\u001b[0m     \u001b[1;34m\"    for i in range(0, (len(finalKeywordData.columns)-1)):\\n\"\u001b[0m\u001b[1;33m,\u001b[0m\u001b[1;33m\u001b[0m\u001b[1;33m\u001b[0m\u001b[0m\n\u001b[0;32m     93\u001b[0m     \u001b[1;34m\"        finalKeywordData = finalKeywordData.rename(columns={finalKeywordData.columns[i+1]:x[i]})\\n\"\u001b[0m\u001b[1;33m,\u001b[0m\u001b[1;33m\u001b[0m\u001b[1;33m\u001b[0m\u001b[0m\n",
      "\u001b[1;31mTypeError\u001b[0m: rename_columns() missing 1 required positional argument: 'export_columns'"
     ]
    }
   ],
   "source": [
    "def ExecuteAllCalls():\n",
    "    # Define variables for the SEMrush call and gather keyword data\n",
    "    export_columns = 'Dn,Ur'\n",
    "    endpoint_url = 'https://api.semrush.com/'\n",
    "    main_dataframe = execute_call(keyword, result_count, export_columns, endpoint_url, potential_overwrite)\n",
    "    \n",
    "    # Add used keyword to the dataframe\n",
    "    keyword_list = []\n",
    "    keyword_list += int(result_count) * [keyword]\n",
    "    main_dataframe['Keyword'] = keyword_list\n",
    "    \n",
    "    # Executing functions from other notebooks to gather data\n",
    "    print(\"0% - Executing LoopGetHeaderCountFromURL\")\n",
    "    main_dataframe['HeaderCount'] = LoopGetHeaderCountFromURL(main_dataframe)\n",
    "    print(\"50% - Executing LoopGetListsCountFromURL\")\n",
    "    main_dataframe['ListsCount'] = LoopGetListsCountFromURL(main_dataframe)\n",
    "    \n",
    "    # Set correct index, potentially save the output and return the dataframe\n",
    "    main_dataframe = main_dataframe.set_index('Number')\n",
    "    main_dataframe_hash = hash_variable(main_dataframe)\n",
    "    if save == True:\n",
    "        main_dataframe.to_csv(f\"calls\\dataframe-{main_dataframe_hash}.csv\")\n",
    "    print(\"100% - Done\")\n",
    "    return main_dataframe\n",
    "        \n",
    "main_dataframe = ExecuteAllCalls()\n",
    "main_dataframe"
   ]
  },
  {
   "cell_type": "code",
   "execution_count": null,
   "metadata": {},
   "outputs": [],
   "source": []
  },
  {
   "cell_type": "code",
   "execution_count": null,
   "metadata": {},
   "outputs": [],
   "source": []
  }
 ],
 "metadata": {
  "kernelspec": {
   "display_name": "Python 3",
   "language": "python",
   "name": "python3"
  },
  "language_info": {
   "codemirror_mode": {
    "name": "ipython",
    "version": 3
   },
   "file_extension": ".py",
   "mimetype": "text/x-python",
   "name": "python",
   "nbconvert_exporter": "python",
   "pygments_lexer": "ipython3",
   "version": "3.8.5"
  }
 },
 "nbformat": 4,
 "nbformat_minor": 4
}
