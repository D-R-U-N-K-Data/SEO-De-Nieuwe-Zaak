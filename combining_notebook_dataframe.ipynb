{
 "cells": [
  {
   "cell_type": "markdown",
   "metadata": {},
   "source": [
    "# Imports"
   ]
  },
  {
   "cell_type": "code",
   "execution_count": 17,
   "metadata": {},
   "outputs": [],
   "source": [
    "# Packages\n",
    "import pandas as pd\n",
    "\n",
    "# Helper functions\n",
    "from ipynb.fs.full.functions import *\n",
    "\n",
    "# Other notebooks for combining code\n",
    "from ipynb.fs.full.semrush_call import execute_call\n",
    "from ipynb.fs.full.text_division_and_styling import LoopGetHeaderCountFromURL, LoopGetListsCountFromURL\n",
    "from ipynb.fs.full.semrush_beoordeling_concurrentieniveau import getKeywordDifficulty \n",
    "from ipynb.fs.full.InboundOutboundScraper import loop_get_all_website_links\n",
    "from ipynb.fs.full.SemRush_InboundOutbound_Backlink import get_all_website_links_semrush\n",
    "from ipynb.fs.full.img_scraper import *"
   ]
  },
  {
   "cell_type": "markdown",
   "metadata": {},
   "source": [
    "# Executing of functions\n",
    "## Variables for keyword search"
   ]
  },
  {
   "cell_type": "code",
   "execution_count": 18,
   "metadata": {},
   "outputs": [],
   "source": [
    "keyword = 'bouwmaterialen' # What keyword do you want to call for?\n",
    "result_count = '1' # How many keyword results do you want to gather data for?\n",
    "\n",
    "# Do you want to overwrite the SEMrush keyword call if it has already been executed before?\n",
    "# This is to save on SEMrush token usage\n",
    "potential_overwrite = False\n",
    "\n",
    "# Do you want to save the result of the end dataframe?\n",
    "save = True"
   ]
  },
  {
   "cell_type": "markdown",
   "metadata": {},
   "source": [
    "## Creating dataframes"
   ]
  },
  {
   "cell_type": "code",
   "execution_count": 21,
   "metadata": {},
   "outputs": [],
   "source": [
    "def ExecuteAllCalls():\n",
    "    # Define variables for the SEMrush call and gather keyword data\n",
    "    export_columns = 'Dn,Ur'\n",
    "    endpoint_url = 'https://api.semrush.com/'\n",
    "    main_dataframe = execute_call(keyword, result_count, export_columns, endpoint_url, potential_overwrite)\n",
    "    \n",
    "    # Add used keyword to the dataframe\n",
    "    keyword_list = []\n",
    "    keyword_list += int(result_count) * [keyword]\n",
    "    main_dataframe['Keyword'] = keyword_list\n",
    "    \n",
    "    # Executing functions from other notebooks to gather data\n",
    "    print(\"  0% - Executing getKeywordDifficulty\")\n",
    "    KeywordDifficultyFunction = getKeywordDifficulty(keyword, potential_overwrite)\n",
    "    KeywordDifficultyList = []\n",
    "    KeywordDifficultyList += int(result_count) * [KeywordDifficultyFunction['Kd'][0]]\n",
    "    main_dataframe['Kd'] = KeywordDifficultyList\n",
    "    \n",
    "    print(\" 15% - Executing LoopGetHeaderCountFromURL\")\n",
    "    main_dataframe['HeaderCount'] = LoopGetHeaderCountFromURL(main_dataframe)\n",
    "    print(\" 30% - Executing LoopGetListsCountFromURL\")\n",
    "    main_dataframe['ListsCount'] = LoopGetListsCountFromURL(main_dataframe)\n",
    "    print(\" 45% - Executing loop_get_all_website_links\")\n",
    "    website_links = loop_get_all_website_links(main_dataframe)\n",
    "    main_dataframe['InternalLinksSoup'] = website_links[0]\n",
    "    main_dataframe['ExternalLinksSoup'] = website_links[1]\n",
    "    print(\" 60% - Executing get_all_website_links_semrush\")\n",
    "    main_dataframe['InternalLinksSEMrush'] = get_all_website_links_semrush(main_dataframe, 'internal', potential_overwrite)\n",
    "    main_dataframe['ExternalLinksSEMrush'] = get_all_website_links_semrush(main_dataframe, 'external', potential_overwrite)\n",
    "    main_dataframe['BacklinksSEMrush'] = get_all_website_links_semrush(main_dataframe, 'backlink', potential_overwrite)\n",
    "    print(\" 75% - Executing createDF\")    \n",
    "    main_dataframe = pd.merge(main_dataframe, createDF(main_dataframe), left_on=['Dn', 'Ur'], right_on=['Domain', 'url'])\n",
    "    \n",
    "    # Set correct index, potentially save the output and return the dataframe\n",
    "    main_dataframe = main_dataframe.set_index('Number')\n",
    "    main_dataframe_hash = hash_variable(main_dataframe)\n",
    "    if save == True:\n",
    "        main_dataframe.to_csv(f\"calls\\dataframe-{main_dataframe_hash}.csv\")\n",
    "    print(\"100% - Done\")\n",
    "    return main_dataframe"
   ]
  },
  {
   "cell_type": "code",
   "execution_count": 22,
   "metadata": {
    "scrolled": true
   },
   "outputs": [
    {
     "name": "stdout",
     "output_type": "stream",
     "text": [
      "Deze call is al een keer uitgevoerd, we gaan verder met de bestaande resultaten.\n",
      "Dit bestand is laatst gewijzigd op: Thu Apr 29 16:07:54 2021\n",
      "  0% - Executing getKeywordDifficulty\n",
      "Deze call is al een keer uitgevoerd, we gaan verder met de bestaande resultaten.\n",
      "Dit bestand is laatst gewijzigd op: Thu Apr 29 16:07:55 2021\n",
      " 15% - Executing LoopGetHeaderCountFromURL\n",
      " 30% - Executing LoopGetListsCountFromURL\n",
      " 45% - Executing loop_get_all_website_links\n",
      " 60% - Executing get_all_website_links_semrush\n",
      "Deze call is al een keer uitgevoerd, we gaan verder met de bestaande resultaten.\n",
      "Dit bestand is laatst gewijzigd op: Thu Apr 29 16:07:57 2021\n",
      "Deze call is al een keer uitgevoerd, we gaan verder met de bestaande resultaten.\n",
      "Dit bestand is laatst gewijzigd op: Thu Apr 29 16:07:57 2021\n",
      "Deze call is al een keer uitgevoerd, we gaan verder met de bestaande resultaten.\n",
      "Dit bestand is laatst gewijzigd op: Thu Apr 29 16:07:57 2021\n",
      " 75% - Executing createDF\n",
      "100% - Done\n"
     ]
    },
    {
     "data": {
      "text/html": [
       "<div>\n",
       "<style scoped>\n",
       "    .dataframe tbody tr th:only-of-type {\n",
       "        vertical-align: middle;\n",
       "    }\n",
       "\n",
       "    .dataframe tbody tr th {\n",
       "        vertical-align: top;\n",
       "    }\n",
       "\n",
       "    .dataframe thead th {\n",
       "        text-align: right;\n",
       "    }\n",
       "</style>\n",
       "<table border=\"1\" class=\"dataframe\">\n",
       "  <thead>\n",
       "    <tr style=\"text-align: right;\">\n",
       "      <th></th>\n",
       "      <th>Dn</th>\n",
       "      <th>Ur</th>\n",
       "      <th>Keyword</th>\n",
       "      <th>Kd</th>\n",
       "      <th>HeaderCount</th>\n",
       "      <th>ListsCount</th>\n",
       "      <th>InternalLinksSoup</th>\n",
       "      <th>ExternalLinksSoup</th>\n",
       "      <th>InternalLinksSEMrush</th>\n",
       "      <th>ExternalLinksSEMrush</th>\n",
       "      <th>BacklinksSEMrush</th>\n",
       "      <th>Domain</th>\n",
       "      <th>url</th>\n",
       "      <th>Total Images</th>\n",
       "      <th>Image Tags</th>\n",
       "      <th>Content-length</th>\n",
       "      <th>META-Title</th>\n",
       "      <th>META-Description</th>\n",
       "      <th>Creation Date</th>\n",
       "    </tr>\n",
       "    <tr>\n",
       "      <th>Number</th>\n",
       "      <th></th>\n",
       "      <th></th>\n",
       "      <th></th>\n",
       "      <th></th>\n",
       "      <th></th>\n",
       "      <th></th>\n",
       "      <th></th>\n",
       "      <th></th>\n",
       "      <th></th>\n",
       "      <th></th>\n",
       "      <th></th>\n",
       "      <th></th>\n",
       "      <th></th>\n",
       "      <th></th>\n",
       "      <th></th>\n",
       "      <th></th>\n",
       "      <th></th>\n",
       "      <th></th>\n",
       "      <th></th>\n",
       "    </tr>\n",
       "  </thead>\n",
       "  <tbody>\n",
       "  </tbody>\n",
       "</table>\n",
       "</div>"
      ],
      "text/plain": [
       "Empty DataFrame\n",
       "Columns: [Dn, Ur, Keyword, Kd, HeaderCount, ListsCount, InternalLinksSoup, ExternalLinksSoup, InternalLinksSEMrush, ExternalLinksSEMrush, BacklinksSEMrush, Domain, url, Total Images, Image Tags, Content-length, META-Title, META-Description, Creation Date]\n",
       "Index: []"
      ]
     },
     "execution_count": 22,
     "metadata": {},
     "output_type": "execute_result"
    }
   ],
   "source": [
    "main_dataframe = ExecuteAllCalls()\n",
    "main_dataframe"
   ]
  },
  {
   "cell_type": "code",
   "execution_count": null,
   "metadata": {},
   "outputs": [],
   "source": []
  }
 ],
 "metadata": {
  "kernelspec": {
   "display_name": "Python 3",
   "language": "python",
   "name": "python3"
  },
  "language_info": {
   "codemirror_mode": {
    "name": "ipython",
    "version": 3
   },
   "file_extension": ".py",
   "mimetype": "text/x-python",
   "name": "python",
   "nbconvert_exporter": "python",
   "pygments_lexer": "ipython3",
   "version": "3.8.5"
  }
 },
 "nbformat": 4,
 "nbformat_minor": 4
}
