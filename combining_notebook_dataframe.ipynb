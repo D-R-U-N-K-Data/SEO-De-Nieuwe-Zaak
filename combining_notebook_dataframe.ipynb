{
 "cells": [
  {
   "cell_type": "markdown",
   "metadata": {},
   "source": [
    "# Imports"
   ]
  },
  {
   "cell_type": "code",
   "execution_count": 1,
   "metadata": {},
   "outputs": [
    {
     "name": "stdout",
     "output_type": "stream",
     "text": [
      "Deze call is al een keer uitgevoerd, we gaan verder met de bestaande resultaten.\n",
      "Dit bestand is laatst gewijzigd op: Thu Apr 29 16:00:24 2021\n"
     ]
    }
   ],
   "source": [
    "# Packages\n",
    "import pandas as pd\n",
    "\n",
    "# Helper functions\n",
    "from ipynb.fs.full.functions import *\n",
    "\n",
    "# Other notebooks for combining code\n",
    "from ipynb.fs.full.semrush_call import execute_call\n",
    "from ipynb.fs.full.text_division_and_styling import LoopGetHeaderCountFromURL, LoopGetListsCountFromURL\n",
    "from ipynb.fs.full.semrush_beoordeling_concurrentieniveau import getKeywordDifficulty \n",
    "from ipynb.fs.full.InboundOutboundScraper import loop_get_all_website_links\n",
    "from ipynb.fs.full.SemRush_InboundOutbound_Backlink import get_all_website_links_semrush"
   ]
  },
  {
   "cell_type": "markdown",
   "metadata": {},
   "source": [
    "# Executing of functions\n",
    "## Variables for keyword search"
   ]
  },
  {
   "cell_type": "code",
   "execution_count": 2,
   "metadata": {},
   "outputs": [],
   "source": [
    "keyword = 'bouwmaterialen' # What keyword do you want to call for?\n",
    "result_count = '1' # How many keyword results do you want to gather data for?\n",
    "\n",
    "# Do you want to overwrite the SEMrush keyword call if it has already been executed before?\n",
    "# This is to save on SEMrush token usage\n",
    "potential_overwrite = False\n",
    "\n",
    "# Do you want to save the result of the end dataframe?\n",
    "save = True"
   ]
  },
  {
   "cell_type": "markdown",
   "metadata": {},
   "source": [
    "## Creating dataframes"
   ]
  },
  {
   "cell_type": "code",
   "execution_count": 3,
   "metadata": {},
   "outputs": [],
   "source": [
    "def ExecuteAllCalls():\n",
    "    # Define variables for the SEMrush call and gather keyword data\n",
    "    export_columns = 'Dn,Ur'\n",
    "    endpoint_url = 'https://api.semrush.com/'\n",
    "    main_dataframe = execute_call(keyword, result_count, export_columns, endpoint_url, potential_overwrite)\n",
    "    \n",
    "    # Add used keyword to the dataframe\n",
    "    keyword_list = []\n",
    "    keyword_list += int(result_count) * [keyword]\n",
    "    main_dataframe['Keyword'] = keyword_list\n",
    "    \n",
    "    # Executing functions from other notebooks to gather data\n",
    "    print(\"  0% - Executing getKeywordDifficulty\")\n",
    "    KeywordDifficultyFunction = getKeywordDifficulty(keyword, potential_overwrite)\n",
    "    KeywordDifficultyList = []\n",
    "    KeywordDifficultyList += int(result_count) * [KeywordDifficultyFunction['Kd'][0]]\n",
    "    main_dataframe['Kd'] = KeywordDifficultyList\n",
    "    \n",
    "    print(\" 25% - Executing LoopGetHeaderCountFromURL\")\n",
    "    main_dataframe['HeaderCount'] = LoopGetHeaderCountFromURL(main_dataframe)\n",
    "    print(\" 50% - Executing LoopGetListsCountFromURL\")\n",
    "    main_dataframe['ListsCount'] = LoopGetListsCountFromURL(main_dataframe)\n",
    "    print(\" 75% - Executing loop_get_all_website_links\")\n",
    "    website_links = loop_get_all_website_links(main_dataframe)\n",
    "    main_dataframe['InternalLinksSoup'] = website_links[0]\n",
    "    main_dataframe['ExternalLinksSoup'] = website_links[1]\n",
    "    print(\" 90% - Executing get_all_website_links_semrush\")\n",
    "    main_dataframe['InternalLinksSEMrush'] = get_all_website_links_semrush(main_dataframe, 'internal', potential_overwrite)\n",
    "    main_dataframe['ExternalLinksSEMrush'] = get_all_website_links_semrush(main_dataframe, 'external', potential_overwrite)\n",
    "    main_dataframe['BacklinksSEMrush'] = get_all_website_links_semrush(main_dataframe, 'backlink', potential_overwrite)\n",
    "    \n",
    "    # Set correct index, potentially save the output and return the dataframe\n",
    "    main_dataframe = main_dataframe.set_index('Number')\n",
    "    main_dataframe_hash = hash_variable(main_dataframe)\n",
    "    if save == True:\n",
    "        main_dataframe.to_csv(f\"calls\\dataframe-{main_dataframe_hash}.csv\")\n",
    "    print(\"100% - Done\")\n",
    "    return main_dataframe"
   ]
  },
  {
   "cell_type": "code",
   "execution_count": 4,
   "metadata": {},
   "outputs": [
    {
     "name": "stdout",
     "output_type": "stream",
     "text": [
      "Deze call is al een keer uitgevoerd, we gaan verder met de bestaande resultaten.\n",
      "Dit bestand is laatst gewijzigd op: Thu Apr 29 16:00:05 2021\n",
      "  0% - Executing getKeywordDifficulty\n",
      "Deze call is al een keer uitgevoerd, we gaan verder met de bestaande resultaten.\n",
      "Dit bestand is laatst gewijzigd op: Thu Apr 29 16:00:05 2021\n",
      " 25% - Executing LoopGetHeaderCountFromURL\n",
      " 50% - Executing LoopGetListsCountFromURL\n",
      " 75% - Executing loop_get_all_website_links\n",
      " 90% - Executing get_all_website_links_semrush\n",
      "Deze call is al een keer uitgevoerd, we gaan verder met de bestaande resultaten.\n",
      "Dit bestand is laatst gewijzigd op: Thu Apr 29 16:00:07 2021\n"
     ]
    },
    {
     "ename": "KeyError",
     "evalue": "'0'",
     "output_type": "error",
     "traceback": [
      "\u001b[1;31m---------------------------------------------------------------------------\u001b[0m",
      "\u001b[1;31mKeyError\u001b[0m                                  Traceback (most recent call last)",
      "\u001b[1;32m~\\anaconda3\\lib\\site-packages\\pandas\\core\\indexes\\base.py\u001b[0m in \u001b[0;36mget_loc\u001b[1;34m(self, key, method, tolerance)\u001b[0m\n\u001b[0;32m   2894\u001b[0m             \u001b[1;32mtry\u001b[0m\u001b[1;33m:\u001b[0m\u001b[1;33m\u001b[0m\u001b[1;33m\u001b[0m\u001b[0m\n\u001b[1;32m-> 2895\u001b[1;33m                 \u001b[1;32mreturn\u001b[0m \u001b[0mself\u001b[0m\u001b[1;33m.\u001b[0m\u001b[0m_engine\u001b[0m\u001b[1;33m.\u001b[0m\u001b[0mget_loc\u001b[0m\u001b[1;33m(\u001b[0m\u001b[0mcasted_key\u001b[0m\u001b[1;33m)\u001b[0m\u001b[1;33m\u001b[0m\u001b[1;33m\u001b[0m\u001b[0m\n\u001b[0m\u001b[0;32m   2896\u001b[0m             \u001b[1;32mexcept\u001b[0m \u001b[0mKeyError\u001b[0m \u001b[1;32mas\u001b[0m \u001b[0merr\u001b[0m\u001b[1;33m:\u001b[0m\u001b[1;33m\u001b[0m\u001b[1;33m\u001b[0m\u001b[0m\n",
      "\u001b[1;32mpandas\\_libs\\index.pyx\u001b[0m in \u001b[0;36mpandas._libs.index.IndexEngine.get_loc\u001b[1;34m()\u001b[0m\n",
      "\u001b[1;32mpandas\\_libs\\index.pyx\u001b[0m in \u001b[0;36mpandas._libs.index.IndexEngine.get_loc\u001b[1;34m()\u001b[0m\n",
      "\u001b[1;32mpandas\\_libs\\hashtable_class_helper.pxi\u001b[0m in \u001b[0;36mpandas._libs.hashtable.PyObjectHashTable.get_item\u001b[1;34m()\u001b[0m\n",
      "\u001b[1;32mpandas\\_libs\\hashtable_class_helper.pxi\u001b[0m in \u001b[0;36mpandas._libs.hashtable.PyObjectHashTable.get_item\u001b[1;34m()\u001b[0m\n",
      "\u001b[1;31mKeyError\u001b[0m: '0'",
      "\nThe above exception was the direct cause of the following exception:\n",
      "\u001b[1;31mKeyError\u001b[0m                                  Traceback (most recent call last)",
      "\u001b[1;32m<ipython-input-4-f603d74f3679>\u001b[0m in \u001b[0;36m<module>\u001b[1;34m\u001b[0m\n\u001b[1;32m----> 1\u001b[1;33m \u001b[0mmain_dataframe\u001b[0m \u001b[1;33m=\u001b[0m \u001b[0mExecuteAllCalls\u001b[0m\u001b[1;33m(\u001b[0m\u001b[1;33m)\u001b[0m\u001b[1;33m\u001b[0m\u001b[1;33m\u001b[0m\u001b[0m\n\u001b[0m\u001b[0;32m      2\u001b[0m \u001b[0mmain_dataframe\u001b[0m\u001b[1;33m\u001b[0m\u001b[1;33m\u001b[0m\u001b[0m\n",
      "\u001b[1;32m<ipython-input-3-386b7014f85b>\u001b[0m in \u001b[0;36mExecuteAllCalls\u001b[1;34m()\u001b[0m\n\u001b[0;32m     26\u001b[0m     \u001b[0mmain_dataframe\u001b[0m\u001b[1;33m[\u001b[0m\u001b[1;34m'ExternalLinksSoup'\u001b[0m\u001b[1;33m]\u001b[0m \u001b[1;33m=\u001b[0m \u001b[0mwebsite_links\u001b[0m\u001b[1;33m[\u001b[0m\u001b[1;36m1\u001b[0m\u001b[1;33m]\u001b[0m\u001b[1;33m\u001b[0m\u001b[1;33m\u001b[0m\u001b[0m\n\u001b[0;32m     27\u001b[0m     \u001b[0mprint\u001b[0m\u001b[1;33m(\u001b[0m\u001b[1;34m\" 90% - Executing get_all_website_links_semrush\"\u001b[0m\u001b[1;33m)\u001b[0m\u001b[1;33m\u001b[0m\u001b[1;33m\u001b[0m\u001b[0m\n\u001b[1;32m---> 28\u001b[1;33m     \u001b[0mmain_dataframe\u001b[0m\u001b[1;33m[\u001b[0m\u001b[1;34m'InternalLinksSEMrush'\u001b[0m\u001b[1;33m]\u001b[0m \u001b[1;33m=\u001b[0m \u001b[0mget_all_website_links_semrush\u001b[0m\u001b[1;33m(\u001b[0m\u001b[0mmain_dataframe\u001b[0m\u001b[1;33m,\u001b[0m \u001b[1;34m'internal'\u001b[0m\u001b[1;33m,\u001b[0m \u001b[0mpotential_overwrite\u001b[0m\u001b[1;33m)\u001b[0m\u001b[1;33m\u001b[0m\u001b[1;33m\u001b[0m\u001b[0m\n\u001b[0m\u001b[0;32m     29\u001b[0m     \u001b[0mmain_dataframe\u001b[0m\u001b[1;33m[\u001b[0m\u001b[1;34m'ExternalLinksSEMrush'\u001b[0m\u001b[1;33m]\u001b[0m \u001b[1;33m=\u001b[0m \u001b[0mget_all_website_links_semrush\u001b[0m\u001b[1;33m(\u001b[0m\u001b[0mmain_dataframe\u001b[0m\u001b[1;33m,\u001b[0m \u001b[1;34m'external'\u001b[0m\u001b[1;33m,\u001b[0m \u001b[0mpotential_overwrite\u001b[0m\u001b[1;33m)\u001b[0m\u001b[1;33m\u001b[0m\u001b[1;33m\u001b[0m\u001b[0m\n\u001b[0;32m     30\u001b[0m     \u001b[0mmain_dataframe\u001b[0m\u001b[1;33m[\u001b[0m\u001b[1;34m'BacklinksSEMrush'\u001b[0m\u001b[1;33m]\u001b[0m \u001b[1;33m=\u001b[0m \u001b[0mget_all_website_links_semrush\u001b[0m\u001b[1;33m(\u001b[0m\u001b[0mmain_dataframe\u001b[0m\u001b[1;33m,\u001b[0m \u001b[1;34m'backlink'\u001b[0m\u001b[1;33m,\u001b[0m \u001b[0mpotential_overwrite\u001b[0m\u001b[1;33m)\u001b[0m\u001b[1;33m\u001b[0m\u001b[1;33m\u001b[0m\u001b[0m\n",
      "\u001b[1;32m~\\OneDrive - Windesheim Office365\\School\\6 ICTDSe\\Proof of Concept\\SEO-De-Nieuwe-Zaak\\SemRush_InboundOutbound_Backlink.ipynb\u001b[0m in \u001b[0;36mget_all_website_links_semrush\u001b[1;34m(dataframe, linktype, potential_overwrite)\u001b[0m\n\u001b[0;32m     82\u001b[0m     \u001b[1;34m\"                    backlink_params['target'] = finalBacklinkData.Ur[i]\\n\"\u001b[0m\u001b[1;33m,\u001b[0m\u001b[1;33m\u001b[0m\u001b[1;33m\u001b[0m\u001b[0m\n\u001b[0;32m     83\u001b[0m     \u001b[1;34m\"\\n\"\u001b[0m\u001b[1;33m,\u001b[0m\u001b[1;33m\u001b[0m\u001b[1;33m\u001b[0m\u001b[0m\n\u001b[1;32m---> 84\u001b[1;33m     \u001b[1;34m\"                data = requests.get(semrush_call(backlink_params, endpoint_url))\\n\"\u001b[0m\u001b[1;33m,\u001b[0m\u001b[1;33m\u001b[0m\u001b[1;33m\u001b[0m\u001b[0m\n\u001b[0m\u001b[0;32m     85\u001b[0m     \u001b[1;34m\"                parsed_data = parse_response(data.content)\\n\"\u001b[0m\u001b[1;33m,\u001b[0m\u001b[1;33m\u001b[0m\u001b[1;33m\u001b[0m\u001b[0m\n\u001b[0;32m     86\u001b[0m     \u001b[1;34m\"        \\n\"\u001b[0m\u001b[1;33m,\u001b[0m\u001b[1;33m\u001b[0m\u001b[1;33m\u001b[0m\u001b[0m\n",
      "\u001b[1;32m~\\anaconda3\\lib\\site-packages\\pandas\\core\\frame.py\u001b[0m in \u001b[0;36m__getitem__\u001b[1;34m(self, key)\u001b[0m\n\u001b[0;32m   2900\u001b[0m             \u001b[1;32mif\u001b[0m \u001b[0mself\u001b[0m\u001b[1;33m.\u001b[0m\u001b[0mcolumns\u001b[0m\u001b[1;33m.\u001b[0m\u001b[0mnlevels\u001b[0m \u001b[1;33m>\u001b[0m \u001b[1;36m1\u001b[0m\u001b[1;33m:\u001b[0m\u001b[1;33m\u001b[0m\u001b[1;33m\u001b[0m\u001b[0m\n\u001b[0;32m   2901\u001b[0m                 \u001b[1;32mreturn\u001b[0m \u001b[0mself\u001b[0m\u001b[1;33m.\u001b[0m\u001b[0m_getitem_multilevel\u001b[0m\u001b[1;33m(\u001b[0m\u001b[0mkey\u001b[0m\u001b[1;33m)\u001b[0m\u001b[1;33m\u001b[0m\u001b[1;33m\u001b[0m\u001b[0m\n\u001b[1;32m-> 2902\u001b[1;33m             \u001b[0mindexer\u001b[0m \u001b[1;33m=\u001b[0m \u001b[0mself\u001b[0m\u001b[1;33m.\u001b[0m\u001b[0mcolumns\u001b[0m\u001b[1;33m.\u001b[0m\u001b[0mget_loc\u001b[0m\u001b[1;33m(\u001b[0m\u001b[0mkey\u001b[0m\u001b[1;33m)\u001b[0m\u001b[1;33m\u001b[0m\u001b[1;33m\u001b[0m\u001b[0m\n\u001b[0m\u001b[0;32m   2903\u001b[0m             \u001b[1;32mif\u001b[0m \u001b[0mis_integer\u001b[0m\u001b[1;33m(\u001b[0m\u001b[0mindexer\u001b[0m\u001b[1;33m)\u001b[0m\u001b[1;33m:\u001b[0m\u001b[1;33m\u001b[0m\u001b[1;33m\u001b[0m\u001b[0m\n\u001b[0;32m   2904\u001b[0m                 \u001b[0mindexer\u001b[0m \u001b[1;33m=\u001b[0m \u001b[1;33m[\u001b[0m\u001b[0mindexer\u001b[0m\u001b[1;33m]\u001b[0m\u001b[1;33m\u001b[0m\u001b[1;33m\u001b[0m\u001b[0m\n",
      "\u001b[1;32m~\\anaconda3\\lib\\site-packages\\pandas\\core\\indexes\\base.py\u001b[0m in \u001b[0;36mget_loc\u001b[1;34m(self, key, method, tolerance)\u001b[0m\n\u001b[0;32m   2895\u001b[0m                 \u001b[1;32mreturn\u001b[0m \u001b[0mself\u001b[0m\u001b[1;33m.\u001b[0m\u001b[0m_engine\u001b[0m\u001b[1;33m.\u001b[0m\u001b[0mget_loc\u001b[0m\u001b[1;33m(\u001b[0m\u001b[0mcasted_key\u001b[0m\u001b[1;33m)\u001b[0m\u001b[1;33m\u001b[0m\u001b[1;33m\u001b[0m\u001b[0m\n\u001b[0;32m   2896\u001b[0m             \u001b[1;32mexcept\u001b[0m \u001b[0mKeyError\u001b[0m \u001b[1;32mas\u001b[0m \u001b[0merr\u001b[0m\u001b[1;33m:\u001b[0m\u001b[1;33m\u001b[0m\u001b[1;33m\u001b[0m\u001b[0m\n\u001b[1;32m-> 2897\u001b[1;33m                 \u001b[1;32mraise\u001b[0m \u001b[0mKeyError\u001b[0m\u001b[1;33m(\u001b[0m\u001b[0mkey\u001b[0m\u001b[1;33m)\u001b[0m \u001b[1;32mfrom\u001b[0m \u001b[0merr\u001b[0m\u001b[1;33m\u001b[0m\u001b[1;33m\u001b[0m\u001b[0m\n\u001b[0m\u001b[0;32m   2898\u001b[0m \u001b[1;33m\u001b[0m\u001b[0m\n\u001b[0;32m   2899\u001b[0m         \u001b[1;32mif\u001b[0m \u001b[0mtolerance\u001b[0m \u001b[1;32mis\u001b[0m \u001b[1;32mnot\u001b[0m \u001b[1;32mNone\u001b[0m\u001b[1;33m:\u001b[0m\u001b[1;33m\u001b[0m\u001b[1;33m\u001b[0m\u001b[0m\n",
      "\u001b[1;31mKeyError\u001b[0m: '0'"
     ]
    }
   ],
   "source": [
    "main_dataframe = ExecuteAllCalls()\n",
    "main_dataframe"
   ]
  },
  {
   "cell_type": "code",
   "execution_count": null,
   "metadata": {},
   "outputs": [],
   "source": []
  }
 ],
 "metadata": {
  "kernelspec": {
   "display_name": "Python 3",
   "language": "python",
   "name": "python3"
  },
  "language_info": {
   "codemirror_mode": {
    "name": "ipython",
    "version": 3
   },
   "file_extension": ".py",
   "mimetype": "text/x-python",
   "name": "python",
   "nbconvert_exporter": "python",
   "pygments_lexer": "ipython3",
   "version": "3.8.5"
  }
 },
 "nbformat": 4,
 "nbformat_minor": 4
}
