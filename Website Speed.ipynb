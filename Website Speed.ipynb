{
 "cells": [
  {
   "cell_type": "code",
   "execution_count": 12,
   "metadata": {},
   "outputs": [],
   "source": [
    "from PythonPSI.api import PSI\n",
    "import pandas as pd"
   ]
  },
  {
   "cell_type": "code",
   "execution_count": null,
   "metadata": {},
   "outputs": [],
   "source": [
    "\n",
    "\n",
    "bouwmaat = PSI('www.bouwmaat.nl/bouwmaterialen', category='performance', locale='en', stratergy='desktop', metrics='loadingExperience')"
   ]
  },
  {
   "cell_type": "code",
   "execution_count": 26,
   "metadata": {},
   "outputs": [
    {
     "data": {
      "text/plain": [
       "{'percentile': 2566,\n",
       " 'distributions': [{'min': 0, 'max': 2500, 'proportion': 0.7384189905508143},\n",
       "  {'min': 2500, 'max': 4000, 'proportion': 0.17331182300069048},\n",
       "  {'min': 4000, 'proportion': 0.08826918644849098}],\n",
       " 'category': 'AVERAGE'}"
      ]
     },
     "execution_count": 26,
     "metadata": {},
     "output_type": "execute_result"
    }
   ],
   "source": [
    "df = pd.DataFrame.from_dict(bouwmaat)\n",
    "df.loc[\"LARGEST_CONTENTFUL_PAINT_MS\",\"metrics\"]"
   ]
  },
  {
   "cell_type": "code",
   "execution_count": 27,
   "metadata": {},
   "outputs": [
    {
     "data": {
      "text/html": [
       "<div>\n",
       "<style scoped>\n",
       "    .dataframe tbody tr th:only-of-type {\n",
       "        vertical-align: middle;\n",
       "    }\n",
       "\n",
       "    .dataframe tbody tr th {\n",
       "        vertical-align: top;\n",
       "    }\n",
       "\n",
       "    .dataframe thead th {\n",
       "        text-align: right;\n",
       "    }\n",
       "</style>\n",
       "<table border=\"1\" class=\"dataframe\">\n",
       "  <thead>\n",
       "    <tr style=\"text-align: right;\">\n",
       "      <th></th>\n",
       "      <th>id</th>\n",
       "      <th>metrics</th>\n",
       "      <th>overall_category</th>\n",
       "      <th>initial_url</th>\n",
       "    </tr>\n",
       "  </thead>\n",
       "  <tbody>\n",
       "    <tr>\n",
       "      <th>CUMULATIVE_LAYOUT_SHIFT_SCORE</th>\n",
       "      <td>https://www.bouwmaat.nl/bouwmaterialen</td>\n",
       "      <td>{'percentile': 82, 'distributions': [{'min': 0...</td>\n",
       "      <td>SLOW</td>\n",
       "      <td>https://www.bouwmaat.nl/bouwmaterialen</td>\n",
       "    </tr>\n",
       "    <tr>\n",
       "      <th>FIRST_CONTENTFUL_PAINT_MS</th>\n",
       "      <td>https://www.bouwmaat.nl/bouwmaterialen</td>\n",
       "      <td>{'percentile': 1273, 'distributions': [{'min':...</td>\n",
       "      <td>SLOW</td>\n",
       "      <td>https://www.bouwmaat.nl/bouwmaterialen</td>\n",
       "    </tr>\n",
       "    <tr>\n",
       "      <th>FIRST_INPUT_DELAY_MS</th>\n",
       "      <td>https://www.bouwmaat.nl/bouwmaterialen</td>\n",
       "      <td>{'percentile': 5, 'distributions': [{'min': 0,...</td>\n",
       "      <td>SLOW</td>\n",
       "      <td>https://www.bouwmaat.nl/bouwmaterialen</td>\n",
       "    </tr>\n",
       "    <tr>\n",
       "      <th>LARGEST_CONTENTFUL_PAINT_MS</th>\n",
       "      <td>https://www.bouwmaat.nl/bouwmaterialen</td>\n",
       "      <td>{'percentile': 2566, 'distributions': [{'min':...</td>\n",
       "      <td>SLOW</td>\n",
       "      <td>https://www.bouwmaat.nl/bouwmaterialen</td>\n",
       "    </tr>\n",
       "  </tbody>\n",
       "</table>\n",
       "</div>"
      ],
      "text/plain": [
       "                                                                   id  \\\n",
       "CUMULATIVE_LAYOUT_SHIFT_SCORE  https://www.bouwmaat.nl/bouwmaterialen   \n",
       "FIRST_CONTENTFUL_PAINT_MS      https://www.bouwmaat.nl/bouwmaterialen   \n",
       "FIRST_INPUT_DELAY_MS           https://www.bouwmaat.nl/bouwmaterialen   \n",
       "LARGEST_CONTENTFUL_PAINT_MS    https://www.bouwmaat.nl/bouwmaterialen   \n",
       "\n",
       "                                                                         metrics  \\\n",
       "CUMULATIVE_LAYOUT_SHIFT_SCORE  {'percentile': 82, 'distributions': [{'min': 0...   \n",
       "FIRST_CONTENTFUL_PAINT_MS      {'percentile': 1273, 'distributions': [{'min':...   \n",
       "FIRST_INPUT_DELAY_MS           {'percentile': 5, 'distributions': [{'min': 0,...   \n",
       "LARGEST_CONTENTFUL_PAINT_MS    {'percentile': 2566, 'distributions': [{'min':...   \n",
       "\n",
       "                              overall_category  \\\n",
       "CUMULATIVE_LAYOUT_SHIFT_SCORE             SLOW   \n",
       "FIRST_CONTENTFUL_PAINT_MS                 SLOW   \n",
       "FIRST_INPUT_DELAY_MS                      SLOW   \n",
       "LARGEST_CONTENTFUL_PAINT_MS               SLOW   \n",
       "\n",
       "                                                          initial_url  \n",
       "CUMULATIVE_LAYOUT_SHIFT_SCORE  https://www.bouwmaat.nl/bouwmaterialen  \n",
       "FIRST_CONTENTFUL_PAINT_MS      https://www.bouwmaat.nl/bouwmaterialen  \n",
       "FIRST_INPUT_DELAY_MS           https://www.bouwmaat.nl/bouwmaterialen  \n",
       "LARGEST_CONTENTFUL_PAINT_MS    https://www.bouwmaat.nl/bouwmaterialen  "
      ]
     },
     "execution_count": 27,
     "metadata": {},
     "output_type": "execute_result"
    }
   ],
   "source": [
    "df"
   ]
  },
  {
   "cell_type": "code",
   "execution_count": 80,
   "metadata": {},
   "outputs": [
    {
     "data": {
      "text/html": [
       "<div>\n",
       "<style scoped>\n",
       "    .dataframe tbody tr th:only-of-type {\n",
       "        vertical-align: middle;\n",
       "    }\n",
       "\n",
       "    .dataframe tbody tr th {\n",
       "        vertical-align: top;\n",
       "    }\n",
       "\n",
       "    .dataframe thead th {\n",
       "        text-align: right;\n",
       "    }\n",
       "</style>\n",
       "<table border=\"1\" class=\"dataframe\">\n",
       "  <thead>\n",
       "    <tr style=\"text-align: right;\">\n",
       "      <th></th>\n",
       "      <th>0</th>\n",
       "    </tr>\n",
       "  </thead>\n",
       "  <tbody>\n",
       "    <tr>\n",
       "      <th>FCP</th>\n",
       "      <td>1273</td>\n",
       "    </tr>\n",
       "    <tr>\n",
       "      <th>LCP</th>\n",
       "      <td>2566</td>\n",
       "    </tr>\n",
       "    <tr>\n",
       "      <th>FID</th>\n",
       "      <td>5</td>\n",
       "    </tr>\n",
       "    <tr>\n",
       "      <th>CLS</th>\n",
       "      <td>82</td>\n",
       "    </tr>\n",
       "  </tbody>\n",
       "</table>\n",
       "</div>"
      ],
      "text/plain": [
       "        0\n",
       "FCP  1273\n",
       "LCP  2566\n",
       "FID     5\n",
       "CLS    82"
      ]
     },
     "execution_count": 80,
     "metadata": {},
     "output_type": "execute_result"
    }
   ],
   "source": [
    "cls = pd.DataFrame(df.loc[\"CUMULATIVE_LAYOUT_SHIFT_SCORE\",\"metrics\"]).percentile.iloc[0]\n",
    "fcp = pd.DataFrame(df.loc[\"FIRST_CONTENTFUL_PAINT_MS\",\"metrics\"]).percentile.iloc[0]\n",
    "fid = pd.DataFrame(df.loc[\"FIRST_INPUT_DELAY_MS\",\"metrics\"]).percentile.iloc[0]\n",
    "lcp = pd.DataFrame(df.loc[\"LARGEST_CONTENTFUL_PAINT_MS\",\"metrics\"]).percentile.iloc[0]\n",
    "\n",
    "results = {\"FCP\":fcp,\"LCP\":lcp,\"FID\":fid,\"CLS\":cls}\n",
    "\n",
    "pd.DataFrame.from_dict(results, orient='index')"
   ]
  },
  {
   "cell_type": "code",
   "execution_count": null,
   "metadata": {},
   "outputs": [],
   "source": []
  },
  {
   "cell_type": "code",
   "execution_count": null,
   "metadata": {},
   "outputs": [],
   "source": []
  },
  {
   "cell_type": "code",
   "execution_count": null,
   "metadata": {},
   "outputs": [],
   "source": []
  },
  {
   "cell_type": "code",
   "execution_count": null,
   "metadata": {},
   "outputs": [],
   "source": []
  },
  {
   "cell_type": "code",
   "execution_count": null,
   "metadata": {},
   "outputs": [],
   "source": []
  }
 ],
 "metadata": {
  "kernelspec": {
   "display_name": "Python 3",
   "language": "python",
   "name": "python3"
  },
  "language_info": {
   "codemirror_mode": {
    "name": "ipython",
    "version": 3
   },
   "file_extension": ".py",
   "mimetype": "text/x-python",
   "name": "python",
   "nbconvert_exporter": "python",
   "pygments_lexer": "ipython3",
   "version": "3.8.5"
  }
 },
 "nbformat": 4,
 "nbformat_minor": 4
}
