{
 "cells": [
  {
   "cell_type": "code",
   "execution_count": 1,
   "metadata": {},
   "outputs": [],
   "source": [
    "from ipynb.fs.full.semrush_call import *"
   ]
  },
  {
   "cell_type": "code",
   "execution_count": 2,
   "metadata": {},
   "outputs": [],
   "source": [
    "### Function used to call all other functions to get the data in a formatted way\n",
    "def getKeywordDifficulty(keyword, potential_overwrite):\n",
    "    endpoint_url = \"https://api.semrush.com/\"\n",
    "    export_columns = \"Kd\"\n",
    "    params = {\n",
    "    \"?type\": 'phrase_kdi',\n",
    "    'key': 'b9fd485dbbcc0d31bc30e828806fd14c',\n",
    "    'phrase': keyword,\n",
    "    'export_columns': export_columns, # Columns from https://www.semrush.com/api-analytics/#columns\n",
    "    'database': 'nl', # Country of market\n",
    "    }\n",
    "    \n",
    "    params_hashed = hash_variable(params)\n",
    "    file_exists = existing_file(params_hashed, \"keywordDifficulty\", potential_overwrite)\n",
    "    \n",
    "    if file_exists == True: # Just load CSV file\n",
    "        finalKeywordData = pd.read_csv(f\"calls\\keywordDifficulty-{params_hashed}.csv\")\n",
    "        return rename_columns(finalKeywordData, export_columns)\n",
    "    else: # Execute query and save to CSV file\n",
    "        data = requests.get(semrush_call(params, endpoint_url))\n",
    "        parsed_data = parse_response(data.content)\n",
    "        finalKeywordData = pd.DataFrame(parsed_data)\n",
    "        # Add the finalKeywordData to the dataframe and a new CSV file\n",
    "        finalKeywordData.to_csv(f\"calls\\keywordDifficulty-{params_hashed}.csv\")\n",
    "        finalKeywordData = pd.read_csv(f\"calls\\keywordDifficulty-{params_hashed}.csv\") # Make sure to read from CSV to easily make format uniform\n",
    "        return rename_columns(finalKeywordData, export_columns)"
   ]
  },
  {
   "cell_type": "code",
   "execution_count": 6,
   "metadata": {},
   "outputs": [
    {
     "name": "stdout",
     "output_type": "stream",
     "text": [
      "Deze call is al een keer uitgevoerd, we gaan verder met de bestaande resultaten.\n",
      "Dit bestand is laatst gewijzigd op: Thu Apr 29 16:00:24 2021\n"
     ]
    },
    {
     "data": {
      "text/html": [
       "<div>\n",
       "<style scoped>\n",
       "    .dataframe tbody tr th:only-of-type {\n",
       "        vertical-align: middle;\n",
       "    }\n",
       "\n",
       "    .dataframe tbody tr th {\n",
       "        vertical-align: top;\n",
       "    }\n",
       "\n",
       "    .dataframe thead th {\n",
       "        text-align: right;\n",
       "    }\n",
       "</style>\n",
       "<table border=\"1\" class=\"dataframe\">\n",
       "  <thead>\n",
       "    <tr style=\"text-align: right;\">\n",
       "      <th></th>\n",
       "      <th>Unnamed: 0</th>\n",
       "      <th>0</th>\n",
       "    </tr>\n",
       "  </thead>\n",
       "  <tbody>\n",
       "    <tr>\n",
       "      <th>0</th>\n",
       "      <td>0</td>\n",
       "      <td>83.06</td>\n",
       "    </tr>\n",
       "  </tbody>\n",
       "</table>\n",
       "</div>"
      ],
      "text/plain": [
       "   Unnamed: 0      0\n",
       "0           0  83.06"
      ]
     },
     "execution_count": 6,
     "metadata": {},
     "output_type": "execute_result"
    }
   ],
   "source": [
    "# result = getKeywordDifficulty('konijn', False)\n",
    "# result"
   ]
  },
  {
   "cell_type": "code",
   "execution_count": null,
   "metadata": {},
   "outputs": [],
   "source": []
  }
 ],
 "metadata": {
  "kernelspec": {
   "display_name": "Python 3",
   "language": "python",
   "name": "python3"
  },
  "language_info": {
   "codemirror_mode": {
    "name": "ipython",
    "version": 3
   },
   "file_extension": ".py",
   "mimetype": "text/x-python",
   "name": "python",
   "nbconvert_exporter": "python",
   "pygments_lexer": "ipython3",
   "version": "3.8.8"
  }
 },
 "nbformat": 4,
 "nbformat_minor": 4
}
