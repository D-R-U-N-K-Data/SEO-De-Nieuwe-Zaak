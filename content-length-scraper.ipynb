{
 "cells": [
  {
   "cell_type": "code",
   "execution_count": 110,
   "metadata": {
    "scrolled": false
   },
   "outputs": [
    {
     "name": "stdout",
     "output_type": "stream",
     "text": [
      "List of all the h1, h2, h3, h4, h5, h6 & p : \n",
      "\n"
     ]
    }
   ],
   "source": [
    "# Import libraries\n",
    "from bs4 import BeautifulSoup\n",
    "import requests\n",
    "from collections import Counter\n",
    "import matplotlib.pyplot as plt\n",
    "import collections\n",
    "#import codecs\n",
    "#import pandas as pd\n",
    "#import io\n",
    "\n",
    "def findContentLength(siteUrl):\n",
    "    # set the url to perform the get request\n",
    "    reqs = requests.get(siteUrl)\n",
    "    # make a soup object by using beautiful soup and set the markup as html parser\n",
    "    soup = BeautifulSoup(reqs.text, 'lxml')\n",
    "    foundWords = []\n",
    "    \n",
    "    #-------- print and count all words\n",
    "    print(\"List of all the h1, h2, h3, h4, h5, h6 & p : \\n\")\n",
    "    for heading in soup.body.find_all([\"h1\", \"h2\", \"h3\", \"h4\", \"h5\", \"h6\", \"p\"]):\n",
    "        #print(heading.name + ' ' + heading.text.strip())\n",
    "        foundWords.append(heading.text.strip().split())\n",
    "        \n",
    "    #print(foundWords)\n",
    "    flatList = []\n",
    "    \n",
    "    #flatten the words \n",
    "    for sublist in foundWords:\n",
    "        for singleWord in sublist:\n",
    "            flatList.append(singleWord)\n",
    "    \n",
    "    wordDensity = Counter(flatList)\n",
    "    wordDensity = wordDensity.most_common()\n",
    "    print(wordDensity)\n",
    "\n",
    "    totalWords = str(len(flatList))\n",
    "    print (\"\\n Content-length: \" + totalWords)\n",
    "\n",
    "findContentLength('https://www.sweor.com/seocontentlength#:~:text=Longer%20Content%20Produces%20Higher%20Search,search%20queries%20by%20content%20length.&text=The%20first%20result%20typically%20has,10th%20result%20has%202%2C032%20words.')              "
   ]
  }
 ],
 "metadata": {
  "kernelspec": {
   "display_name": "Python 3",
   "language": "python",
   "name": "python3"
  },
  "language_info": {
   "codemirror_mode": {
    "name": "ipython",
    "version": 3
   },
   "file_extension": ".py",
   "mimetype": "text/x-python",
   "name": "python",
   "nbconvert_exporter": "python",
   "pygments_lexer": "ipython3",
   "version": "3.8.5"
  }
 },
 "nbformat": 4,
 "nbformat_minor": 4
}
