{
 "cells": [
  {
   "cell_type": "code",
   "execution_count": 5,
   "metadata": {
    "scrolled": false
   },
   "outputs": [
    {
     "name": "stdout",
     "output_type": "stream",
     "text": [
      "List of all the h1, h2, h3, h4, h5, h6 & p : \n",
      "\n",
      "[('kaasschaaf', 19), ('voor', 16), ('kaasschaven', 14), ('kaas', 14), ('de', 14), ('met', 13), ('een', 13), ('standaard', 13), ('aan', 12), ('je', 11), ('prijs', 11), ('van', 10), ('en', 10), ('toe', 10), ('winkelwagen', 10), ('voeg', 9), ('om', 8), ('boska', 7), ('bij', 6), ('is', 6), ('onze', 6), ('jaar', 6), ('bekijk', 6), ('of', 6), ('te', 6), ('het', 5), ('10', 5), ('nu', 4), ('plakken', 4), ('zijn', 4), ('schaaf', 4), ('in', 4), ('uit', 4), ('op', 4), ('schaven', 3), ('plakken.', 3), ('hebben', 3), ('kies', 3), ('dan', 3), ('er', 3), ('ga', 3), ('|', 3), ('monaco+', 3), ('milano+', 3), ('product', 3), ('oslo', 3), ('€9,99', 3), ('vienna', 3), ('vers', 3), ('kaas.', 3), ('keuze', 3), ('meerdere', 3), ('niet', 3), ('bezorgd', 3), ('gratis', 3), (\"boska's\", 3), ('wij', 2), ('elk', 2), ('type', 2), ('designs', 2), ('jonge', 2), ('€14,99', 2), ('€12,99', 2), ('zacht', 2), ('copenhagen', 2), ('€7,99', 2), ('geschaafde', 2), ('dit', 2), ('heb', 2), ('hebt', 2), ('zoals', 2), ('hierdoor', 2), ('hij', 2), ('staan', 2), ('extra', 2), ('harde', 2), ('schaafblad', 2), ('snel', 2), ('ons', 2), ('garantie', 2), ('groen', 2), ('blogs', 2), ('cadeautips', 2), ('story', 2), ('zakelijke', 2), ('over', 2), ('cookies', 2), ('we', 2), ('social', 2), ('informatie', 2), ('uw', 2), ('gebruik', 2), ('partners', 2), ('deze', 2), ('die', 2), ('ze', 2), (\"'ik\", 2), (\"akkoord'\", 2), ('belangrijk', 1), ('gebruiksgemak', 1), ('krijgen', 1), ('mooie', 1), ('dat', 1), ('jou', 1), ('fluitje', 1), ('cent!', 1), ('ruim', 1), ('125', 1), ('ervaring', 1), ('geschikte', 1), ('oplossing', 1), ('gevonden.', 1), ('kaasschaaf,', 1), ('absolute', 1), ('topkwaliteit.', 1), ('unieke', 1), ('slijping,', 1), ('garantie,', 1), ('verschillende', 1), ('materialen:', 1), ('ieder', 1), ('wat', 1), ('wils.', 1), ('direct', 1), ('naar:', 1), ('belegen', 1), ('oude', 1), ('parmezaanse', 1), ('filter:', 1), ('special', 1), ('black', 1), ('edition', 1), ('€19,99', 1), ('€10,99', 1), ('kaasset', 1), ('mini', 1), ('€5,59', 1), ('amsterdam', 1), ('bieropener', 1), ('€2,99', 1), ('snijdraad', 1), ('smaakvoller', 1), ('voorverpakte', 1), ('hoe', 1), ('kan?', 1), ('dunne', 1), ('komt', 1), ('contact', 1), ('zuurstof', 1), ('waardoor', 1), ('kaas,', 1), ('net', 1), ('als', 1), ('wijn,', 1), ('ultieme', 1), ('smaak', 1), ('bereikt!', 1), ('designs.', 1), ('toppers', 1), ('monaco+,', 1), ('red', 1), ('dot', 1), ('design', 1), ('award', 1), ('winnaar!', 1), ('hol', 1), ('binnen.', 1), ('heerlijk', 1), ('licht', 1), ('gewicht.', 1), ('lijn', 1), ('bekend', 1), ('authentieke', 1), ('sierlijke', 1), ('design.', 1), ('geneva', 1), ('geschikt', 1), ('elke', 1), ('portemonnee.', 1), ('typisch', 1), ('nederlands', 1), ('design,', 1), ('gogh', 1), ('museum,', 1), ('cheesy', 1), ('delfts', 1), ('blauw', 1), ('patroon.', 1), ('kort', 1), ('blad.', 1), ('blijft', 1), ('speels', 1), ('gemak', 1), ('perfecte', 1), ('vraagt', 1), ('ander', 1), ('soort', 1), ('zachte', 1), ('kazen', 1), ('juist', 1), ('robuuste,', 1), ('stevige', 1), ('scherp', 1), ('ontworpen.', 1), ('multifunctionele', 1), ('zolang', 1), ('geen', 1), ('hout', 1), ('verwerkt', 1), ('is,', 1), ('kan', 1), ('gewoon', 1), ('vaatwasser.', 1), ('anders', 1), ('even', 1), ('hand', 1), ('afwassen.', 1), ('multifunctioneel.', 1), ('schaaft', 1), ('zelfs', 1), ('komkommer,', 1), ('wortel', 1), ('asperges', 1), ('mee.', 1), ('cadeau', 1), ('borrel,', 1), ('verjaardag', 1), ('housewarming?', 1), ('geef', 1), ('eens', 1), ('cadeau.', 1), ('iedere', 1), ('kaasliefhebber', 1), ('verdient', 1), ('topkwaliteit', 1), ('huis', 1), ('hebben.', 1), ('garantie.', 1), ('bestelling', 1), ('thuisbezorgd*', 1), ('binnen', 1), ('nederland', 1), ('vanaf', 1), ('€20', 1), ('retourneren', 1), ('tevreden?', 1), ('30', 1), ('dagen', 1), ('bedenktijd', 1), ('alle', 1), ('food', 1), ('tools', 1), ('toegevoegd', 1), ('pizza', 1), ('party', 1), ('hot', 1), ('stone', 1), ('-', 1), ('⌀', 1), ('35', 1), ('cm', 1), ('snijplank', 1), ('haccp', 1), ('450x330x20', 1), ('mm', 1), ('kaassnijmachine', 1), ('unika+', 1), ('recepten', 1), ('nieuws', 1), ('vacatures', 1), ('&', 1), ('stages', 1), ('webshop', 1), ('catalogus', 1), ('beurzen', 1), ('klantenservice', 1), ('support', 1), ('contactbestellen', 1), ('betalen', 1), ('bezorgenretournerengarantiereparatiesklachtenprocedureprivacy', 1), ('statementdisclaimerbedrijfsgegevensalgemene', 1), ('voorwaarden', 1), ('producten', 1), ('nieuwsdutch', 1), ('delicacy', 1), ('showroom', 1), ('garantiebeoordelingeninspiratierecepten', 1), ('kaashelden', 1), ('zakelijk', 1), ('webshopbeursagendacatalogus', 1), ('brand', 1), ('builderswerken', 1), ('boskaadres', 1), ('holland', 1), ('spanjeweg', 1), ('8', 1), ('2411', 1), ('px', 1), ('bodegraventelefoon0172-611502', 1), ('gebruikt', 1), ('gebruiken', 1), ('content', 1), ('advertenties', 1), ('personaliseren,', 1), ('functies', 1), ('media', 1), ('bieden', 1), ('websiteverkeer', 1), ('analyseren.', 1), ('ook', 1), ('delen', 1), ('site', 1), ('media,', 1), ('adverteren', 1), ('analyse.', 1), ('kunnen', 1), ('gegevens', 1), ('combineren', 1), ('andere', 1), ('u', 1), ('heeft', 1), ('verstrekt', 1), ('verzameld', 1), ('basis', 1), ('hun', 1), ('services.', 1), ('klik', 1), ('verder', 1), ('gaan', 1), ('alleen', 1), ('functionele', 1), ('analytische', 1), ('cookies.', 1), ('vertel', 1), ('me', 1), ('meer', 1)]\n",
      "\n",
      " Content-length: 682\n"
     ]
    }
   ],
   "source": [
    "# Import libraries\n",
    "from bs4 import BeautifulSoup\n",
    "import requests\n",
    "from collections import Counter\n",
    "import matplotlib.pyplot as plt\n",
    "import collections\n",
    "#import codecs\n",
    "#import pandas as pd\n",
    "#import io\n",
    "\n",
    "def findContentLength(siteUrl):\n",
    "    # set the url to perform the get request\n",
    "    reqs = requests.get(siteUrl)\n",
    "    # make a soup object by using beautiful soup and set the markup as html parser\n",
    "    soup = BeautifulSoup(reqs.text, 'lxml')\n",
    "    foundWords = []\n",
    "    \n",
    "    #-------- print and count all words\n",
    "    print(\"List of all the h1, h2, h3, h4, h5, h6 & p : \\n\")\n",
    "    for heading in soup.body.find_all([\"h1\", \"h2\", \"h3\", \"h4\", \"h5\", \"h6\", \"p\"]):\n",
    "        #print(heading.name + ' ' + heading.text.strip())\n",
    "        foundWords.append(heading.text.strip().split())\n",
    "        \n",
    "    #print(foundWords)\n",
    "    flatList = []\n",
    "    \n",
    "    #flatten the words \n",
    "    for sublist in foundWords:\n",
    "        for singleWord in sublist:\n",
    "            flatList.append(singleWord.lower())\n",
    "    \n",
    "    wordDensity = Counter(flatList)\n",
    "    wordDensity = wordDensity.most_common()\n",
    "    print(wordDensity)\n",
    "\n",
    "    totalWords = str(len(flatList))\n",
    "    print (\"\\nContent-length: \" + totalWords)\n",
    "\n",
    "findContentLength('https://nl.boska.com/collections/kaasschaven')              "
   ]
  },
  {
   "cell_type": "code",
   "execution_count": null,
   "metadata": {},
   "outputs": [],
   "source": []
  }
 ],
 "metadata": {
  "kernelspec": {
   "display_name": "Python 3",
   "language": "python",
   "name": "python3"
  },
  "language_info": {
   "codemirror_mode": {
    "name": "ipython",
    "version": 3
   },
   "file_extension": ".py",
   "mimetype": "text/x-python",
   "name": "python",
   "nbconvert_exporter": "python",
   "pygments_lexer": "ipython3",
   "version": "3.8.5"
  }
 },
 "nbformat": 4,
 "nbformat_minor": 4
}
