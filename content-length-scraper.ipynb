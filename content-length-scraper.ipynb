{
 "cells": [
  {
   "cell_type": "code",
   "execution_count": 85,
   "metadata": {},
   "outputs": [
    {
     "name": "stdout",
     "output_type": "stream",
     "text": [
      "Total characters in body: 74004\n"
     ]
    }
   ],
   "source": [
    "# Import libraries\n",
    "from bs4 import BeautifulSoup\n",
    "import requests\n",
    "import codecs\n",
    "import pandas as pd\n",
    "\n",
    "siteURL = 'https://www.bouwmaat.nl/knauf-diamond-board-toiletvoorzetplaat-hrk-skf-150x100-cm-125-mm/product/0000576096'\n",
    "\n",
    "def importWebsiteContent():\n",
    "    # set the url to perform the get request\n",
    "    URL = siteURL\n",
    "    page = requests.get(URL)\n",
    "\n",
    "    # load the page content\n",
    "    text = page.content\n",
    "\n",
    "    # make a soup object by using\n",
    "    # beautiful soup and set the markup as html parser\n",
    "    soup = BeautifulSoup(text, \"html.parser\")\n",
    "\n",
    "    # open the file in w mode\n",
    "    # set encoding to UTF-8\n",
    "\n",
    "    with open(\"output.html\", \"w\", encoding = 'utf-8') as file:\n",
    "        # prettify the soup object and convert it into a string\n",
    "        file.write(str(soup.prettify()))\n",
    "    \n",
    "    siteHTML = codecs.open(\"output.html\", 'r')\n",
    "    \n",
    "    # assign html document\n",
    "    html_doc = siteHTML\n",
    "\n",
    "    # create beautiful sopa object \n",
    "    soup = BeautifulSoup(html_doc, 'html.parser')\n",
    "    \n",
    "    bodyText = soup.body.get_text()\n",
    "    total_amount_words = len(bodyText)\n",
    "    \n",
    "    print(\"Total characters in body: \" + str(total_amount_words))\n",
    "\n",
    "importWebsiteContent()"
   ]
  },
  {
   "cell_type": "code",
   "execution_count": 81,
   "metadata": {},
   "outputs": [],
   "source": [
    "# Niet nodig!--------------------------------------------------------------------------\n",
    "# Get all the tags present in the html and \n",
    "# getting their length\n",
    "#for tag in soup.find_all('body'):\n",
    "    #print(\"Total characters in++ \" + tag.name, \" : \", len(soup.find(tag.name).text))"
   ]
  }
 ],
 "metadata": {
  "kernelspec": {
   "display_name": "Python 3",
   "language": "python",
   "name": "python3"
  },
  "language_info": {
   "codemirror_mode": {
    "name": "ipython",
    "version": 3
   },
   "file_extension": ".py",
   "mimetype": "text/x-python",
   "name": "python",
   "nbconvert_exporter": "python",
   "pygments_lexer": "ipython3",
   "version": "3.8.5"
  }
 },
 "nbformat": 4,
 "nbformat_minor": 4
}
