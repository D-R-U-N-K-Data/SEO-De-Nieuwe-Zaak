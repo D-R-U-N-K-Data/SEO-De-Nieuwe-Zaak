{
 "cells": [
  {
   "cell_type": "code",
   "execution_count": 231,
   "metadata": {},
   "outputs": [],
   "source": [
    "from bs4 import BeautifulSoup\n",
    "import requests\n",
    "import re\n",
    "from collections import Counter\n",
    "from string import punctuation\n",
    "import math\n",
    "import pandas as pd\n",
    "\n",
    "keyword = \"bouwmaterialen\""
   ]
  },
  {
   "cell_type": "code",
   "execution_count": 240,
   "metadata": {},
   "outputs": [],
   "source": [
    "# test soups, will get replaced\n",
    "w = \"https://www.bouwmaat.nl/bouwmaterialen\"\n",
    "w2 = \"https://www.hornbach.nl/shop/Bouwmateriaal/S4471/artikeloverzicht.html\"\n",
    "w3 = \"https://www.bouwbestel.nl/bouwmaterialen.html\"\n",
    "w4 = \"https://www.online-bouwmaterialen.nl\"\n",
    "w5 = \"https://www.bouwonline.com\"\n",
    "r = requests.get(w)\n",
    "r2 = requests.get(w2)\n",
    "r3 = requests.get(w3)\n",
    "r4 = requests.get(w4)\n",
    "r5 = requests.get(w5)\n",
    "soup = BeautifulSoup(r.content)\n",
    "soup2 = BeautifulSoup(r2.content)\n",
    "soup3 = BeautifulSoup(r3.content)\n",
    "soup4 = BeautifulSoup(r4.content)\n",
    "soup5 = BeautifulSoup(r5.content)"
   ]
  },
  {
   "cell_type": "code",
   "execution_count": 226,
   "metadata": {},
   "outputs": [],
   "source": [
    "# remove punctuation\n",
    "def CleanText(text):\n",
    "    text = str(text)\n",
    "    forbidden = [r'\\n', r'.', r'?', r'!', r'(', r')', r'\\r']\n",
    "    for i in forbidden:\n",
    "        text.replace(i, ' ')\n",
    "    return text\n",
    "\n",
    "# returns amount of a specific word on a page (complete page)\n",
    "def WordCount(webpage, word):\n",
    "    words = ''.join([t for t in webpage.find_all(text=True)])\n",
    "    words = CleanText(words.lower())\n",
    "    words = words.split()\n",
    "    return words.count(word.lower())\n",
    "\n",
    "# returns amount of a specific word on a page (body only)\n",
    "def WordCountBody(webpage, word):\n",
    "    words = ''.join([t for t in webpage.body.find_all(text=True)])\n",
    "    words = CleanText(words.lower())\n",
    "    words = words.split()\n",
    "    return words.count(word.lower())\n",
    "\n",
    "# returns the total amount of words on a page\n",
    "def TotalWordCount(website):\n",
    "    # strip all script and style elements\n",
    "    for script in website([\"script\", \"style\"]):\n",
    "        script.extract()\n",
    "\n",
    "    text = website.get_text()\n",
    "    \n",
    "    # break into lines and remove leading and trailing space on each\n",
    "    lines = (line.strip() for line in text.splitlines())\n",
    "    # break multi-headlines into a line each\n",
    "    chunks = (phrase.strip() for line in lines for phrase in line.split(\"  \"))\n",
    "    # drop blank lines\n",
    "    text = '\\n'.join(chunk for chunk in chunks if chunk)\n",
    "    \n",
    "    # calculate amount of seperate words\n",
    "    total_word_count = len(text.split())\n",
    "    return total_word_count\n",
    "\n",
    "# returns keyword density = keyword to total words ratio\n",
    "def KeywordDensity(keyword, website):\n",
    "    total_length = TotalWordCount(soup)\n",
    "    keyword_amount = WordCount(website,keyword)\n",
    "    return keyword_amount / total_length\n",
    "\n",
    "def ToPercentage(number):\n",
    "    return round(number * 100, 2)"
   ]
  },
  {
   "cell_type": "code",
   "execution_count": 243,
   "metadata": {},
   "outputs": [
    {
     "name": "stdout",
     "output_type": "stream",
     "text": [
      "Hornbach 0.27\n",
      "Bouwmaat 0.47\n",
      "Bouwbestel 0.3\n",
      "Online-bouwmaterialen 0.83\n",
      "Bouwonline 0.17\n"
     ]
    }
   ],
   "source": [
    "print(\"Hornbach\", ToPercentage(KeywordDensity(keyword, soup2)))\n",
    "print(\"Bouwmaat\", ToPercentage(KeywordDensity(keyword, soup)))\n",
    "print(\"Bouwbestel\", ToPercentage(KeywordDensity(keyword, soup3)))\n",
    "print(\"Online-bouwmaterialen\", ToPercentage(KeywordDensity(keyword, soup4)))\n",
    "print(\"Bouwonline\", ToPercentage(KeywordDensity(keyword, soup5)))"
   ]
  }
 ],
 "metadata": {
  "kernelspec": {
   "display_name": "Python 3",
   "language": "python",
   "name": "python3"
  },
  "language_info": {
   "codemirror_mode": {
    "name": "ipython",
    "version": 3
   },
   "file_extension": ".py",
   "mimetype": "text/x-python",
   "name": "python",
   "nbconvert_exporter": "python",
   "pygments_lexer": "ipython3",
   "version": "3.8.5"
  }
 },
 "nbformat": 4,
 "nbformat_minor": 4
}
