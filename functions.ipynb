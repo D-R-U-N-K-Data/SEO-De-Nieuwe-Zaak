{
 "cells": [
  {
   "cell_type": "markdown",
   "metadata": {},
   "source": [
    "# Helper Functions\n",
    "\n",
    "In this notebook you find all the helper functions you can access and use in all the notebooks within the project."
   ]
  },
  {
   "cell_type": "markdown",
   "metadata": {},
   "source": [
    "## Access\n",
    "\n",
    "Copy paste this import in the notebook where you want to use the functions:\n",
    "   - from ipynb.fs.full.functions import *\n",
    "   \n",
    "Or when you only want to import a specific function\n",
    "   - from ipynb.fs.full.functions import getspecificolumns"
   ]
  },
  {
   "cell_type": "markdown",
   "metadata": {},
   "source": [
    "## Functions\n",
    "\n",
    "<b>Note!</b> If functions don't work, check if column names and such are up to date.\n",
    "\n",
    "### Imports"
   ]
  },
  {
   "cell_type": "code",
   "execution_count": 5,
   "metadata": {},
   "outputs": [],
   "source": [
    "import pandas as pd\n",
    "import requests\n",
    "import hashlib\n",
    "import os.path, time\n",
    "from bs4 import BeautifulSoup"
   ]
  },
  {
   "cell_type": "markdown",
   "metadata": {},
   "source": [
    "### Data"
   ]
  },
  {
   "cell_type": "code",
   "execution_count": 6,
   "metadata": {},
   "outputs": [],
   "source": [
    "testdata = pd.read_csv(\"calls/call-c85aac6308a09d9112b7235ab11f329c3178fd29f457deda02aec99a924e4c81.csv\")"
   ]
  },
  {
   "cell_type": "markdown",
   "metadata": {},
   "source": [
    "### Functions"
   ]
  },
  {
   "cell_type": "code",
   "execution_count": 7,
   "metadata": {},
   "outputs": [],
   "source": [
    "# Returns dataframe with only the website column\n",
    "def GetWebsites():\n",
    "    return testdata[\"1\"]\n",
    "\n",
    "# Returns dataframe with all columns in initial dataframe\n",
    "def GetAllColumns():\n",
    "    return testdata\n",
    "\n",
    "# Returns dataframe with specific columns\n",
    "# Expects list with column names as param\n",
    "def GetSpecificColumns(column_list):\n",
    "    df = pd.DataFrame()\n",
    "    for column in column_list:\n",
    "        df[column] = testdata[column]\n",
    "    return df\n",
    "\n",
    "# Returns soup of given website\n",
    "def RequestSoup(webpage):\n",
    "    r = requests.get(webpage)\n",
    "    return BeautifulSoup(r.content)\n",
    "\n",
    "# Function used to hash a given variable\n",
    "# Input: variable, output: SHA256 hashed variant of that variable\n",
    "def hash_variable(variable):\n",
    "    string_variable = str(variable)\n",
    "    hashed_string = hashlib.sha256(string_variable.encode('utf-8'))\n",
    "    hashed_variable = hashed_string.hexdigest()\n",
    "    return hashed_variable\n",
    "\n",
    "# Function to check if a certain query has already been executed before, and if so, use that result\n",
    "# Input: hashed parms from hash_variable, file_name (for example \"call\") and potential_overwrite (True or False)\n",
    "# Output: either True (if file exists) or False (if file doesn't exist)\n",
    "# Also makes use of global variable potential_overwrite, which is either True or False,\n",
    "# and returns accordingly\n",
    "def existing_file(params_hashed, filename, potential_overwrite):\n",
    "    try: # Check if file exists\n",
    "        with open(f\"calls\\call-{params_hashed}.csv\"):\n",
    "            potential_csv_file_exists = 1\n",
    "    except IOError:\n",
    "        potential_csv_file_exists = 0\n",
    "        return False\n",
    "    \n",
    "    if potential_csv_file_exists == 1: # If file exists, load from file, unless potential_overwrite is True\n",
    "        print(\"Deze call is al een keer uitgevoerd, \", end = '')\n",
    "        if potential_overwrite != True:\n",
    "            print(\"we gaan verder met de bestaande resultaten.\")\n",
    "            print(\"Dit bestand is laatst gewijzigd op: %s\" % time.ctime(os.path.getmtime(f\"calls\\{filename}-{params_hashed}.csv\")))\n",
    "            return True\n",
    "        else:\n",
    "            print(\"we maken echter nieuwe resultaten aan.\")\n",
    "            return False"
   ]
  },
  {
   "cell_type": "code",
   "execution_count": null,
   "metadata": {},
   "outputs": [],
   "source": []
  }
 ],
 "metadata": {
  "kernelspec": {
   "display_name": "Python 3",
   "language": "python",
   "name": "python3"
  },
  "language_info": {
   "codemirror_mode": {
    "name": "ipython",
    "version": 3
   },
   "file_extension": ".py",
   "mimetype": "text/x-python",
   "name": "python",
   "nbconvert_exporter": "python",
   "pygments_lexer": "ipython3",
   "version": "3.8.5"
  }
 },
 "nbformat": 4,
 "nbformat_minor": 4
}
