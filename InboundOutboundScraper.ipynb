{
 "cells": [
  {
   "cell_type": "code",
   "execution_count": 62,
   "metadata": {
    "scrolled": true
   },
   "outputs": [
    {
     "name": "stdout",
     "output_type": "stream",
     "text": [
      "[+] Total Internal links: 563\n",
      "[+] Total External links: 5\n"
     ]
    }
   ],
   "source": [
    "import requests\n",
    "from urllib.parse import urlparse, urljoin\n",
    "from bs4 import BeautifulSoup\n",
    "\n",
    "internal_urls = set()\n",
    "external_urls = set()\n",
    "\n",
    "def is_valid(url):\n",
    "    parsed = urlparse(url)\n",
    "    \n",
    "    if parsed.scheme.startswith('http') and bool(parsed.netloc):\n",
    "        return True\n",
    "    else:\n",
    "        return False\n",
    "\n",
    "def get_all_website_links(url):\n",
    "    urls = set()\n",
    "    domain_name = urlparse(url).netloc\n",
    "    soup = BeautifulSoup(requests.get(url).content, \"html.parser\")\n",
    "    \n",
    "    total_internal = 0\n",
    "    total_external = 0\n",
    "        \n",
    "    for a_tag in soup.findAll(\"a\"):\n",
    "        \n",
    "        href = a_tag.attrs.get(\"href\")\n",
    "        \n",
    "        if href == \"\" or href is None:\n",
    "            # href empty tag\n",
    "            continue\n",
    "        # join the URL if it's relative (not absolute link)\n",
    "        href = urljoin(url, href)\n",
    "        parsed_href = urlparse(href)\n",
    "        # remove URL GET parameters, URL fragments, etc.\n",
    "        href = parsed_href.scheme + \"://\" + parsed_href.netloc + parsed_href.path\n",
    "        if not is_valid(href):\n",
    "            # not a valid URL\n",
    "            continue\n",
    "            \n",
    "        if href in internal_urls:\n",
    "            total_internal = total_internal + 1\n",
    "            # already in the set\n",
    "            continue\n",
    "            \n",
    "        if domain_name not in href:\n",
    "            total_external = total_external + 1\n",
    "            # external link\n",
    "            if href not in external_urls:\n",
    "#                 print(f\"[!] External link: {href}\")\n",
    "                external_urls.add(href)\n",
    "            continue\n",
    "            \n",
    "#         print(f\"[*] Internal link: {href}\")\n",
    "        urls.add(href)\n",
    "        internal_urls.add(href)\n",
    "        total_internal = total_internal + 1\n",
    "        \n",
    "#     print(\"[+] Total Internal links:\", len(internal_urls))\n",
    "#     print(\"[+] Total External links:\", len(external_urls))\n",
    "    \n",
    "    print(\"[+] Total Internal links:\", total_internal)\n",
    "    print(\"[+] Total External links:\", total_external)\n",
    "\n",
    "get_all_website_links('https://www.bmn.nl/')"
   ]
  }
 ],
 "metadata": {
  "kernelspec": {
   "display_name": "Python 3",
   "language": "python",
   "name": "python3"
  },
  "language_info": {
   "codemirror_mode": {
    "name": "ipython",
    "version": 3
   },
   "file_extension": ".py",
   "mimetype": "text/x-python",
   "name": "python",
   "nbconvert_exporter": "python",
   "pygments_lexer": "ipython3",
   "version": "3.8.5"
  }
 },
 "nbformat": 4,
 "nbformat_minor": 4
}
