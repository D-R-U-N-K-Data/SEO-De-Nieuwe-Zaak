{
 "cells": [
  {
   "cell_type": "code",
   "execution_count": 10,
   "metadata": {},
   "outputs": [],
   "source": [
    "from PythonPSI.api import PSI\n",
    "import pandas as pd\n",
    "import time\n",
    "from ipynb.fs.full.functions import *"
   ]
  },
  {
   "cell_type": "markdown",
   "metadata": {},
   "source": [
    "### Notes\n",
    "This function is pretty slow, because it takes a while to get all the needed data with the API, especially when calling a lot of urls. With 50 urls, it takes about `20 minutes` to run.\n",
    "\n",
    "Not every url returns useable performance data, since the API has some restrictions. Some webpages require too many queries or the request simply fails. With 50 urls, about `30 urls` return useable data. The results can vary.\n",
    "\n",
    "This function will need some refactoring at some point to enhance performance."
   ]
  },
  {
   "cell_type": "code",
   "execution_count": 11,
   "metadata": {
    "scrolled": false
   },
   "outputs": [],
   "source": [
    "# returns a dict with the cls, fcp, fid and lcp from given websites dataframe with performance data\n",
    "def GetSpecificPerformanceData(df):\n",
    "    url = df.loc[\"CUMULATIVE_LAYOUT_SHIFT_SCORE\",\"id\"]\n",
    "    cls = pd.DataFrame(df.loc[\"CUMULATIVE_LAYOUT_SHIFT_SCORE\",\"metrics\"]).percentile.iloc[0]\n",
    "    fcp = pd.DataFrame(df.loc[\"FIRST_CONTENTFUL_PAINT_MS\",\"metrics\"]).percentile.iloc[0]\n",
    "    fid = pd.DataFrame(df.loc[\"FIRST_INPUT_DELAY_MS\",\"metrics\"]).percentile.iloc[0]\n",
    "    lcp = pd.DataFrame(df.loc[\"LARGEST_CONTENTFUL_PAINT_MS\",\"metrics\"]).percentile.iloc[0]\n",
    "    results = {\"URL\":url,\"FCP\":fcp,\"LCP\":lcp,\"FID\":fid,\"CLS\":cls}\n",
    "    return results\n",
    "\n",
    "# returns dataframe with website performance data\n",
    "def GetWebsiteSpeed(df):\n",
    "    rows_list = []\n",
    "    urls = df[\"Ur\"]\n",
    "\n",
    "    for key,value in urls.iteritems():\n",
    "        # get data from Google Pagespeed Insights API\n",
    "        data = PSI(value, category='performance', locale='en', stratergy='desktop', metrics='loadingExperience')\n",
    "        data_keys = list(data.keys())\n",
    "        \n",
    "        # don't add row to list when API call gives error or data is incomplete\n",
    "        if data_keys != ['error']:\n",
    "            if data_keys != ['initial_url']:\n",
    "                rows_list.append(GetSpecificPerformanceData(pd.DataFrame(data)))\n",
    "        else:\n",
    "            rows_list.append({\"URL\":value,\"FCP\":\"NaN\",\"LCP\":\"NaN\",\"FID\":\"NaN\",\"CLS\":\"NaN\"})\n",
    "        # API restricts from too many calls per minute, so wait a bit\n",
    "        # this should be refactored to enhance performance\n",
    "        time.sleep(12) \n",
    "       \n",
    "    return pd.DataFrame(rows_list) "
   ]
  },
  {
   "cell_type": "code",
   "execution_count": 12,
   "metadata": {
    "scrolled": false
   },
   "outputs": [
    {
     "data": {
      "text/html": [
       "<div>\n",
       "<style scoped>\n",
       "    .dataframe tbody tr th:only-of-type {\n",
       "        vertical-align: middle;\n",
       "    }\n",
       "\n",
       "    .dataframe tbody tr th {\n",
       "        vertical-align: top;\n",
       "    }\n",
       "\n",
       "    .dataframe thead th {\n",
       "        text-align: right;\n",
       "    }\n",
       "</style>\n",
       "<table border=\"1\" class=\"dataframe\">\n",
       "  <thead>\n",
       "    <tr style=\"text-align: right;\">\n",
       "      <th></th>\n",
       "      <th>URL</th>\n",
       "      <th>FCP</th>\n",
       "      <th>LCP</th>\n",
       "      <th>FID</th>\n",
       "      <th>CLS</th>\n",
       "    </tr>\n",
       "  </thead>\n",
       "  <tbody>\n",
       "    <tr>\n",
       "      <th>0</th>\n",
       "      <td>https://www.bouwmaat.nl/</td>\n",
       "      <td>2358</td>\n",
       "      <td>3741</td>\n",
       "      <td>6</td>\n",
       "      <td>10</td>\n",
       "    </tr>\n",
       "    <tr>\n",
       "      <th>1</th>\n",
       "      <td>https://www.bouwbestel.nl/bouwmaterialen.html</td>\n",
       "      <td>841</td>\n",
       "      <td>1001</td>\n",
       "      <td>3</td>\n",
       "      <td>44</td>\n",
       "    </tr>\n",
       "    <tr>\n",
       "      <th>2</th>\n",
       "      <td>https://www.hornbach.nl/shop/Bouwmateriaal/S44...</td>\n",
       "      <td>487</td>\n",
       "      <td>542</td>\n",
       "      <td>5</td>\n",
       "      <td>65</td>\n",
       "    </tr>\n",
       "    <tr>\n",
       "      <th>3</th>\n",
       "      <td>https://www.online-bouwmaterialen.nl/</td>\n",
       "      <td>978</td>\n",
       "      <td>1694</td>\n",
       "      <td>3</td>\n",
       "      <td>1</td>\n",
       "    </tr>\n",
       "    <tr>\n",
       "      <th>4</th>\n",
       "      <td>https://www.bouwonline.com/</td>\n",
       "      <td>1311</td>\n",
       "      <td>2459</td>\n",
       "      <td>22</td>\n",
       "      <td>93</td>\n",
       "    </tr>\n",
       "  </tbody>\n",
       "</table>\n",
       "</div>"
      ],
      "text/plain": [
       "                                                 URL   FCP   LCP  FID  CLS\n",
       "0                           https://www.bouwmaat.nl/  2358  3741    6   10\n",
       "1      https://www.bouwbestel.nl/bouwmaterialen.html   841  1001    3   44\n",
       "2  https://www.hornbach.nl/shop/Bouwmateriaal/S44...   487   542    5   65\n",
       "3              https://www.online-bouwmaterialen.nl/   978  1694    3    1\n",
       "4                        https://www.bouwonline.com/  1311  2459   22   93"
      ]
     },
     "execution_count": 12,
     "metadata": {},
     "output_type": "execute_result"
    }
   ],
   "source": [
    "# d = {'Ur': [\"https://www.bouwmaat.com/bouwmaterialen\", \n",
    "#             \"https://www.bouwbestel.nl/bouwmaterialen.html\",\n",
    "#             \"https://www.hornbach.nl/shop/Bouwmateriaal/S4471/artikeloverzicht.html\",\n",
    "#             \"https://www.online-bouwmaterialen.nl/\",\n",
    "#             \"https://www.bouwonline.com/\"]}\n",
    "# df = pd.DataFrame(data=d)\n",
    "# joe = GetWebsiteSpeed(df)\n",
    "# joe"
   ]
  },
  {
   "cell_type": "code",
   "execution_count": null,
   "metadata": {},
   "outputs": [],
   "source": []
  }
 ],
 "metadata": {
  "kernelspec": {
   "display_name": "Python 3",
   "language": "python",
   "name": "python3"
  },
  "language_info": {
   "codemirror_mode": {
    "name": "ipython",
    "version": 3
   },
   "file_extension": ".py",
   "mimetype": "text/x-python",
   "name": "python",
   "nbconvert_exporter": "python",
   "pygments_lexer": "ipython3",
   "version": "3.8.8"
  }
 },
 "nbformat": 4,
 "nbformat_minor": 4
}
