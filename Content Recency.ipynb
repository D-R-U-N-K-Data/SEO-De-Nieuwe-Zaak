{
 "cells": [
  {
   "cell_type": "code",
   "execution_count": 2,
   "metadata": {},
   "outputs": [],
   "source": [
    "from htmldate import find_date\n",
    "import pandas as pd\n",
    "import time\n",
    "from ipynb.fs.full.functions import *"
   ]
  },
  {
   "cell_type": "markdown",
   "metadata": {},
   "source": [
    "### Notes\n",
    "\n",
    "The package <b>htmldate</b> has a `precision` of `0.899` and an `accuracy` of `0.831`. This means that only about `90%` of the input URL's will give output and that the output is only about `83%` accurate. This is however the most precise and accurate package there is at this moment."
   ]
  },
  {
   "cell_type": "code",
   "execution_count": 3,
   "metadata": {},
   "outputs": [],
   "source": [
    "websites = GetWebsites() # test data\n",
    "\n",
    "# returns dataframe with the original publication date and last modified date, \n",
    "# which are often the same date\n",
    "def GetContentRecency(df):\n",
    "    rows_list = []\n",
    "    counter = 0\n",
    "    usable_counter = 0\n",
    "    urls = df[\"Ur\"]\n",
    "    \n",
    "    start = time.time() # used for debugging\n",
    "    for key,value in urls.iteritems():\n",
    "        counter = counter+1\n",
    "        try:\n",
    "            original = find_date(value,original_date=True)\n",
    "            last_modified = find_date(value)\n",
    "            if last_modified is None:\n",
    "                rows_list.append({\"original_publication\":\"NaN\",\"last_modified\":\"NaN\"})\n",
    "            else:\n",
    "                rows_list.append({\"original_publication\":original,\"last_modified\":last_modified})\n",
    "                usable_counter = usable_counter+1 \n",
    "            print(\"Nummer: \",usable_counter) # used for debugging\n",
    "            print(\"URL: \",value) # used for debugging\n",
    "            print(\"Original publication date: \",original) # used for debugging\n",
    "            print(\"Last modified: \",last_modified) # used for debugging\n",
    "        except:\n",
    "            print(\"URL: \",value) # used for debugging\n",
    "            print(\"ERROR\") # used for debugging\n",
    "            rows_list.append({\"original_publication\":\"NaN\",\"last_modified\":\"NaN\"})\n",
    "            continue\n",
    "    end = time.time() # used for debugging\n",
    "    \n",
    "    df = pd.DataFrame(rows_list)\n",
    "    print(\"Amount of usable returns: \", usable_counter) # used for debugging\n",
    "    print(\"Run time: \", end - start, \" seconds\") # used for debugging\n",
    "    return df"
   ]
  },
  {
   "cell_type": "code",
   "execution_count": 6,
   "metadata": {},
   "outputs": [
    {
     "name": "stdout",
     "output_type": "stream",
     "text": [
      "Nummer:  1\n",
      "URL:  https://www.bouwmaat.com/bouwmaterialen\n",
      "Original publication date:  2021-04-29\n",
      "Last modified:  2021-04-29\n",
      "Nummer:  2\n",
      "URL:  https://www.bouwbestel.nl/bouwmaterialen.html\n",
      "Original publication date:  2007-01-01\n",
      "Last modified:  2021-01-01\n",
      "Amount of usable returns:  2\n",
      "Run time:  7.395950078964233  seconds\n"
     ]
    },
    {
     "data": {
      "text/html": [
       "<div>\n",
       "<style scoped>\n",
       "    .dataframe tbody tr th:only-of-type {\n",
       "        vertical-align: middle;\n",
       "    }\n",
       "\n",
       "    .dataframe tbody tr th {\n",
       "        vertical-align: top;\n",
       "    }\n",
       "\n",
       "    .dataframe thead th {\n",
       "        text-align: right;\n",
       "    }\n",
       "</style>\n",
       "<table border=\"1\" class=\"dataframe\">\n",
       "  <thead>\n",
       "    <tr style=\"text-align: right;\">\n",
       "      <th></th>\n",
       "      <th>original_publication</th>\n",
       "      <th>last_modified</th>\n",
       "    </tr>\n",
       "  </thead>\n",
       "  <tbody>\n",
       "    <tr>\n",
       "      <th>0</th>\n",
       "      <td>2021-04-29</td>\n",
       "      <td>2021-04-29</td>\n",
       "    </tr>\n",
       "    <tr>\n",
       "      <th>1</th>\n",
       "      <td>2007-01-01</td>\n",
       "      <td>2021-01-01</td>\n",
       "    </tr>\n",
       "  </tbody>\n",
       "</table>\n",
       "</div>"
      ],
      "text/plain": [
       "  original_publication last_modified\n",
       "0           2021-04-29    2021-04-29\n",
       "1           2007-01-01    2021-01-01"
      ]
     },
     "execution_count": 6,
     "metadata": {},
     "output_type": "execute_result"
    }
   ],
   "source": [
    "d = {'Ur': [\"https://www.bouwmaat.com/bouwmaterialen\", \"https://www.bouwbestel.nl/bouwmaterialen.html\"], 'Iets': [3, 4]}\n",
    "df = pd.DataFrame(data=d)\n",
    "\n",
    "GetContentRecency(df)"
   ]
  },
  {
   "cell_type": "code",
   "execution_count": null,
   "metadata": {},
   "outputs": [],
   "source": []
  }
 ],
 "metadata": {
  "kernelspec": {
   "display_name": "Python 3",
   "language": "python",
   "name": "python3"
  },
  "language_info": {
   "codemirror_mode": {
    "name": "ipython",
    "version": 3
   },
   "file_extension": ".py",
   "mimetype": "text/x-python",
   "name": "python",
   "nbconvert_exporter": "python",
   "pygments_lexer": "ipython3",
   "version": "3.8.5"
  }
 },
 "nbformat": 4,
 "nbformat_minor": 4
}
