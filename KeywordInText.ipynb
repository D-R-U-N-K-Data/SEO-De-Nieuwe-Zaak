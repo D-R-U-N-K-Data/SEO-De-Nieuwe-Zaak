{
 "cells": [
  {
   "cell_type": "code",
   "execution_count": 1,
   "metadata": {},
   "outputs": [],
   "source": [
    "import pandas as pd"
   ]
  },
  {
   "cell_type": "code",
   "execution_count": 8,
   "metadata": {},
   "outputs": [],
   "source": [
    "# df = pd.read_csv('calls\\dataframe_voor_analyse2.csv')\n",
    "# df = df.rename(columns={'META-Title': 'METATitle', 'META-Description': 'METADescription', 'Image Tags': 'ImageTags'})\n",
    "# df"
   ]
  },
  {
   "cell_type": "code",
   "execution_count": 4,
   "metadata": {},
   "outputs": [],
   "source": [
    "def getKeywordmain_dataInText(df):\n",
    "\n",
    "    df['MetaTitleExists'] = 0\n",
    "    df['MetaDescriptionExists'] = 0\n",
    "    df['KeyWordInMetaTitle'] = 0\n",
    "    df['KeyWordInMetaDescription'] = 0\n",
    "    df['KeyWordInUrl'] = 0\n",
    "    df['KeyWordInImageTags'] = 0\n",
    "    \n",
    "    for i in range(0, len(df)):\n",
    "        #Check if the MetaTitle exists. \n",
    "        if(str(df.METATitle[i]) == 'nan'):\n",
    "            df.MetaTitleExists[i] = 0\n",
    "        else:\n",
    "            df.MetaTitleExists[i] = 1\n",
    "\n",
    "        #Check if the MetaDescription exists. \n",
    "        if(str(df.METADescription[i]) == 'nan'):\n",
    "            df.MetaDescriptionExists[i] = 0\n",
    "        else:\n",
    "            df.MetaDescriptionExists[i] = 1\n",
    "        \n",
    "        #Check if keyword occurs in MetaTitle\n",
    "        if (str(df.Keyword[0])).lower() in str(df.METATitle[i]).lower():\n",
    "            df.KeyWordInMetaTitle[i] = 1\n",
    "        else:\n",
    "            df.KeyWordInMetaTitle[i] = 0\n",
    "            \n",
    "        #Check if keyword occurs in MetaDescription\n",
    "        if (str(df.Keyword[0])).lower() in str(df.METADescription[i]).lower():\n",
    "            df.KeyWordInMetaDescription[i] = 1\n",
    "        else:\n",
    "            df.KeyWordInMetaDescription[i] = 0\n",
    "            \n",
    "        #Check if keyword occurs in the Url\n",
    "        if (str(df.Keyword[0])).lower() in str(df.Ur[i]).lower():\n",
    "            df.KeyWordInUrl[i] = 1\n",
    "        else:\n",
    "            df.KeyWordInUrl[i] = 0\n",
    "\n",
    "        #Check if keyword occurs in the Imagetag\n",
    "        if (str(df.Keyword[0])).lower() in str(df.ImageTags[i]).lower():\n",
    "            df.KeyWordInImageTags[i] = 1\n",
    "        else:\n",
    "            df.KeyWordInImageTags[i] = 0\n",
    "            \n",
    "    return df"
   ]
  }
 ],
 "metadata": {
  "kernelspec": {
   "display_name": "Python 3",
   "language": "python",
   "name": "python3"
  },
  "language_info": {
   "codemirror_mode": {
    "name": "ipython",
    "version": 3
   },
   "file_extension": ".py",
   "mimetype": "text/x-python",
   "name": "python",
   "nbconvert_exporter": "python",
   "pygments_lexer": "ipython3",
   "version": "3.8.8"
  }
 },
 "nbformat": 4,
 "nbformat_minor": 4
}
