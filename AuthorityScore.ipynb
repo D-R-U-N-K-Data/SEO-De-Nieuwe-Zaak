{
 "cells": [
  {
   "cell_type": "code",
   "execution_count": 1,
   "metadata": {},
   "outputs": [],
   "source": [
    "import pandas as pd\n",
    "from ipynb.fs.full.semrush_call import *"
   ]
  },
  {
   "cell_type": "code",
   "execution_count": 37,
   "metadata": {},
   "outputs": [],
   "source": [
    "def get_authority_score_websites(dataframe, linktype):\n",
    "    # Check what type of backlink has to be called\n",
    "    if linktype == 'domain_ascore':\n",
    "        type_params = 'backlinks_refdomains'\n",
    "        target_type = 'root_domain'\n",
    "        export_columns = 'domain_ascore'\n",
    "    elif linktype == 'page_ascore':\n",
    "        type_params = 'backlinks'\n",
    "        target_type = 'root_domain'\n",
    "        export_columns = 'page_ascore'\n",
    "    elif linktype == 'ascore':\n",
    "        type_params = 'backlinks_competitors'\n",
    "        target_type = 'root_domain'\n",
    "        export_columns = 'ascore'\n",
    "    else:\n",
    "        print(\"The entered parameters are invalid.\")\n",
    "    \n",
    "    # Define SEMrush call params\n",
    "    backlink_params = {\n",
    "    '?key': 'b9fd485dbbcc0d31bc30e828806fd14c',\n",
    "    'type': type_params,\n",
    "    'target': '',\n",
    "    'target_type': target_type,\n",
    "    'export_columns': export_columns,\n",
    "    'display_limit': '1'\n",
    "    }\n",
    "    endpoint_url = 'https://api.semrush.com/analytics/v1/'\n",
    "    \n",
    "    # Create the list that gets returned at the end\n",
    "    listje = []\n",
    "    \n",
    "    # Make a copy of the dataframe\n",
    "    finalBacklinkData = dataframe.copy()\n",
    "    \n",
    "    finalBacklinkData[export_columns] = 0\n",
    "        \n",
    "    for i in range(0, (len(finalBacklinkData))-4):\n",
    "        try:\n",
    "            backlink_params['target'] = finalBacklinkData.Dn[i]\n",
    "            data = requests.get(semrush_call(backlink_params, endpoint_url))\n",
    "            parsed_data = parse_response(data.content)\n",
    "            print(parsed_data)\n",
    "        \n",
    "        \n",
    "            conv_parsed_data = str(parsed_data)\n",
    "            print(conv_parsed_data)\n",
    "            conv_parsed_data = conv_parsed_data.split(\"'\")\n",
    "            print(conv_parsed_data)\n",
    "            conv_parsed_data = int(conv_parsed_data[1])\n",
    "            print(conv_parsed_data)\n",
    "            listje.append(conv_parsed_data)\n",
    "        except:\n",
    "            listje.append(None)\n",
    "                \n",
    "    return listje"
   ]
  },
  {
   "cell_type": "code",
   "execution_count": 35,
   "metadata": {},
   "outputs": [],
   "source": [
    "dftest = pd.read_csv('calls/dataframe-437c05d23965ee61d3a21893f2c298f06909cd0675ace4caa20fd8b77fc8216b.csv')\n",
    "dftest = dftest.head()"
   ]
  },
  {
   "cell_type": "code",
   "execution_count": 39,
   "metadata": {},
   "outputs": [
    {
     "name": "stdout",
     "output_type": "stream",
     "text": [
      "[{0: '50'}]\n",
      "[{0: '50'}]\n",
      "['[{0: ', '50', '}]']\n",
      "50\n"
     ]
    },
    {
     "data": {
      "text/plain": [
       "[50]"
      ]
     },
     "execution_count": 39,
     "metadata": {},
     "output_type": "execute_result"
    }
   ],
   "source": [
    "lol = get_authority_score_websites(dftest, 'ascore')\n",
    "lol"
   ]
  },
  {
   "cell_type": "code",
   "execution_count": null,
   "metadata": {},
   "outputs": [],
   "source": [
    "# finalBacklinkData = backlink(dftest, 'backlink', True)\n",
    "# finalBacklinkData"
   ]
  },
  {
   "cell_type": "code",
   "execution_count": null,
   "metadata": {},
   "outputs": [],
   "source": [
    "def get_authority_score_websites(dataframe, linktype, potential_overwrite):\n",
    "    # Check what type of backlink has to be called\n",
    "    if linktype == 'domain_ascore':\n",
    "        type_params = 'backlinks_refdomains'\n",
    "        target_type = 'root_domain'\n",
    "        export_columns = 'domain_ascore'\n",
    "    elif linktype == 'page_ascore':\n",
    "        type_params = 'backlinks'\n",
    "        target_type = 'root_domain'\n",
    "        export_columns = 'page_ascore'\n",
    "    elif linktype == 'ascore':\n",
    "        type_params = 'backlinks_competitors'\n",
    "        target_type = 'root_domain'\n",
    "        export_columns = 'ascore'\n",
    "    else:\n",
    "        print(\"The entered parameters are invalid.\")\n",
    "    \n",
    "    # Define SEMrush call params\n",
    "    backlink_params = {\n",
    "    '?key': 'b9fd485dbbcc0d31bc30e828806fd14c',\n",
    "    'type': type_params,\n",
    "    'target': '',\n",
    "    'target_type': target_type,\n",
    "    'export_columns': export_columns,\n",
    "    'display_limit': '1'\n",
    "    }\n",
    "    endpoint_url = 'https://api.semrush.com/analytics/v1/'\n",
    "    \n",
    "    # Create the list that gets returned at the end\n",
    "    backlinklist = []\n",
    "    \n",
    "    # Make a copy of the dataframe\n",
    "    finalBacklinkData = dataframe.copy()\n",
    "\n",
    "    # Hash the given 'Ur' values, save it and check if the file already exists\n",
    "    backlinklist_hashed = hash_variable(finalBacklinkData['Ur']) + linktype\n",
    "    file_exists = existing_file(backlinklist_hashed, \"backlinklist\", potential_overwrite)\n",
    "    \n",
    "    # Check if the file exists and act accordingly\n",
    "    if file_exists == False:    \n",
    "        finalBacklinkData[export_columns] = 0\n",
    "    \n",
    "        for i in range(0, (len(finalBacklinkData))):\n",
    "            try:\n",
    "                # Check what type of data has to be retrieved from SEMrush\n",
    "                if linktype == 'backlink':\n",
    "                    backlink_params['target'] = finalBacklinkData.Dn[i]\n",
    "                elif linktype == 'internal' or linktype == 'external':\n",
    "                    backlink_params['target'] = finalBacklinkData.Ur[i]\n",
    "\n",
    "                data = requests.get(semrush_call(backlink_params, endpoint_url))\n",
    "                parsed_data = parse_response(data.content)\n",
    "        \n",
    "                conv_parsed_data = str(parsed_data)\n",
    "                conv_parsed_data = conv_parsed_data.split(\"'\")\n",
    "                conv_parsed_data = int(conv_parsed_data[1])\n",
    "                backlinklist.append(conv_parsed_data)\n",
    "            except:\n",
    "                backlinklist.append(None)\n",
    "                \n",
    "        # Convert list to dataframe and save it\n",
    "        backlinklist_pd = pd.DataFrame(backlinklist)\n",
    "        backlinklist_pd.to_csv(f\"calls/backlinklist-{backlinklist_hashed}.csv\")\n",
    "        return backlinklist\n",
    "    \n",
    "    else:\n",
    "        # Load CSV file and convert back to list\n",
    "        backlinklist_pd = pd.read_csv(f\"calls/backlinklist-{backlinklist_hashed}.csv\")\n",
    "        return backlinklist_pd['0'].values.tolist()"
   ]
  }
 ],
 "metadata": {
  "kernelspec": {
   "display_name": "Python 3",
   "language": "python",
   "name": "python3"
  },
  "language_info": {
   "codemirror_mode": {
    "name": "ipython",
    "version": 3
   },
   "file_extension": ".py",
   "mimetype": "text/x-python",
   "name": "python",
   "nbconvert_exporter": "python",
   "pygments_lexer": "ipython3",
   "version": "3.8.5"
  }
 },
 "nbformat": 4,
 "nbformat_minor": 4
}
