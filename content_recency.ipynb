{
 "cells": [
  {
   "cell_type": "code",
   "execution_count": 1,
   "metadata": {},
   "outputs": [],
   "source": [
    "from htmldate import find_date\n",
    "import pandas as pd\n",
    "from ipynb.fs.full.functions import *\n",
    "from datetime import datetime"
   ]
  },
  {
   "cell_type": "markdown",
   "metadata": {},
   "source": [
    "### Notes\n",
    "\n",
    "The package <b>htmldate</b> has a `precision` of `0.899` and an `accuracy` of `0.831`. This means that only about `90%` of the input URL's will give output and that the output is only about `83%` accurate. This is however the most precise and accurate package there is at this moment."
   ]
  },
  {
   "cell_type": "code",
   "execution_count": 44,
   "metadata": {},
   "outputs": [],
   "source": [
    "def DaysBetween(d1, d2):\n",
    "    d1 = datetime.strptime(d1, \"%Y-%m-%d\")\n",
    "    d2 = datetime.strptime(d2, \"%Y-%m-%d\")\n",
    "    return abs((d2 - d1).days)\n",
    "\n",
    "# returns dataframe with the original publication date and last modified date, \n",
    "# which are often the same date\n",
    "def GetContentRecency(df):\n",
    "    rows_list = []\n",
    "    urls = df[\"Ur\"]\n",
    "    \n",
    "    for key,value in urls.iteritems():\n",
    "        try:\n",
    "            original = find_date(value,original_date=True)\n",
    "            last_modified = find_date(value)          \n",
    "            days_between = DaysBetween(original,last_modified)\n",
    "            \n",
    "            if last_modified is None:\n",
    "                rows_list.append({\"URL\":value,\"original_publication\":\"NaN\",\"last_modified\":\"NaN\",\"days_between\":\"NaN\"})\n",
    "            else:\n",
    "                rows_list.append({\"URL\":value,\"original_publication\":original,\"last_modified\":last_modified,\"days_between\":days_between})\n",
    "        except:\n",
    "            rows_list.append({\"URL\":value,\"original_publication\":\"NaN\",\"last_modified\":\"NaN\",\"days_between\":\"NaN\"})\n",
    "            continue\n",
    "     \n",
    "    return pd.DataFrame(rows_list)"
   ]
  },
  {
   "cell_type": "code",
   "execution_count": null,
   "metadata": {},
   "outputs": [],
   "source": [
    "# Count difference in days between today and between the last modified date\n",
    "# Input: dataframe, output: dataframe with extra column \"daysOld\"\n",
    "def days_between_today_and_last_modified(df):\n",
    "    today = pd.to_datetime(today, format='%Y-%m-%d')\n",
    "    df['last_modified'] = pd.to_datetime(df['last_modified'], format='%Y-%m-%d')\n",
    "    df['days_between_today_and_last_modified'] =  today - df['last_modified']\n",
    "    df['days_between_today_and_last_modified'] = df['daysOld'] / np.timedelta64(1, 'D')\n",
    "    return df"
   ]
  },
  {
   "cell_type": "code",
   "execution_count": 45,
   "metadata": {},
   "outputs": [
    {
     "data": {
      "text/html": [
       "<div>\n",
       "<style scoped>\n",
       "    .dataframe tbody tr th:only-of-type {\n",
       "        vertical-align: middle;\n",
       "    }\n",
       "\n",
       "    .dataframe tbody tr th {\n",
       "        vertical-align: top;\n",
       "    }\n",
       "\n",
       "    .dataframe thead th {\n",
       "        text-align: right;\n",
       "    }\n",
       "</style>\n",
       "<table border=\"1\" class=\"dataframe\">\n",
       "  <thead>\n",
       "    <tr style=\"text-align: right;\">\n",
       "      <th></th>\n",
       "      <th>URL</th>\n",
       "      <th>original_publication</th>\n",
       "      <th>last_modified</th>\n",
       "      <th>days_between</th>\n",
       "    </tr>\n",
       "  </thead>\n",
       "  <tbody>\n",
       "    <tr>\n",
       "      <th>0</th>\n",
       "      <td>https://www.bouwmaat.com/bouwmaterialen</td>\n",
       "      <td>2021-05-11</td>\n",
       "      <td>2021-05-11</td>\n",
       "      <td>0</td>\n",
       "    </tr>\n",
       "    <tr>\n",
       "      <th>1</th>\n",
       "      <td>https://www.bouwbestel.nl/bouwmaterialen.html</td>\n",
       "      <td>2007-01-01</td>\n",
       "      <td>2021-01-01</td>\n",
       "      <td>5114</td>\n",
       "    </tr>\n",
       "  </tbody>\n",
       "</table>\n",
       "</div>"
      ],
      "text/plain": [
       "                                             URL original_publication  \\\n",
       "0        https://www.bouwmaat.com/bouwmaterialen           2021-05-11   \n",
       "1  https://www.bouwbestel.nl/bouwmaterialen.html           2007-01-01   \n",
       "\n",
       "  last_modified  days_between  \n",
       "0    2021-05-11             0  \n",
       "1    2021-01-01          5114  "
      ]
     },
     "execution_count": 45,
     "metadata": {},
     "output_type": "execute_result"
    }
   ],
   "source": [
    "# d = {'Ur': [\"https://www.bouwmaat.com/bouwmaterialen\", \"https://www.bouwbestel.nl/bouwmaterialen.html\"], 'Iets': [3, 4]}\n",
    "# df = pd.DataFrame(data=d)\n",
    "# GetContentRecency(df)"
   ]
  },
  {
   "cell_type": "code",
   "execution_count": null,
   "metadata": {},
   "outputs": [],
   "source": []
  },
  {
   "cell_type": "code",
   "execution_count": null,
   "metadata": {},
   "outputs": [],
   "source": []
  }
 ],
 "metadata": {
  "kernelspec": {
   "display_name": "Python 3",
   "language": "python",
   "name": "python3"
  },
  "language_info": {
   "codemirror_mode": {
    "name": "ipython",
    "version": 3
   },
   "file_extension": ".py",
   "mimetype": "text/x-python",
   "name": "python",
   "nbconvert_exporter": "python",
   "pygments_lexer": "ipython3",
   "version": "3.8.8"
  }
 },
 "nbformat": 4,
 "nbformat_minor": 4
}
