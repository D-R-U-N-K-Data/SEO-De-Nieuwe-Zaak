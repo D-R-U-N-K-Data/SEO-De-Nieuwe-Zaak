{
 "cells": [
  {
   "cell_type": "markdown",
   "metadata": {},
   "source": [
    "# Helper Functions\n",
    "\n",
    "In this notebook you find all the helper functions you can access and use in all the notebooks within the project."
   ]
  },
  {
   "cell_type": "markdown",
   "metadata": {},
   "source": [
    "## Access\n",
    "\n",
    "Copy paste this import in the notebook where you want to use the functions:\n",
    "   - from ipynb.fs.full.functions import *\n",
    "   \n",
    "Or when you only want to import a specific function\n",
    "   - from ipynb.fs.full.functions import getspecificolumns"
   ]
  },
  {
   "cell_type": "markdown",
   "metadata": {},
   "source": [
    "## Functions\n",
    "\n",
    "<b>Note!</b> If functions don't work, check if column names and such are up to date.\n",
    "\n",
    "### Imports"
   ]
  },
  {
   "cell_type": "code",
   "execution_count": 2,
   "metadata": {},
   "outputs": [],
   "source": [
    "import pandas as pd\n",
    "import requests\n",
    "from bs4 import BeautifulSoup"
   ]
  },
  {
   "cell_type": "markdown",
   "metadata": {},
   "source": [
    "### Data"
   ]
  },
  {
   "cell_type": "code",
   "execution_count": 3,
   "metadata": {},
   "outputs": [],
   "source": [
    "testdata = pd.read_csv(\"calls/call-c85aac6308a09d9112b7235ab11f329c3178fd29f457deda02aec99a924e4c81.csv\")"
   ]
  },
  {
   "cell_type": "markdown",
   "metadata": {},
   "source": [
    "### Functions"
   ]
  },
  {
   "cell_type": "code",
   "execution_count": 4,
   "metadata": {},
   "outputs": [],
   "source": [
    "# returns dataframe with only the website column\n",
    "def GetWebsites():\n",
    "    return testdata[\"1\"]\n",
    "\n",
    "# returns dataframe with all columns in initial dataframe\n",
    "def GetAllColumns():\n",
    "    return testdata\n",
    "\n",
    "# returns dataframe with specific columns\n",
    "# expects list with column names as param\n",
    "def GetSpecificColumns(column_list):\n",
    "    df = pd.DataFrame()\n",
    "    for column in column_list:\n",
    "        df[column] = testdata[column]\n",
    "    return df\n",
    "\n",
    "# returns soup of given website\n",
    "def RequestSoup(webpage):\n",
    "    r = requests.get(webpage)\n",
    "    return BeautifulSoup(r.content)"
   ]
  }
 ],
 "metadata": {
  "kernelspec": {
   "display_name": "Python 3",
   "language": "python",
   "name": "python3"
  },
  "language_info": {
   "codemirror_mode": {
    "name": "ipython",
    "version": 3
   },
   "file_extension": ".py",
   "mimetype": "text/x-python",
   "name": "python",
   "nbconvert_exporter": "python",
   "pygments_lexer": "ipython3",
   "version": "3.8.5"
  }
 },
 "nbformat": 4,
 "nbformat_minor": 4
}
