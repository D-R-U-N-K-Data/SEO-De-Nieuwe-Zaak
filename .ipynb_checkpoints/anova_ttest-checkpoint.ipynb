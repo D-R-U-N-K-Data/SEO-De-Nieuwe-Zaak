{
 "cells": [
  {
   "cell_type": "code",
   "execution_count": 1,
   "metadata": {},
   "outputs": [],
   "source": [
    "import pandas as pd\n",
    "from scipy.stats import f_oneway\n",
    "from scipy.stats import ttest_ind\n",
    "import numpy as np\n",
    "from sklearn.linear_model import LinearRegression\n",
    "import matplotlib.pyplot as plt\n",
    "import seaborn as sns\n",
    "import warnings\n",
    "from pylab import rcParams\n",
    "from sklearn.feature_selection import SelectKBest\n",
    "from sklearn.feature_selection import chi2\n",
    "from sklearn.impute import SimpleImputer\n",
    "from sklearn import preprocessing\n",
    "from sklearn.experimental import enable_iterative_imputer\n",
    "from sklearn.impute import IterativeImputer"
   ]
  },
  {
   "cell_type": "code",
   "execution_count": 2,
   "metadata": {},
   "outputs": [],
   "source": [
    "%matplotlib inline\n",
    "warnings.filterwarnings(\"ignore\")\n",
    "rcParams['figure.figsize'] = 6,4\n",
    "rcParams['font.size'] = 15\n",
    "sns.set()\n",
    "np.random.seed(8)"
   ]
  },
  {
   "cell_type": "markdown",
   "metadata": {},
   "source": [
    "# T Test\n",
    "\n",
    "Hypotheses:\n",
    " - H0: De gemiddelde ranking van een website met META titel is gelijk aan die zonder een META titel\n",
    " - HA: De gemiddelde ranking van een website met META titel is ongelijk aan die zonder een META titel (scoort hoger of lager)\n",
    " - H0: De gemiddelde ranking van een website met META beschrijving is gelijk aan die zonder een META beschrijving\n",
    " - HA: De gemiddelde ranking van een website met META beschrijving is ongelijk aan die zonder een META beschrijving (scoort hoger of lager)"
   ]
  },
  {
   "cell_type": "code",
   "execution_count": 3,
   "metadata": {},
   "outputs": [
    {
     "data": {
      "text/html": [
       "<div>\n",
       "<style scoped>\n",
       "    .dataframe tbody tr th:only-of-type {\n",
       "        vertical-align: middle;\n",
       "    }\n",
       "\n",
       "    .dataframe tbody tr th {\n",
       "        vertical-align: top;\n",
       "    }\n",
       "\n",
       "    .dataframe thead th {\n",
       "        text-align: right;\n",
       "    }\n",
       "</style>\n",
       "<table border=\"1\" class=\"dataframe\">\n",
       "  <thead>\n",
       "    <tr style=\"text-align: right;\">\n",
       "      <th></th>\n",
       "      <th>Number</th>\n",
       "      <th>Dn</th>\n",
       "      <th>Ur</th>\n",
       "      <th>Keyword</th>\n",
       "      <th>Kd</th>\n",
       "      <th>HeaderCount</th>\n",
       "      <th>ListsCount</th>\n",
       "      <th>InternalLinksSoup</th>\n",
       "      <th>ExternalLinksSoup</th>\n",
       "      <th>InternalLinksSEMrush</th>\n",
       "      <th>ExternalLinksSEMrush</th>\n",
       "      <th>BacklinksSEMrush</th>\n",
       "      <th>Total Images</th>\n",
       "      <th>Image Tags</th>\n",
       "      <th>Content-length</th>\n",
       "      <th>META-Title</th>\n",
       "      <th>META-Description</th>\n",
       "      <th>Creation Date</th>\n",
       "    </tr>\n",
       "  </thead>\n",
       "  <tbody>\n",
       "    <tr>\n",
       "      <th>0</th>\n",
       "      <td>0</td>\n",
       "      <td>bouwmaat.nl</td>\n",
       "      <td>https://www.bouwmaat.nl/bouwmaterialen</td>\n",
       "      <td>bouwmaterialen</td>\n",
       "      <td>82.48</td>\n",
       "      <td>4.0</td>\n",
       "      <td>31.0</td>\n",
       "      <td>1426.0</td>\n",
       "      <td>10.0</td>\n",
       "      <td>43.0</td>\n",
       "      <td>77.0</td>\n",
       "      <td>6884.0</td>\n",
       "      <td>23</td>\n",
       "      <td>['None', 'None', 'None', 'None', 'None', 'None...</td>\n",
       "      <td>753</td>\n",
       "      <td>Bouwmaterialen kopen: Online of in de vestigin...</td>\n",
       "      <td>Bouwmaterialen kopen ✓ Online of in de vestigi...</td>\n",
       "      <td>None</td>\n",
       "    </tr>\n",
       "    <tr>\n",
       "      <th>1</th>\n",
       "      <td>1</td>\n",
       "      <td>hornbach.nl</td>\n",
       "      <td>https://www.hornbach.nl/shop/Bouwmateriaal/S44...</td>\n",
       "      <td>bouwmaterialen</td>\n",
       "      <td>82.48</td>\n",
       "      <td>10.0</td>\n",
       "      <td>17.0</td>\n",
       "      <td>217.0</td>\n",
       "      <td>7.0</td>\n",
       "      <td>42.0</td>\n",
       "      <td>79.0</td>\n",
       "      <td>633.0</td>\n",
       "      <td>21</td>\n",
       "      <td>['Hornbach logo', 'Assortiment Binnenafbouw', ...</td>\n",
       "      <td>367</td>\n",
       "      <td>Bouwmaterialen kopen? .HORNBACH. Laagste prijs</td>\n",
       "      <td>Bekijk ons assortiment Bouwmateriaal  in onze ...</td>\n",
       "      <td>None</td>\n",
       "    </tr>\n",
       "    <tr>\n",
       "      <th>2</th>\n",
       "      <td>2</td>\n",
       "      <td>bouwbestel.nl</td>\n",
       "      <td>https://www.bouwbestel.nl/bouwmaterialen.html</td>\n",
       "      <td>bouwmaterialen</td>\n",
       "      <td>82.48</td>\n",
       "      <td>2.0</td>\n",
       "      <td>7.0</td>\n",
       "      <td>2595.0</td>\n",
       "      <td>14.0</td>\n",
       "      <td>128.0</td>\n",
       "      <td>19.0</td>\n",
       "      <td>12.0</td>\n",
       "      <td>57</td>\n",
       "      <td>['Uniebouw', 'None', 'None', 'None', 'None', '...</td>\n",
       "      <td>252</td>\n",
       "      <td>Bouwmaterialen Online - Bouwbestel - Bouwmater...</td>\n",
       "      <td>Op zoek naar bouwmaterialen? Bij Bouwbestel be...</td>\n",
       "      <td>None</td>\n",
       "    </tr>\n",
       "    <tr>\n",
       "      <th>3</th>\n",
       "      <td>3</td>\n",
       "      <td>online-bouwmaterialen.nl</td>\n",
       "      <td>https://www.online-bouwmaterialen.nl/</td>\n",
       "      <td>bouwmaterialen</td>\n",
       "      <td>82.48</td>\n",
       "      <td>3.0</td>\n",
       "      <td>31.0</td>\n",
       "      <td>138.0</td>\n",
       "      <td>10.0</td>\n",
       "      <td>2.0</td>\n",
       "      <td>2.0</td>\n",
       "      <td>36.0</td>\n",
       "      <td>52</td>\n",
       "      <td>['Online Bouwmaterialen, bestel bouwmaterialen...</td>\n",
       "      <td>1782</td>\n",
       "      <td>Bouwmaterialen Online kopen? | Online Bouwmate...</td>\n",
       "      <td>Bij Online Bouwmaterialen koopt u de beste kwa...</td>\n",
       "      <td>None</td>\n",
       "    </tr>\n",
       "    <tr>\n",
       "      <th>4</th>\n",
       "      <td>4</td>\n",
       "      <td>bmn.nl</td>\n",
       "      <td>https://www.bmn.nl/</td>\n",
       "      <td>bouwmaterialen</td>\n",
       "      <td>82.48</td>\n",
       "      <td>3.0</td>\n",
       "      <td>12.0</td>\n",
       "      <td>563.0</td>\n",
       "      <td>5.0</td>\n",
       "      <td>150.0</td>\n",
       "      <td>178.0</td>\n",
       "      <td>12.0</td>\n",
       "      <td>46</td>\n",
       "      <td>['BMN Bouwmaterialen', 'BMN Bouwmaterialen', '...</td>\n",
       "      <td>175</td>\n",
       "      <td>BMN Bouwmaterialen groothandel - BMN Bouwmater...</td>\n",
       "      <td>BMN (Bouwmaterialen Nederland) is de bouwmater...</td>\n",
       "      <td>None</td>\n",
       "    </tr>\n",
       "  </tbody>\n",
       "</table>\n",
       "</div>"
      ],
      "text/plain": [
       "   Number                        Dn  \\\n",
       "0       0               bouwmaat.nl   \n",
       "1       1               hornbach.nl   \n",
       "2       2             bouwbestel.nl   \n",
       "3       3  online-bouwmaterialen.nl   \n",
       "4       4                    bmn.nl   \n",
       "\n",
       "                                                  Ur         Keyword     Kd  \\\n",
       "0             https://www.bouwmaat.nl/bouwmaterialen  bouwmaterialen  82.48   \n",
       "1  https://www.hornbach.nl/shop/Bouwmateriaal/S44...  bouwmaterialen  82.48   \n",
       "2      https://www.bouwbestel.nl/bouwmaterialen.html  bouwmaterialen  82.48   \n",
       "3              https://www.online-bouwmaterialen.nl/  bouwmaterialen  82.48   \n",
       "4                                https://www.bmn.nl/  bouwmaterialen  82.48   \n",
       "\n",
       "   HeaderCount  ListsCount  InternalLinksSoup  ExternalLinksSoup  \\\n",
       "0          4.0        31.0             1426.0               10.0   \n",
       "1         10.0        17.0              217.0                7.0   \n",
       "2          2.0         7.0             2595.0               14.0   \n",
       "3          3.0        31.0              138.0               10.0   \n",
       "4          3.0        12.0              563.0                5.0   \n",
       "\n",
       "   InternalLinksSEMrush  ExternalLinksSEMrush  BacklinksSEMrush  Total Images  \\\n",
       "0                  43.0                  77.0            6884.0            23   \n",
       "1                  42.0                  79.0             633.0            21   \n",
       "2                 128.0                  19.0              12.0            57   \n",
       "3                   2.0                   2.0              36.0            52   \n",
       "4                 150.0                 178.0              12.0            46   \n",
       "\n",
       "                                          Image Tags  Content-length  \\\n",
       "0  ['None', 'None', 'None', 'None', 'None', 'None...             753   \n",
       "1  ['Hornbach logo', 'Assortiment Binnenafbouw', ...             367   \n",
       "2  ['Uniebouw', 'None', 'None', 'None', 'None', '...             252   \n",
       "3  ['Online Bouwmaterialen, bestel bouwmaterialen...            1782   \n",
       "4  ['BMN Bouwmaterialen', 'BMN Bouwmaterialen', '...             175   \n",
       "\n",
       "                                          META-Title  \\\n",
       "0  Bouwmaterialen kopen: Online of in de vestigin...   \n",
       "1     Bouwmaterialen kopen? .HORNBACH. Laagste prijs   \n",
       "2  Bouwmaterialen Online - Bouwbestel - Bouwmater...   \n",
       "3  Bouwmaterialen Online kopen? | Online Bouwmate...   \n",
       "4  BMN Bouwmaterialen groothandel - BMN Bouwmater...   \n",
       "\n",
       "                                    META-Description Creation Date  \n",
       "0  Bouwmaterialen kopen ✓ Online of in de vestigi...          None  \n",
       "1  Bekijk ons assortiment Bouwmateriaal  in onze ...          None  \n",
       "2  Op zoek naar bouwmaterialen? Bij Bouwbestel be...          None  \n",
       "3  Bij Online Bouwmaterialen koopt u de beste kwa...          None  \n",
       "4  BMN (Bouwmaterialen Nederland) is de bouwmater...          None  "
      ]
     },
     "execution_count": 3,
     "metadata": {},
     "output_type": "execute_result"
    }
   ],
   "source": [
    "df = pd.read_csv('50ColDF.csv')\n",
    "df.head()"
   ]
  },
  {
   "cell_type": "markdown",
   "metadata": {},
   "source": [
    "### Hypothese: websites met META titel hebben gemiddeld een hogere rank dan websites zonder META titel"
   ]
  },
  {
   "cell_type": "code",
   "execution_count": 4,
   "metadata": {},
   "outputs": [],
   "source": [
    "no_title = df[df['META-Title'].isnull()]\n",
    "title = df[df['META-Title'].notnull()]"
   ]
  },
  {
   "cell_type": "code",
   "execution_count": 5,
   "metadata": {},
   "outputs": [],
   "source": [
    "def plot_distribution(inp):\n",
    "    plt.figure()\n",
    "    ax = sns.distplot(inp)\n",
    "    plt.axvline(np.mean(inp), color=\"k\", linestyle=\"dashed\", linewidth=5)\n",
    "    _, max_ = plt.ylim()\n",
    "    plt.text(\n",
    "        inp.mean() + inp.mean() / 10,\n",
    "        max_ - max_ / 10,\n",
    "        \"Mean: {:.2f}\".format(inp.mean()),\n",
    "    )\n",
    "    return plt.figure"
   ]
  },
  {
   "cell_type": "code",
   "execution_count": 6,
   "metadata": {},
   "outputs": [
    {
     "data": {
      "text/plain": [
       "<function matplotlib.pyplot.figure(num=None, figsize=None, dpi=None, facecolor=None, edgecolor=None, frameon=True, FigureClass=<class 'matplotlib.figure.Figure'>, clear=False, **kwargs)>"
      ]
     },
     "execution_count": 6,
     "metadata": {},
     "output_type": "execute_result"
    },
    {
     "data": {
      "image/png": "[encoded data removed]",
      "text/plain": [
       "<Figure size 432x288 with 1 Axes>"
      ]
     },
     "metadata": {},
     "output_type": "display_data"
    }
   ],
   "source": [
    "plot_distribution(title['Number'])"
   ]
  },
  {
   "cell_type": "code",
   "execution_count": 7,
   "metadata": {},
   "outputs": [
    {
     "data": {
      "text/plain": [
       "<function matplotlib.pyplot.figure(num=None, figsize=None, dpi=None, facecolor=None, edgecolor=None, frameon=True, FigureClass=<class 'matplotlib.figure.Figure'>, clear=False, **kwargs)>"
      ]
     },
     "execution_count": 7,
     "metadata": {},
     "output_type": "execute_result"
    },
    {
     "data": {
      "image/png": "[encoded data removed]",
      "text/plain": [
       "<Figure size 432x288 with 1 Axes>"
      ]
     },
     "metadata": {},
     "output_type": "display_data"
    }
   ],
   "source": [
    "plot_distribution(no_title['Number'])"
   ]
  },
  {
   "cell_type": "code",
   "execution_count": 8,
   "metadata": {},
   "outputs": [],
   "source": [
    "def compare_2_groups(arr_1, arr_2, alpha, sample_size):\n",
    "    stat, p = ttest_ind(arr_1, arr_2)\n",
    "    print('Statistics=%.3f, p=%.3f' % (stat, p))\n",
    "    if p > alpha:\n",
    "        print('Same distributions (fail to reject H0)')\n",
    "    else:\n",
    "        print('Different distributions (reject H0)')"
   ]
  },
  {
   "cell_type": "code",
   "execution_count": 9,
   "metadata": {},
   "outputs": [
    {
     "name": "stdout",
     "output_type": "stream",
     "text": [
      "Statistics=-0.101, p=0.922\n",
      "Same distributions (fail to reject H0)\n"
     ]
    }
   ],
   "source": [
    "sample_size = 6\n",
    "title_sampled = np.random.choice(title['Number'], sample_size)\n",
    "no_title_sampled = np.random.choice(no_title['Number'], sample_size)\n",
    "compare_2_groups(title_sampled, no_title_sampled, 0.05, sample_size)"
   ]
  },
  {
   "cell_type": "markdown",
   "metadata": {},
   "source": [
    "### Conclusie: Het ontbreken van een META titel lijkt niet significant te zijn"
   ]
  },
  {
   "cell_type": "markdown",
   "metadata": {},
   "source": [
    "### Hypothese: websites met META beschrijving hebben gemiddeld een hogere rank dan websites zonder META beschrijving"
   ]
  },
  {
   "cell_type": "code",
   "execution_count": 10,
   "metadata": {},
   "outputs": [],
   "source": [
    "no_description = df[df['META-Description'].isnull()]\n",
    "description = df[df['META-Description'].notnull()]"
   ]
  },
  {
   "cell_type": "code",
   "execution_count": 11,
   "metadata": {},
   "outputs": [
    {
     "data": {
      "text/plain": [
       "<function matplotlib.pyplot.figure(num=None, figsize=None, dpi=None, facecolor=None, edgecolor=None, frameon=True, FigureClass=<class 'matplotlib.figure.Figure'>, clear=False, **kwargs)>"
      ]
     },
     "execution_count": 11,
     "metadata": {},
     "output_type": "execute_result"
    },
    {
     "data": {
      "image/png": "[encoded data removed]",
      "text/plain": [
       "<Figure size 432x288 with 1 Axes>"
      ]
     },
     "metadata": {},
     "output_type": "display_data"
    }
   ],
   "source": [
    "plot_distribution(description['Number'])"
   ]
  },
  {
   "cell_type": "code",
   "execution_count": 12,
   "metadata": {},
   "outputs": [
    {
     "data": {
      "text/plain": [
       "<function matplotlib.pyplot.figure(num=None, figsize=None, dpi=None, facecolor=None, edgecolor=None, frameon=True, FigureClass=<class 'matplotlib.figure.Figure'>, clear=False, **kwargs)>"
      ]
     },
     "execution_count": 12,
     "metadata": {},
     "output_type": "execute_result"
    },
    {
     "data": {
      "image/png": "[encoded data removed]",
      "text/plain": [
       "<Figure size 432x288 with 1 Axes>"
      ]
     },
     "metadata": {},
     "output_type": "display_data"
    }
   ],
   "source": [
    "plot_distribution(no_description['Number'])"
   ]
  },
  {
   "cell_type": "code",
   "execution_count": 13,
   "metadata": {},
   "outputs": [
    {
     "name": "stdout",
     "output_type": "stream",
     "text": [
      "Statistics=1.073, p=0.297\n",
      "Same distributions (fail to reject H0)\n"
     ]
    }
   ],
   "source": [
    "sample_size = 10\n",
    "description_sampled = np.random.choice(description['Number'], sample_size)\n",
    "no_description_sampled = np.random.choice(no_description['Number'], sample_size)\n",
    "compare_2_groups(description_sampled, no_description_sampled, 0.05, sample_size)"
   ]
  },
  {
   "cell_type": "markdown",
   "metadata": {},
   "source": [
    "### Conclusie: Het ontbreken van een META beschrijving lijkt niet significant te zijn"
   ]
  },
  {
   "cell_type": "code",
   "execution_count": null,
   "metadata": {},
   "outputs": [],
   "source": []
  }
 ],
 "metadata": {
  "kernelspec": {
   "display_name": "Python 3",
   "language": "python",
   "name": "python3"
  },
  "language_info": {
   "codemirror_mode": {
    "name": "ipython",
    "version": 3
   },
   "file_extension": ".py",
   "mimetype": "text/x-python",
   "name": "python",
   "nbconvert_exporter": "python",
   "pygments_lexer": "ipython3",
   "version": "3.8.5"
  }
 },
 "nbformat": 4,
 "nbformat_minor": 4
}
