{
 "cells": [
  {
   "cell_type": "markdown",
   "metadata": {},
   "source": [
    "# Imports"
   ]
  },
  {
   "cell_type": "code",
   "execution_count": null,
   "metadata": {},
   "outputs": [],
   "source": [
    "# Packages\n",
    "import pandas as pd\n",
    "\n",
    "# Helper functions\n",
    "from ipynb.fs.full.functions import *\n",
    "\n",
    "# Other notebooks for combining code\n",
    "from ipynb.fs.full.semrush_call import execute_call\n",
    "from ipynb.fs.full.text_division_and_styling import LoopGetHeaderCountFromURL, LoopGetListsCountFromURL"
   ]
  },
  {
   "cell_type": "markdown",
   "metadata": {},
   "source": [
    "# Executing of functions\n",
    "## Variables for keyword search"
   ]
  },
  {
   "cell_type": "code",
   "execution_count": null,
   "metadata": {},
   "outputs": [],
   "source": [
    "keyword = 'bouwmaterialen'\n",
    "result_count = '50'\n",
    "\n",
    "### Do you want to overwrite the data if it already exists?\n",
    "potential_overwrite = False"
   ]
  },
  {
   "cell_type": "markdown",
   "metadata": {},
   "source": [
    "## Creating dataframes"
   ]
  },
  {
   "cell_type": "code",
   "execution_count": null,
   "metadata": {},
   "outputs": [],
   "source": [
    "def ExecuteAllCalls(save):\n",
    "    # Define variables for the SEMrush call and gather keyword data\n",
    "    export_columns = 'Dn,Ur'\n",
    "    endpoint_url = 'https://api.semrush.com/'\n",
    "    main_dataframe = execute_call(keyword, result_count, export_columns, endpoint_url, potential_overwrite)\n",
    "    \n",
    "    # Executing functions from other notebooks to gather data\n",
    "    print(\"0% - Executing LoopGetHeaderCountFromURL\")\n",
    "    main_dataframe['HeaderCount'] = LoopGetHeaderCountFromURL(main_dataframe)\n",
    "    print(\"50% - Executing LoopGetListsCountFromURL\")\n",
    "    main_dataframe['ListsCount'] = LoopGetListsCountFromURL(main_dataframe)\n",
    "    \n",
    "    # Set correct index, potentially save the output and return the dataframe\n",
    "    main_dataframe = main_dataframe.set_index('Number')\n",
    "    main_dataframe_hash = hash_variable(main_dataframe)\n",
    "    if save == True:\n",
    "        main_dataframe.to_csv(f\"calls\\dataframe-{main_dataframe_hash}.csv\")\n",
    "    print(\"100% - Done\")\n",
    "    return main_dataframe\n",
    "        \n",
    "main_dataframe = ExecuteAllCalls(True)\n",
    "main_dataframe"
   ]
  },
  {
   "cell_type": "code",
   "execution_count": null,
   "metadata": {},
   "outputs": [],
   "source": []
  }
 ],
 "metadata": {
  "kernelspec": {
   "display_name": "Python 3",
   "language": "python",
   "name": "python3"
  },
  "language_info": {
   "codemirror_mode": {
    "name": "ipython",
    "version": 3
   },
   "file_extension": ".py",
   "mimetype": "text/x-python",
   "name": "python",
   "nbconvert_exporter": "python",
   "pygments_lexer": "ipython3",
   "version": "3.8.5"
  }
 },
 "nbformat": 4,
 "nbformat_minor": 4
}
