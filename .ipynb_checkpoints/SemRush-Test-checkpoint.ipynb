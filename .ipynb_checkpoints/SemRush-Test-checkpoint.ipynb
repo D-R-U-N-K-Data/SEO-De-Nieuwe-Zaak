{
 "cells": [
  {
   "cell_type": "markdown",
   "metadata": {},
   "source": [
    "# Packages"
   ]
  },
  {
   "cell_type": "code",
   "execution_count": 147,
   "metadata": {},
   "outputs": [],
   "source": [
    "# Import essential packages\n",
    "import urllib\n",
    "from urllib.parse import urlencode\n",
    "import requests\n",
    "import pandas as pd\n",
    "import os.path, time\n",
    "import hashlib\n",
    "\n",
    "### Temporary annotations\n",
    "# https://api.semrush.com/?type=phrase_organic&key={{key}}&phrase=bouwmaterialen&export_columns=Dn,Ur,Fk,Fp&database=nl&display_limit=20\n",
    "# https://api.semrush.com/?type=phrase_organic&key=b9fd485dbbcc0d31bc30e828806fd14c&phrase=bouwmaterialen&export_columns=Dn,Ur,Fk,Fp&database=nl&display_limit=5\n",
    "# https://api.semrush.com/?type=phrase_organic&key=b9fd485dbbcc0d31bc30e828806fd14c&phrase=bouwmaterialen&export_columns=Dn,Ur,Ts&database=nl&display_limit=1"
   ]
  },
  {
   "cell_type": "markdown",
   "metadata": {},
   "source": [
    "# Variables"
   ]
  },
  {
   "cell_type": "code",
   "execution_count": 148,
   "metadata": {},
   "outputs": [],
   "source": [
    "### Below code is for backlinks\n",
    "endpoint_url = 'https://api.semrush.com/analytics/v1/'\n",
    "export_columns = 'external_num,internal_num'\n",
    "params = {\n",
    "    '?key': 'b9fd485dbbcc0d31bc30e828806fd14c',\n",
    "    'type': 'backlinks',\n",
    "    'target': 'bouwmaat.nl',\n",
    "    'target_type': 'root_domain',\n",
    "    'export_columns': export_columns,\n",
    "    'display_limit': '1'\n",
    "}\n",
    "\n",
    "### Below code is for keywords\n",
    "#     params = {\n",
    "#     \"?type\": 'phrase_organic',\n",
    "#     'key': 'b9fd485dbbcc0d31bc30e828806fd14c',\n",
    "#     'phrase': 'bouwmaterialen',\n",
    "#     'export_columns': export_columns, # Columns from https://www.semrush.com/api-analytics/#columns\n",
    "#     'database': 'nl', # Country of market\n",
    "#     'display_limit': '5', # Count of retrieving results\n",
    "#     }\n",
    "\n",
    "### Do you want to overwrite the data if it already exists?\n",
    "potential_overwrite = False"
   ]
  },
  {
   "cell_type": "markdown",
   "metadata": {},
   "source": [
    "# Functions"
   ]
  },
  {
   "cell_type": "code",
   "execution_count": 149,
   "metadata": {},
   "outputs": [],
   "source": [
    "### Function used to monitor credit use for SEMrush API\n",
    "def semrush_call(params):\n",
    "    data = urllib.parse.urlencode(params, doseq=True)\n",
    "    main_call = urllib.parse.urljoin(endpoint_url, data)\n",
    "    main_call = main_call.replace(r'%3F', r'?')\n",
    "    return main_call\n",
    "\n",
    "### Function used to parse data from semrush_call\n",
    "def parse_response(call_data):\n",
    "    results = []\n",
    "    data = call_data.decode('unicode_escape')\n",
    "    lines = data.split('\\r\\n')\n",
    "    lines = list(filter(bool, lines))\n",
    "    columns = lines[0].split(';')\n",
    "        \n",
    "    for line in lines[1:]:\n",
    "        result = {}\n",
    "        for i, datum in enumerate(line.split(';')):\n",
    "            result[i] = datum.strip('\"\\n\\r\\t')\n",
    "        results.append(result)\n",
    "    return results\n",
    "\n",
    "### Function to check if query has already been executed before, and if so, use that result\n",
    "def existing_file(params_hashed):\n",
    "    try: # Check if file exists\n",
    "        with open(f\"calls\\call-{params_hashed}.csv\"):\n",
    "            potential_csv_file_exists = 1\n",
    "    except IOError:\n",
    "        potential_csv_file_exists = 0\n",
    "        return False\n",
    "    \n",
    "    if potential_csv_file_exists == 1: # If file exists, load from file, unless potential_overwrite is True\n",
    "        print(\"Deze call is al een keer uitgevoerd, \", end = '')\n",
    "        if potential_overwrite != True:\n",
    "            print(\"we gaan verder met de bestaande resultaten.\")\n",
    "            print(\"Dit bestand is laatst gewijzigd op: %s\" % time.ctime(os.path.getmtime(f\"calls\\call-{params_hashed}.csv\")))\n",
    "            return True\n",
    "        else:\n",
    "            print(\"we maken echter nieuwe resultaten aan.\")\n",
    "            return False\n",
    "\n",
    "### Function used to rename columns to readable format\n",
    "def rename_columns(finalKeywordData):\n",
    "    x = export_columns.split(',')\n",
    "    finalKeywordData = finalKeywordData.rename(columns={finalKeywordData.columns[0]:'Number'})\n",
    "\n",
    "    for i in range(0, (len(finalKeywordData.columns)-1)):\n",
    "        finalKeywordData = finalKeywordData.rename(columns={finalKeywordData.columns[i+1]:x[i]})\n",
    "        \n",
    "    return finalKeywordData\n",
    "\n",
    "### Function used to hash a given variable\n",
    "def hash_variable(variable):\n",
    "    string_variable = str(variable)\n",
    "    hashed_string = hashlib.sha256(string_variable.encode('utf-8'))\n",
    "    hashed_variable = hashed_string.hexdigest()\n",
    "    return hashed_variable\n",
    "        \n",
    "### Function used to call all other functions to get the data in a formatted way\n",
    "def execute_call():\n",
    "    params_hashed = hash_variable(params)\n",
    "    file_exists = existing_file(params_hashed)\n",
    "    if file_exists == True: # Just load CSV file\n",
    "        finalKeywordData = pd.read_csv(f\"calls\\call-{params_hashed}.csv\")\n",
    "        return rename_columns(finalKeywordData)\n",
    "    else: # Execute query and save to CSV file\n",
    "        data = requests.get(semrush_call(params))\n",
    "        parsed_data = parse_response(data.content)\n",
    "        finalKeywordData = pd.DataFrame(parsed_data)\n",
    "        # Add the finalKeywordData to the dataframe and a new CSV file\n",
    "        finalKeywordData.to_csv(f\"calls\\call-{params_hashed}.csv\")\n",
    "        finalKeywordData = pd.read_csv(f\"calls\\call-{params_hashed}.csv\") # Make sure to read from CSV to easily make format uniform\n",
    "        return rename_columns(finalKeywordData)"
   ]
  },
  {
   "cell_type": "markdown",
   "metadata": {},
   "source": [
    "# Executing of functions"
   ]
  },
  {
   "cell_type": "code",
   "execution_count": 150,
   "metadata": {},
   "outputs": [
    {
     "name": "stdout",
     "output_type": "stream",
     "text": [
      "Deze call is al een keer uitgevoerd, we gaan verder met de bestaande resultaten.\n",
      "Dit bestand is laatst gewijzigd op: Wed Apr 21 15:37:26 2021\n"
     ]
    },
    {
     "data": {
      "text/html": [
       "<div>\n",
       "<style scoped>\n",
       "    .dataframe tbody tr th:only-of-type {\n",
       "        vertical-align: middle;\n",
       "    }\n",
       "\n",
       "    .dataframe tbody tr th {\n",
       "        vertical-align: top;\n",
       "    }\n",
       "\n",
       "    .dataframe thead th {\n",
       "        text-align: right;\n",
       "    }\n",
       "</style>\n",
       "<table border=\"1\" class=\"dataframe\">\n",
       "  <thead>\n",
       "    <tr style=\"text-align: right;\">\n",
       "      <th></th>\n",
       "      <th>Number</th>\n",
       "      <th>external_num</th>\n",
       "      <th>internal_num</th>\n",
       "    </tr>\n",
       "  </thead>\n",
       "  <tbody>\n",
       "    <tr>\n",
       "      <th>0</th>\n",
       "      <td>0</td>\n",
       "      <td>412</td>\n",
       "      <td>12</td>\n",
       "    </tr>\n",
       "  </tbody>\n",
       "</table>\n",
       "</div>"
      ],
      "text/plain": [
       "   Number  external_num  internal_num\n",
       "0       0           412            12"
      ]
     },
     "execution_count": 150,
     "metadata": {},
     "output_type": "execute_result"
    }
   ],
   "source": [
    "# Executing of final function\n",
    "finalKeywordData = execute_call()\n",
    "finalKeywordData"
   ]
  },
  {
   "cell_type": "markdown",
   "metadata": {},
   "source": [
    "# Unused code"
   ]
  },
  {
   "cell_type": "code",
   "execution_count": 145,
   "metadata": {},
   "outputs": [],
   "source": [
    "### Unusued for loop to use more keywords in a given query\n",
    "# for every in yourKeywords:\n",
    "#     data=requests.get(semrush_call(phrasetype, every, export_columns, database, display_limit))\n",
    "#     parsed_data = parse_response(data.content)\n",
    "#     df = pd.DataFrame(parsed_data)\n",
    "#     keyword_frame.append(df)"
   ]
  },
  {
   "cell_type": "code",
   "execution_count": null,
   "metadata": {},
   "outputs": [],
   "source": []
  }
 ],
 "metadata": {
  "kernelspec": {
   "display_name": "Python 3",
   "language": "python",
   "name": "python3"
  },
  "language_info": {
   "codemirror_mode": {
    "name": "ipython",
    "version": 3
   },
   "file_extension": ".py",
   "mimetype": "text/x-python",
   "name": "python",
   "nbconvert_exporter": "python",
   "pygments_lexer": "ipython3",
   "version": "3.8.5"
  }
 },
 "nbformat": 4,
 "nbformat_minor": 4
}
