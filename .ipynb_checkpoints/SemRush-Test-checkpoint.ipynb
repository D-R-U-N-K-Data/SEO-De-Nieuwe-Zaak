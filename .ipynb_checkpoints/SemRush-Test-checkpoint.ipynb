{
 "cells": [
  {
   "cell_type": "markdown",
   "metadata": {},
   "source": [
    "# Packages"
   ]
  },
  {
   "cell_type": "code",
   "execution_count": 1,
   "metadata": {},
   "outputs": [],
   "source": [
    "# Import essential packages\n",
    "import urllib\n",
    "from urllib.parse import urlencode\n",
    "import requests\n",
    "import pandas as pd\n",
    "import os.path, time\n",
    "\n",
    "### Temporary annotations\n",
    "# https://api.semrush.com/?type=phrase_organic&key={{key}}&phrase=bouwmaterialen&export_columns=Dn,Ur,Fk,Fp&database=nl&display_limit=20\n",
    "# https://api.semrush.com/?type=phrase_organic&key=b9fd485dbbcc0d31bc30e828806fd14c&phrase=bouwmaterialen&export_columns=Dn,Ur,Fk,Fp&database=nl&display_limit=5"
   ]
  },
  {
   "cell_type": "markdown",
   "metadata": {},
   "source": [
    "# Variables"
   ]
  },
  {
   "cell_type": "code",
   "execution_count": 2,
   "metadata": {},
   "outputs": [],
   "source": [
    "### Define variables for the API call\n",
    "phrasetype = 'phrase_organic'\n",
    "export_columns = 'Dn,Ur,Fk,Fp'\n",
    "database = 'nl'\n",
    "display_limit = '5'\n",
    "\n",
    "### Keywords used for the call\n",
    "yourKeywords = ['bouwmaterialen'] # can also be substituted for a column of a csv file using pandas\n",
    "potential_overwrite = False"
   ]
  },
  {
   "cell_type": "markdown",
   "metadata": {},
   "source": [
    "# Functions"
   ]
  },
  {
   "cell_type": "code",
   "execution_count": 77,
   "metadata": {},
   "outputs": [],
   "source": [
    "### Function used to monitor credit use for SEMrush API\n",
    "def semrush_call(phrasetype, phrase, export_columns, database, display_limit):\n",
    "    params = {\n",
    "        \"?type\": phrasetype,\n",
    "        'key': 'b9fd485dbbcc0d31bc30e828806fd14c',\n",
    "        'phrase': phrase,\n",
    "        'export_columns': export_columns, # Columns from https://www.semrush.com/api-analytics/#columns\n",
    "        'database': database, # Country of market\n",
    "        'display_limit': display_limit, # Count of retrieving results\n",
    "        }\n",
    "    data = urllib.parse.urlencode(params, doseq=True)\n",
    "    main_call = urllib.parse.urljoin('https://api.semrush.com/', data)\n",
    "    main_call = main_call.replace(r'%3F', r'?')\n",
    "    return main_call\n",
    "\n",
    "### Function used to parse data from semrush_call\n",
    "def parse_response(call_data):\n",
    "    results = []\n",
    "    data = call_data.decode('unicode_escape')\n",
    "    lines = data.split('\\r\\n')\n",
    "    lines = list(filter(bool, lines))\n",
    "    columns = lines[0].split(';')\n",
    "        \n",
    "    for line in lines[1:]:\n",
    "        result = {}\n",
    "        for i, datum in enumerate(line.split(';')):\n",
    "            result[i] = datum.strip('\"\\n\\r\\t')\n",
    "        results.append(result)\n",
    "    return results\n",
    "\n",
    "### Function used to call semrush_call and parse_response to get the data in a formatted way and check for existing files\n",
    "def execute_call():\n",
    "    potential_csv_file = (f\"calls\\call-{phrasetype},{yourKeywords},'{export_columns}',{database},{display_limit}.csv\")\n",
    "    try: # Check if file exists\n",
    "        with open(potential_csv_file):\n",
    "            potential_csv_file_exists = 1\n",
    "    except IOError:\n",
    "        potential_csv_file_exists = 0\n",
    "    \n",
    "    if potential_csv_file_exists == 1: # If file exists, load from file, unless potential_overwrite is True\n",
    "        print(\"Deze call is al een keer uitgevoerd, \", end = '')\n",
    "        if potential_overwrite != True:\n",
    "            print(\"we gaan verder met de bestaande resultaten.\")\n",
    "            print(\"Dit bestand is laatst gewijzigd op: %s\" % time.ctime(os.path.getmtime(potential_csv_file)))\n",
    "            finalKeywordData = pd.read_csv(potential_csv_file)\n",
    "            return rename_columns(finalKeywordData)\n",
    "        else:\n",
    "            print(\"we maken echter nieuwe resultaten aan.\")\n",
    "    \n",
    "    if potential_csv_file_exists == 0 or potential_overwrite == True: # Execute query and save to CSV file\n",
    "        keyword_frame = []\n",
    "        for every in yourKeywords:\n",
    "            data=requests.get(semrush_call(phrasetype, every, export_columns, database, display_limit))\n",
    "            parsed_data = parse_response(data.content)\n",
    "            df = pd.DataFrame(parsed_data)\n",
    "            keyword_frame.append(df)\n",
    "        # Add the finalKeywordData to the dataframe and a new CSV file\n",
    "        finalKeywordData = pd.concat(keyword_frame)\n",
    "        finalKeywordData.to_csv(f\"calls\\call-{phrasetype},{yourKeywords},'{export_columns}',{database},{display_limit}.csv\")\n",
    "        finalKeywordData = pd.read_csv(potential_csv_file) # Make sure to read from CSV to easily make format uniform\n",
    "        return rename_columns(finalKeywordData)\n",
    "    \n",
    "def rename_columns(finalKeywordData):\n",
    "    x = export_columns.split(',')\n",
    "    finalKeywordData = finalKeywordData.rename(columns={finalKeywordData.columns[0]:'Number'})\n",
    "\n",
    "    for i in range(0, (len(finalKeywordData.columns)-1)):\n",
    "        finalKeywordData = finalKeywordData.rename(columns={finalKeywordData.columns[i+1]:x[i]})\n",
    "        \n",
    "    return finalKeywordData"
   ]
  },
  {
   "cell_type": "markdown",
   "metadata": {},
   "source": [
    "# Executing of functions"
   ]
  },
  {
   "cell_type": "code",
   "execution_count": 78,
   "metadata": {},
   "outputs": [
    {
     "name": "stdout",
     "output_type": "stream",
     "text": [
      "Deze call is al een keer uitgevoerd, we gaan verder met de bestaande resultaten.\n",
      "Dit bestand is laatst gewijzigd op: Fri Apr 16 13:42:49 2021\n"
     ]
    },
    {
     "data": {
      "text/html": [
       "<div>\n",
       "<style scoped>\n",
       "    .dataframe tbody tr th:only-of-type {\n",
       "        vertical-align: middle;\n",
       "    }\n",
       "\n",
       "    .dataframe tbody tr th {\n",
       "        vertical-align: top;\n",
       "    }\n",
       "\n",
       "    .dataframe thead th {\n",
       "        text-align: right;\n",
       "    }\n",
       "</style>\n",
       "<table border=\"1\" class=\"dataframe\">\n",
       "  <thead>\n",
       "    <tr style=\"text-align: right;\">\n",
       "      <th></th>\n",
       "      <th>Number</th>\n",
       "      <th>Dn</th>\n",
       "      <th>Ur</th>\n",
       "      <th>Fk</th>\n",
       "      <th>Fp</th>\n",
       "    </tr>\n",
       "  </thead>\n",
       "  <tbody>\n",
       "    <tr>\n",
       "      <th>0</th>\n",
       "      <td>0</td>\n",
       "      <td>bouwmaat.nl</td>\n",
       "      <td>https://www.bouwmaat.nl/bouwmaterialen</td>\n",
       "      <td>3,6,7,15</td>\n",
       "      <td>6.0</td>\n",
       "    </tr>\n",
       "    <tr>\n",
       "      <th>1</th>\n",
       "      <td>1</td>\n",
       "      <td>hornbach.nl</td>\n",
       "      <td>https://www.hornbach.nl/shop/Bouwmateriaal/S44...</td>\n",
       "      <td>3,6,7,15</td>\n",
       "      <td>6.0</td>\n",
       "    </tr>\n",
       "    <tr>\n",
       "      <th>2</th>\n",
       "      <td>2</td>\n",
       "      <td>online-bouwmaterialen.nl</td>\n",
       "      <td>https://www.online-bouwmaterialen.nl/</td>\n",
       "      <td>3,6,7,15</td>\n",
       "      <td>6.0</td>\n",
       "    </tr>\n",
       "    <tr>\n",
       "      <th>3</th>\n",
       "      <td>3</td>\n",
       "      <td>bouwbestel.nl</td>\n",
       "      <td>https://www.bouwbestel.nl/bouwmaterialen.html</td>\n",
       "      <td>3,6,7,15</td>\n",
       "      <td>NaN</td>\n",
       "    </tr>\n",
       "    <tr>\n",
       "      <th>4</th>\n",
       "      <td>4</td>\n",
       "      <td>bouwonline.com</td>\n",
       "      <td>https://www.bouwonline.com/</td>\n",
       "      <td>3,6,7,15</td>\n",
       "      <td>NaN</td>\n",
       "    </tr>\n",
       "  </tbody>\n",
       "</table>\n",
       "</div>"
      ],
      "text/plain": [
       "   Number                        Dn  \\\n",
       "0       0               bouwmaat.nl   \n",
       "1       1               hornbach.nl   \n",
       "2       2  online-bouwmaterialen.nl   \n",
       "3       3             bouwbestel.nl   \n",
       "4       4            bouwonline.com   \n",
       "\n",
       "                                                  Ur        Fk   Fp  \n",
       "0             https://www.bouwmaat.nl/bouwmaterialen  3,6,7,15  6.0  \n",
       "1  https://www.hornbach.nl/shop/Bouwmateriaal/S44...  3,6,7,15  6.0  \n",
       "2              https://www.online-bouwmaterialen.nl/  3,6,7,15  6.0  \n",
       "3      https://www.bouwbestel.nl/bouwmaterialen.html  3,6,7,15  NaN  \n",
       "4                        https://www.bouwonline.com/  3,6,7,15  NaN  "
      ]
     },
     "execution_count": 78,
     "metadata": {},
     "output_type": "execute_result"
    }
   ],
   "source": [
    "# Executing of final function\n",
    "#finalKeywordData = execute_call()\n",
    "finalKeywordData = execute_call()\n",
    "finalKeywordData"
   ]
  }
 ],
 "metadata": {
  "kernelspec": {
   "display_name": "Python 3",
   "language": "python",
   "name": "python3"
  },
  "language_info": {
   "codemirror_mode": {
    "name": "ipython",
    "version": 3
   },
   "file_extension": ".py",
   "mimetype": "text/x-python",
   "name": "python",
   "nbconvert_exporter": "python",
   "pygments_lexer": "ipython3",
   "version": "3.8.5"
  }
 },
 "nbformat": 4,
 "nbformat_minor": 4
}
