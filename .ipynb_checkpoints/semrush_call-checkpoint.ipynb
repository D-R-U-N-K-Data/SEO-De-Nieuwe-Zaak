{
 "cells": [
  {
   "cell_type": "markdown",
   "metadata": {},
   "source": [
    "# Packages"
   ]
  },
  {
   "cell_type": "code",
   "execution_count": 2,
   "metadata": {},
   "outputs": [],
   "source": [
    "# Import essential packages\n",
    "import urllib\n",
    "from urllib.parse import urlencode\n",
    "import requests\n",
    "import pandas as pd\n",
    "\n",
    "# Import functions\n",
    "from ipynb.fs.full.functions import hash_variable, existing_file"
   ]
  },
  {
   "cell_type": "markdown",
   "metadata": {},
   "source": [
    "# Variables"
   ]
  },
  {
   "cell_type": "code",
   "execution_count": 3,
   "metadata": {},
   "outputs": [],
   "source": [
    "# ### Below code is for backlinks\n",
    "# endpoint_url = 'https://api.semrush.com/analytics/v1/'\n",
    "# export_columns = 'external_num,internal_num'\n",
    "# params = {\n",
    "#     '?key': 'b9fd485dbbcc0d31bc30e828806fd14c',\n",
    "#     'type': 'backlinks',\n",
    "#     'target': 'bouwmaat.nl',\n",
    "#     'target_type': 'root_domain',\n",
    "#     'export_columns': export_columns,\n",
    "#     'display_limit': '1'\n",
    "#     }"
   ]
  },
  {
   "cell_type": "markdown",
   "metadata": {},
   "source": [
    "# Functions"
   ]
  },
  {
   "cell_type": "code",
   "execution_count": 1,
   "metadata": {},
   "outputs": [],
   "source": [
    "### Function used to monitor credit use for SEMrush API\n",
    "def semrush_call(params, endpoint_url):\n",
    "    data = urllib.parse.urlencode(params, doseq=True)\n",
    "    main_call = urllib.parse.urljoin(endpoint_url, data)\n",
    "    main_call = main_call.replace(r'%3F', r'?')\n",
    "    print(main_call)\n",
    "    return main_call\n",
    "\n",
    "### Function used to parse data from semrush_call\n",
    "def parse_response(call_data):\n",
    "    results = []\n",
    "    data = call_data.decode('unicode_escape')\n",
    "    lines = data.split('\\r\\n')\n",
    "    lines = list(filter(bool, lines))\n",
    "    columns = lines[0].split(';')\n",
    "        \n",
    "    for line in lines[1:]:\n",
    "        result = {}\n",
    "        for i, datum in enumerate(line.split(';')):\n",
    "            result[i] = datum.strip('\"\\n\\r\\t')\n",
    "        results.append(result)\n",
    "    return results\n",
    "\n",
    "### Function used to rename columns to readable format\n",
    "def rename_columns(finalKeywordData, export_columns):\n",
    "    x = export_columns.split(',')\n",
    "    finalKeywordData = finalKeywordData.rename(columns={finalKeywordData.columns[0]:'Number'})\n",
    "\n",
    "    for i in range(0, (len(finalKeywordData.columns)-1)):\n",
    "        finalKeywordData = finalKeywordData.rename(columns={finalKeywordData.columns[i+1]:x[i]})\n",
    "        \n",
    "    return finalKeywordData\n",
    "        \n",
    "### Function used to call all other functions to get the data in a formatted way\n",
    "def execute_call(keyword, result_count, export_columns, endpoint_url, potential_overwrite):\n",
    "    params = {\n",
    "    \"?type\": 'phrase_organic',\n",
    "    'key': 'b9fd485dbbcc0d31bc30e828806fd14c',\n",
    "    'phrase': keyword,\n",
    "    'export_columns': export_columns, # Columns from https://www.semrush.com/api-analytics/#columns\n",
    "    'database': 'nl', # Country of market\n",
    "    'display_limit': result_count, # Count of retrieving results\n",
    "    }\n",
    "    \n",
    "    params_hashed = hash_variable(params)\n",
    "    file_exists = existing_file(params_hashed, \"call\", potential_overwrite)\n",
    "    if file_exists == True: # Just load CSV file\n",
    "        finalKeywordData = pd.read_csv(f\"calls\\call-{params_hashed}.csv\")\n",
    "        return rename_columns(finalKeywordData, export_columns)\n",
    "    else: # Execute query and save to CSV file\n",
    "        data = requests.get(semrush_call(params, endpoint_url))\n",
    "        parsed_data = parse_response(data.content)\n",
    "        finalKeywordData = pd.DataFrame(parsed_data)\n",
    "        # Add the finalKeywordData to the dataframe and a new CSV file\n",
    "        finalKeywordData.to_csv(f\"calls\\call-{params_hashed}.csv\")\n",
    "        finalKeywordData = pd.read_csv(f\"calls\\call-{params_hashed}.csv\") # Make sure to read from CSV to easily make format uniform\n",
    "        return rename_columns(finalKeywordData, export_columns)"
   ]
  },
  {
   "cell_type": "markdown",
   "metadata": {},
   "source": [
    "# Executing of functions"
   ]
  },
  {
   "cell_type": "code",
   "execution_count": 5,
   "metadata": {},
   "outputs": [],
   "source": [
    "# Executing of final function\n",
    "# finalKeywordData = execute_call()\n",
    "# finalKeywordData"
   ]
  },
  {
   "cell_type": "markdown",
   "metadata": {},
   "source": [
    "# Unused code"
   ]
  },
  {
   "cell_type": "code",
   "execution_count": 6,
   "metadata": {},
   "outputs": [],
   "source": [
    "### Unusued for loop to use more keywords in a given query\n",
    "# for every in yourKeywords:\n",
    "#     data=requests.get(semrush_call(phrasetype, every, export_columns, database, display_limit))\n",
    "#     parsed_data = parse_response(data.content)\n",
    "#     df = pd.DataFrame(parsed_data)\n",
    "#     keyword_frame.append(df)\n",
    "\n",
    "### Temporary annotations\n",
    "# https://api.semrush.com/?type=phrase_organic&key={{key}}&phrase=bouwmaterialen&export_columns=Dn,Ur,Fk,Fp&database=nl&display_limit=20\n",
    "# https://api.semrush.com/?type=phrase_organic&key=b9fd485dbbcc0d31bc30e828806fd14c&phrase=bouwmaterialen&export_columns=Dn,Ur,Fk,Fp&database=nl&display_limit=5\n",
    "# https://api.semrush.com/?type=phrase_organic&key=b9fd485dbbcc0d31bc30e828806fd14c&phrase=bouwmaterialen&export_columns=Dn,Ur,Ts&database=nl&display_limit=1"
   ]
  },
  {
   "cell_type": "code",
   "execution_count": null,
   "metadata": {},
   "outputs": [],
   "source": []
  }
 ],
 "metadata": {
  "kernelspec": {
   "display_name": "Python 3",
   "language": "python",
   "name": "python3"
  },
  "language_info": {
   "codemirror_mode": {
    "name": "ipython",
    "version": 3
   },
   "file_extension": ".py",
   "mimetype": "text/x-python",
   "name": "python",
   "nbconvert_exporter": "python",
   "pygments_lexer": "ipython3",
   "version": "3.8.5"
  }
 },
 "nbformat": 4,
 "nbformat_minor": 4
}
