{
 "cells": [
  {
   "cell_type": "markdown",
   "metadata": {},
   "source": [
    "# Import"
   ]
  },
  {
   "cell_type": "code",
   "execution_count": null,
   "metadata": {},
   "outputs": [],
   "source": [
    "from bs4 import BeautifulSoup\n",
    "import urllib.request\n",
    "from urllib.parse import urlparse\n",
    "import pandas as pd #nog implementeren"
   ]
  },
  {
   "cell_type": "markdown",
   "metadata": {},
   "source": [
    "# Helper functions"
   ]
  },
  {
   "cell_type": "code",
   "execution_count": null,
   "metadata": {},
   "outputs": [],
   "source": [
    "from ipynb.fs.full.functions import *"
   ]
  },
  {
   "cell_type": "markdown",
   "metadata": {},
   "source": [
    "# Functions"
   ]
  },
  {
   "cell_type": "code",
   "execution_count": 88,
   "metadata": {},
   "outputs": [],
   "source": [
    "def HeadersAndLists(siteUrl):\n",
    "    external_sites_html = urllib.request.urlopen(siteUrl)\n",
    "    websiteDomain = urlparse(siteUrl).netloc\n",
    "    soup = BeautifulSoup(external_sites_html, 'html.parser')\n",
    "\n",
    "    # Find header tags and count them\n",
    "    headers = {}\n",
    "    for i in range(1,7):\n",
    "        header_soup = soup.find(f\"h{i}\")\n",
    "        if header_soup is not None:                        \n",
    "            header_soup_count = len(header_soup)\n",
    "        else:\n",
    "            header_soup_count = 0\n",
    "        headers[f\"h{i}\"] = header_soup_count\n",
    "        print(f\"h{i}: {header_soup_count}\")\n",
    "    \n",
    "    # Find all lists \n",
    "    lists = {'ol': 0, 'ul': 0, 'dl': 0}\n",
    "    ol_soup = soup.find('ol')\n",
    "    ol_soup_count = len(ol_soup)\n",
    "    print(f\"OL: {ol_soup_count}\")\n",
    "    ul_soup = soup.find('ul',)\n",
    "    ul_soup_count = len(ul_soup)\n",
    "    print(f\"UL: {ul_soup_count}\")\n",
    "    dl_soup = soup.find('dl')\n",
    "    if dl_soup is not None:\n",
    "        dl_soup_count = len(dl_soup)\n",
    "        print(f\"DL: {dl_soup_count}\")\n",
    "    else:\n",
    "        print(f\"DL: 0\") # Dit nog implementeren en als dataframe opslaan\n",
    "    \n",
    "    # ul_soup_all = soup.find_all('ul', {'class':'class-name'})\n",
    "    # li_soup_all = soup.find_all('li', {'class':'class-name'})\n",
    "    # li_ul_soup_count = sum(1 for ul in ul_soup_all for li in ul) # Count list items within unordered lists\n",
    "    # li_ol_soup_count = sum(1 for ol in li_soup_all for li in ol) # Count list items within ordered lists\n",
    "    # print(f\"LI in UL: {ul_soup_count}\")\n",
    "    # print(f\"LI in OL: {ol_soup_count}\")"
   ]
  },
  {
   "cell_type": "markdown",
   "metadata": {},
   "source": [
    "# Executing"
   ]
  },
  {
   "cell_type": "code",
   "execution_count": 87,
   "metadata": {},
   "outputs": [
    {
     "name": "stdout",
     "output_type": "stream",
     "text": [
      "h1: 2\n",
      "h2: 1\n",
      "h3: 1\n",
      "h4: 1\n",
      "h5: 1\n",
      "h6: 0\n",
      "{'h1': 2, 'h2': 1, 'h3': 1, 'h4': 1, 'h5': 1, 'h6': 0}\n",
      "OL: 9\n",
      "UL: 9\n",
      "DL: 0\n"
     ]
    }
   ],
   "source": [
    "HeadersAndLists('https://www.w3schools.com/html/html_lists.asp')"
   ]
  },
  {
   "cell_type": "code",
   "execution_count": null,
   "metadata": {},
   "outputs": [],
   "source": [
    "# Totaal"
   ]
  }
 ],
 "metadata": {
  "kernelspec": {
   "display_name": "Python 3",
   "language": "python",
   "name": "python3"
  },
  "language_info": {
   "codemirror_mode": {
    "name": "ipython",
    "version": 3
   },
   "file_extension": ".py",
   "mimetype": "text/x-python",
   "name": "python",
   "nbconvert_exporter": "python",
   "pygments_lexer": "ipython3",
   "version": "3.8.5"
  }
 },
 "nbformat": 4,
 "nbformat_minor": 4
}
