{
 "cells": [
  {
   "cell_type": "code",
   "execution_count": 89,
   "metadata": {},
   "outputs": [
    {
     "name": "stdout",
     "output_type": "stream",
     "text": [
      "['https://www.bouwmaterialenkopen.com/account/', 'https://www.bouwmaterialenkopen.com/service/', 'https://www.bouwmaterialenkopen.com/cart/', '/', 'tel:085 - 401 23 60', 'https://api.whatsapp.com/send?phone=31854012360', 'javascript:;', 'https://www.bouwmaterialenkopen.com/service/laagste-prijsgarantie/', 'https://www.kiyoh.com/reviews/1047035/bouwmaterialenkopen_com', 'https://www.thuiswinkel.org/leden/bouwmaterialenkopen.com/certificaat', 'https://www.bouwmaterialenkopen.com/account/', None, 'https://www.bouwmaterialenkopen.com/cart/', 'https://www.bouwmaterialenkopen.com/', 'https://www.bouwmaterialenkopen.com/betonblokken/', 'https://www.bouwmaterialenkopen.com/betonblokken/betonblokken-acties/', 'https://www.bouwmaterialenkopen.com/betonblokken/metselblokken/', 'https://www.bouwmaterialenkopen.com/betonblokken/lijmblokken/', 'https://www.bouwmaterialenkopen.com/betonblokken/betonstenen/', 'https://www.bouwmaterialenkopen.com/kalkzandsteen/', 'https://www.bouwmaterialenkopen.com/kalkzandsteen/kalkzandsteen-acties/', 'https://www.bouwmaterialenkopen.com/kalkzandsteen/lijmblokken/', 'https://www.bouwmaterialenkopen.com/kalkzandsteen/vellingblokken/', 'https://www.bouwmaterialenkopen.com/kalkzandsteen/metselblokken/', 'https://www.bouwmaterialenkopen.com/kalkzandsteen/metselstenen/', 'https://www.bouwmaterialenkopen.com/kalkzandsteen/blokkenlijm/', 'https://www.bouwmaterialenkopen.com/metselstenen/', 'https://www.bouwmaterialenkopen.com/metselstenen/metselstenen-acties/', 'https://www.bouwmaterialenkopen.com/metselstenen/handvorm-metselstenen/', 'https://www.bouwmaterialenkopen.com/metselstenen/vormbak-metselstenen/', 'https://www.bouwmaterialenkopen.com/metselstenen/partij-aanbiedingen/', 'https://www.bouwmaterialenkopen.com/metselstenen/gevelstenen/', 'https://www.bouwmaterialenkopen.com/metselstenen/bakstenen/', 'https://www.bouwmaterialenkopen.com/cellenbeton/', 'https://www.bouwmaterialenkopen.com/isolatieblok/', 'https://www.bouwmaterialenkopen.com/cement/', 'https://www.bouwmaterialenkopen.com/staal/', 'https://www.bouwmaterialenkopen.com/zand/', 'https://www.bouwmaterialenkopen.com/isolatie/', 'https://www.bouwmaterialenkopen.com/hout-plaat/', 'https://www.bouwmaterialenkopen.com/hout-plaat/vurenhout-balken-en-latten/', 'https://www.bouwmaterialenkopen.com/hout-plaat/metselprofielen/', 'https://www.bouwmaterialenkopen.com/hout-plaat/underlayment-en-osb/', 'https://www.bouwmaterialenkopen.com/hout-plaat/metal-studs/', 'https://www.bouwmaterialenkopen.com/hout-plaat/gipsplaten/', 'https://www.bouwmaterialenkopen.com/klussen/garage-bouwen/', 'https://www.bouwmaterialenkopen.com/klussen/garage-bouwen/', 'https://www.bouwmaterialenkopen.com/service/payment-methods/', 'https://www.bouwmaterialenkopen.com/service/payment-methods/', 'https://www.bouwmaterialenkopen.com/service/payment-methods/', 'https://www.bouwmaterialenkopen.com/service/payment-methods/', 'https://www.bouwmaterialenkopen.com/service/payment-methods/', 'https://www.bouwmaterialenkopen.com/service/payment-methods/', '/klussen/zwembad-bouwen/', '/klussen/zwembad-bouwen/', '/klussen/garage-bouwen/', '/klussen/garage-bouwen/', '/klussen/binnenmuur-maken/', '/klussen/binnenmuur-maken/', '/klussen/buitenmuur-maken/', '/klussen/buitenmuur-maken/', '/klussen/tuinmuur-maken/', '/klussen/tuinmuur-maken/', 'https://www.bouwmaterialenkopen.com/betonblokken/', 'https://www.bouwmaterialenkopen.com/kalkzandsteen/', 'https://www.bouwmaterialenkopen.com/metselstenen/', 'https://www.bouwmaterialenkopen.com/cellenbeton/', 'https://www.bouwmaterialenkopen.com/isolatieblok/', 'https://www.bouwmaterialenkopen.com/cement/', 'https://www.bouwmaterialenkopen.com/staal/', 'https://www.bouwmaterialenkopen.com/zand/', 'https://www.bouwmaterialenkopen.com/isolatie/', 'https://www.bouwmaterialenkopen.com/hout-plaat/', 'https://www.bouwmaterialenkopen.com/betonblokken/betonblokken-acties/', 'https://www.bouwmaterialenkopen.com/betonblokken/betonblokken-acties/', 'https://www.bouwmaterialenkopen.com/metselstenen/metselstenen-acties/', 'https://www.bouwmaterialenkopen.com/metselstenen/metselstenen-acties/', 'https://www.bouwmaterialenkopen.com/kalkzandsteen/kalkzandsteen-acties/', 'https://www.bouwmaterialenkopen.com/kalkzandsteen/kalkzandsteen-acties/', 'https://www.bouwmaterialenkopen.com/cellenbeton/', 'https://www.bouwmaterialenkopen.com/cellenbeton/', 'https://www.bouwmaterialenkopen.com/betonblokken-30x10x20cm-2e-keus.html', 'https://www.bouwmaterialenkopen.com/betonblokken-30x10x20cm-2e-keus.html', 'https://www.bouwmaterialenkopen.com/betonblokken-30x10x20cm-2e-keus.html', 'https://www.bouwmaterialenkopen.com/kalkzandsteen-lijmblok-43-7x10x19-8cm.html', 'https://www.bouwmaterialenkopen.com/kalkzandsteen-lijmblok-43-7x10x19-8cm.html', 'https://www.bouwmaterialenkopen.com/kalkzandsteen-lijmblok-43-7x10x19-8cm.html', 'https://www.bouwmaterialenkopen.com/waalformaat-massief-vuilwerk-metselstenen.html', 'https://www.bouwmaterialenkopen.com/waalformaat-massief-vuilwerk-metselstenen.html', 'https://www.bouwmaterialenkopen.com/waalformaat-massief-vuilwerk-metselstenen.html', 'https://www.bouwmaterialenkopen.com/betonblokken-29x20x19cm.html', 'https://www.bouwmaterialenkopen.com/betonblokken-29x20x19cm.html', 'https://www.bouwmaterialenkopen.com/betonblokken-29x20x19cm.html', 'https://www.bouwmaterialenkopen.com/cellenbetonblokken-60x10x40cm.html', 'https://www.bouwmaterialenkopen.com/cellenbetonblokken-60x10x40cm.html', 'https://www.bouwmaterialenkopen.com/cellenbetonblokken-60x10x40cm.html', 'https://www.bouwmaterialenkopen.com/kalkzandsteen-metselsteen-maasformaat-21-4x10-2x8.html', 'https://www.bouwmaterialenkopen.com/kalkzandsteen-metselsteen-maasformaat-21-4x10-2x8.html', 'https://www.bouwmaterialenkopen.com/kalkzandsteen-metselsteen-maasformaat-21-4x10-2x8.html', '/metselstenen/', '/betonblokken/', '/kalkzandsteen/', '/cellenbeton/', '/isolatie/', '/bouwstaal/', 'https://www.bouwmaterialenkopen.com/service/laagste-prijsgarantie/', 'https://www.kiyoh.com/reviews/1047035/bouwmaterialenkopen_com', 'https://www.thuiswinkel.org/leden/bouwmaterialenkopen.com/certificaat', '/', 'tel:085 - 401 23 60', 'https://www.bouwmaterialenkopen.com/service/about/', 'https://www.bouwmaterialenkopen.com/service/general-terms-conditions/', 'https://www.bouwmaterialenkopen.com/service/disclaimer/', 'https://www.bouwmaterialenkopen.com/service/privacy-policy/', 'https://www.bouwmaterialenkopen.com/service/payment-methods/', 'https://www.bouwmaterialenkopen.com/service/', 'https://www.bouwmaterialenkopen.com/sitemap/', 'https://www.bouwmaterialenkopen.com/service/overgangspartijen/', 'https://www.bouwmaterialenkopen.com/service/transport/', 'https://www.bouwmaterialenkopen.com/service/retourneren/', 'https://www.bouwmaterialenkopen.com/service/monsterstenen/', 'https://www.bouwmaterialenkopen.com/service/klachten/', 'https://www.bouwmaterialenkopen.com/service/garantie/', 'https://www.bouwmaterialenkopen.com/service/afhalen/', 'https://www.bouwmaterialenkopen.com/service/contact/', 'https://www.bouwmaterialenkopen.com/service/cookie-verklaring/', 'https://www.bouwmaterialenkopen.com/service/veelgestelde-vragen/', 'https://www.bouwmaterialenkopen.com/service/alle-artikelen/', 'https://www.bouwmaterialenkopen.com/betonblokken/', 'https://www.bouwmaterialenkopen.com/kalkzandsteen/', 'https://www.bouwmaterialenkopen.com/metselstenen/', 'https://www.bouwmaterialenkopen.com/cellenbeton/', 'https://www.bouwmaterialenkopen.com/isolatieblok/', 'https://www.bouwmaterialenkopen.com/cement/', 'https://www.bouwmaterialenkopen.com/staal/', 'https://www.bouwmaterialenkopen.com/zand/', 'https://www.bouwmaterialenkopen.com/isolatie/', 'https://www.bouwmaterialenkopen.com/hout-plaat/', 'https://www.bouwmaterialenkopen.com/collection/offers/', 'https://www.bouwmaterialenkopen.com/collection/?sort=newest', 'https://www.bouwmaterialenkopen.com/klussen/zwembad-bouwen/', 'https://www.bouwmaterialenkopen.com/klussen/garage-bouwen/', 'https://www.bouwmaterialenkopen.com/klussen/binnenmuur-maken/', 'https://www.bouwmaterialenkopen.com/klussen/buitenmuur-maken/', 'https://www.bouwmaterialenkopen.com/klussen/tuinmuur-maken/', 'https://www.youtube.com/channel/UCBWHaYvF_P3xen8Wn3VpVIQ', 'https://www.facebook.com/pages/category/Retail-Company/BouwmaterialenKopencom-1527966770836212/', 'https://www.instagram.com/bouwmaterialenkopen/', 'https://nl.pinterest.com/bouwmaterialenkopen/', '#']\n",
      "150\n"
     ]
    }
   ],
   "source": [
    "from bs4 import BeautifulSoup \n",
    "import urllib.request\n",
    "from urllib.parse import urlparse\n",
    "import re\n",
    "\n",
    "headers = {\n",
    "    'Access-Control-Allow-Origin': '*',\n",
    "    'Access-Control-Allow-Methods': 'GET',\n",
    "    'Access-Control-Allow-Headers': 'Content-Type',\n",
    "    'Access-Control-Max-Age': '3600',\n",
    "    'User-Agent': 'Mozilla/5.0 (X11; Ubuntu; Linux x86_64; rv:52.0) Gecko/20100101 Firefox/52.0'\n",
    "    }\n",
    "\n",
    "def findExternalLinks(siteUrl, headers):\n",
    "#         html = urllib.request.urlopen(siteUrl)\n",
    "#         soup =  BeautifulSoup(html)\n",
    "        \n",
    "#         for link in soup.findAll('a', attrs={'href': re.compile(\"^http://\")}):\n",
    "#             print(link.get('href'))\n",
    "\n",
    "        req = requests.get(siteUrl, headers)\n",
    "        soup = BeautifulSoup(req.content, 'html.parser')\n",
    "#         soup = soup.find('a').get('href')\n",
    "        \n",
    "#         print(soup)\n",
    "        links = [x.get('href') for x in soup.findAll('a')]\n",
    "        print(links)\n",
    "        \n",
    "        print(len(links))\n",
    "\n",
    "        \n",
    "# findExternalLinks('https://arstechnica.com')\n",
    "findExternalLinks('https://www.bouwmaterialenkopen.com/', headers)"
   ]
  },
  {
   "cell_type": "code",
   "execution_count": null,
   "metadata": {},
   "outputs": [],
   "source": []
  }
 ],
 "metadata": {
  "kernelspec": {
   "display_name": "Python 3",
   "language": "python",
   "name": "python3"
  },
  "language_info": {
   "codemirror_mode": {
    "name": "ipython",
    "version": 3
   },
   "file_extension": ".py",
   "mimetype": "text/x-python",
   "name": "python",
   "nbconvert_exporter": "python",
   "pygments_lexer": "ipython3",
   "version": "3.8.5"
  }
 },
 "nbformat": 4,
 "nbformat_minor": 4
}
