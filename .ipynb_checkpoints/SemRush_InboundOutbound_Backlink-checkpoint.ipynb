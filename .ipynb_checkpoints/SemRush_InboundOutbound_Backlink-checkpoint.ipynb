{
 "cells": [
  {
   "cell_type": "markdown",
   "metadata": {},
   "source": [
    "# Packages"
   ]
  },
  {
   "cell_type": "code",
   "execution_count": 4,
   "metadata": {},
   "outputs": [],
   "source": [
    "# Import essential packages\n",
    "import pandas as pd\n",
    "from ipynb.fs.full.semrush_call import *"
   ]
  },
  {
   "cell_type": "markdown",
   "metadata": {},
   "source": [
    "# Functions"
   ]
  },
  {
   "cell_type": "code",
   "execution_count": 5,
   "metadata": {},
   "outputs": [],
   "source": [
    "def get_all_website_links_semrush(dataframe, linktype, potential_overwrite):\n",
    "    # Check what type of backlink has to be called\n",
    "    if linktype == 'backlink':\n",
    "        type_params = 'backlinks_refdomains'\n",
    "        target_type = 'root_domain'\n",
    "        export_columns = 'backlinks_num'\n",
    "    elif linktype == 'external':\n",
    "        type_params = 'backlinks'\n",
    "        target_type = 'url'\n",
    "        export_columns = 'external_num'\n",
    "    elif linktype == 'internal':\n",
    "        type_params = 'backlinks'\n",
    "        target_type = 'url'\n",
    "        export_columns = 'internal_num'\n",
    "    elif linktype == 'domain_ascore':\n",
    "        type_params = 'backlinks_refdomains'\n",
    "        target_type = 'root_domain'\n",
    "        export_columns = 'domain_ascore'\n",
    "    elif linktype == 'page_ascore':\n",
    "        type_params = 'backlinks'\n",
    "        target_type = 'root_domain'\n",
    "        export_columns = 'page_ascore'\n",
    "    elif linktype == 'ascore':\n",
    "        type_params = 'backlinks_competitors'\n",
    "        target_type = 'root_domain'\n",
    "        export_columns = 'ascore'\n",
    "    else:\n",
    "        print(\"The entered parameters are invalid.\")\n",
    "    \n",
    "    # Define SEMrush call params\n",
    "    backlink_params = {\n",
    "    '?key': 'b9fd485dbbcc0d31bc30e828806fd14c',\n",
    "    'type': type_params,\n",
    "    'target': '',\n",
    "    'target_type': target_type,\n",
    "    'export_columns': export_columns,\n",
    "    'display_limit': '1'\n",
    "    }\n",
    "    endpoint_url = 'https://api.semrush.com/analytics/v1/'\n",
    "    \n",
    "    # Create the list that gets returned at the end\n",
    "    backlinklist = []\n",
    "    \n",
    "    # Make a copy of the dataframe\n",
    "    finalBacklinkData = dataframe.copy()\n",
    "\n",
    "    # Hash the given 'Ur' values, save it and check if the file already exists\n",
    "    backlinklist_hashed = hash_variable(finalBacklinkData['Ur']) + linktype\n",
    "    file_exists = existing_file(backlinklist_hashed, \"backlinklist\", potential_overwrite)\n",
    "    \n",
    "    # Check if the file exists and act accordingly\n",
    "    if file_exists == False:    \n",
    "        finalBacklinkData[export_columns] = 0\n",
    "    \n",
    "        for i in range(0, (len(finalBacklinkData))):\n",
    "            try:\n",
    "                # Check what type of data has to be retrieved from SEMrush\n",
    "                if linktype == 'backlink' or linktype == 'domain_ascore' or linktype == 'page_ascore' or linktype == 'ascore':\n",
    "                    backlink_params['target'] = finalBacklinkData.Dn[i]\n",
    "                elif linktype == 'internal' or linktype == 'external':\n",
    "                    backlink_params['target'] = finalBacklinkData.Ur[i]\n",
    "\n",
    "                data = requests.get(semrush_call(backlink_params, endpoint_url))\n",
    "                parsed_data = parse_response(data.content)\n",
    "        \n",
    "                conv_parsed_data = str(parsed_data)\n",
    "                conv_parsed_data = conv_parsed_data.split(\"'\")\n",
    "                conv_parsed_data = int(conv_parsed_data[1])\n",
    "                backlinklist.append(conv_parsed_data)\n",
    "            except:\n",
    "                backlinklist.append(None)\n",
    "                \n",
    "        # Convert list to dataframe and save it\n",
    "        backlinklist_pd = pd.DataFrame(backlinklist)\n",
    "        backlinklist_pd.to_csv(f\"calls/backlinklist-{backlinklist_hashed}.csv\")\n",
    "        return backlinklist\n",
    "    \n",
    "    else:\n",
    "        # Load CSV file and convert back to list\n",
    "        backlinklist_pd = pd.read_csv(f\"calls/backlinklist-{backlinklist_hashed}.csv\")\n",
    "        return backlinklist_pd['0'].values.tolist()"
   ]
  },
  {
   "cell_type": "markdown",
   "metadata": {},
   "source": [
    "# Executing of functions"
   ]
  },
  {
   "cell_type": "code",
   "execution_count": 6,
   "metadata": {},
   "outputs": [
    {
     "data": {
      "text/html": [
       "<div>\n",
       "<style scoped>\n",
       "    .dataframe tbody tr th:only-of-type {\n",
       "        vertical-align: middle;\n",
       "    }\n",
       "\n",
       "    .dataframe tbody tr th {\n",
       "        vertical-align: top;\n",
       "    }\n",
       "\n",
       "    .dataframe thead th {\n",
       "        text-align: right;\n",
       "    }\n",
       "</style>\n",
       "<table border=\"1\" class=\"dataframe\">\n",
       "  <thead>\n",
       "    <tr style=\"text-align: right;\">\n",
       "      <th></th>\n",
       "      <th>Number</th>\n",
       "      <th>Dn</th>\n",
       "      <th>Ur</th>\n",
       "      <th>Keyword</th>\n",
       "      <th>HeaderCount</th>\n",
       "      <th>ListsCount</th>\n",
       "    </tr>\n",
       "  </thead>\n",
       "  <tbody>\n",
       "    <tr>\n",
       "      <th>0</th>\n",
       "      <td>0</td>\n",
       "      <td>bouwmaat.nl</td>\n",
       "      <td>https://www.bouwmaat.nl/bouwmaterialen</td>\n",
       "      <td>bouwmaterialen</td>\n",
       "      <td>4.0</td>\n",
       "      <td>31.0</td>\n",
       "    </tr>\n",
       "    <tr>\n",
       "      <th>1</th>\n",
       "      <td>1</td>\n",
       "      <td>hornbach.nl</td>\n",
       "      <td>https://www.hornbach.nl/shop/Bouwmateriaal/S44...</td>\n",
       "      <td>bouwmaterialen</td>\n",
       "      <td>10.0</td>\n",
       "      <td>17.0</td>\n",
       "    </tr>\n",
       "    <tr>\n",
       "      <th>2</th>\n",
       "      <td>2</td>\n",
       "      <td>bouwbestel.nl</td>\n",
       "      <td>https://www.bouwbestel.nl/bouwmaterialen.html</td>\n",
       "      <td>bouwmaterialen</td>\n",
       "      <td>2.0</td>\n",
       "      <td>7.0</td>\n",
       "    </tr>\n",
       "    <tr>\n",
       "      <th>3</th>\n",
       "      <td>3</td>\n",
       "      <td>online-bouwmaterialen.nl</td>\n",
       "      <td>https://www.online-bouwmaterialen.nl/</td>\n",
       "      <td>bouwmaterialen</td>\n",
       "      <td>3.0</td>\n",
       "      <td>31.0</td>\n",
       "    </tr>\n",
       "    <tr>\n",
       "      <th>4</th>\n",
       "      <td>4</td>\n",
       "      <td>bmn.nl</td>\n",
       "      <td>https://www.bmn.nl/</td>\n",
       "      <td>bouwmaterialen</td>\n",
       "      <td>3.0</td>\n",
       "      <td>12.0</td>\n",
       "    </tr>\n",
       "  </tbody>\n",
       "</table>\n",
       "</div>"
      ],
      "text/plain": [
       "   Number                        Dn  \\\n",
       "0       0               bouwmaat.nl   \n",
       "1       1               hornbach.nl   \n",
       "2       2             bouwbestel.nl   \n",
       "3       3  online-bouwmaterialen.nl   \n",
       "4       4                    bmn.nl   \n",
       "\n",
       "                                                  Ur         Keyword  \\\n",
       "0             https://www.bouwmaat.nl/bouwmaterialen  bouwmaterialen   \n",
       "1  https://www.hornbach.nl/shop/Bouwmateriaal/S44...  bouwmaterialen   \n",
       "2      https://www.bouwbestel.nl/bouwmaterialen.html  bouwmaterialen   \n",
       "3              https://www.online-bouwmaterialen.nl/  bouwmaterialen   \n",
       "4                                https://www.bmn.nl/  bouwmaterialen   \n",
       "\n",
       "   HeaderCount  ListsCount  \n",
       "0          4.0        31.0  \n",
       "1         10.0        17.0  \n",
       "2          2.0         7.0  \n",
       "3          3.0        31.0  \n",
       "4          3.0        12.0  "
      ]
     },
     "execution_count": 6,
     "metadata": {},
     "output_type": "execute_result"
    }
   ],
   "source": [
    "# Executing of final function\n",
    "dftest = pd.read_csv('calls/dataframe-437c05d23965ee61d3a21893f2c298f06909cd0675ace4caa20fd8b77fc8216b.csv')\n",
    "dftest = dftest.head()\n",
    "dftest"
   ]
  },
  {
   "cell_type": "code",
   "execution_count": 8,
   "metadata": {
    "scrolled": true
   },
   "outputs": [
    {
     "name": "stdout",
     "output_type": "stream",
     "text": [
      "Deze call is al een keer uitgevoerd, we maken echter nieuwe resultaten aan.\n"
     ]
    },
    {
     "data": {
      "text/plain": [
       "[26975, 15109, 15422, 74, 5225]"
      ]
     },
     "execution_count": 8,
     "metadata": {},
     "output_type": "execute_result"
    }
   ],
   "source": [
    "# finalBacklinkData = get_all_website_links_semrush(dftest, 'backlink', True)\n",
    "# finalBacklinkData"
   ]
  },
  {
   "cell_type": "code",
   "execution_count": 9,
   "metadata": {},
   "outputs": [
    {
     "name": "stdout",
     "output_type": "stream",
     "text": [
      "Deze call is al een keer uitgevoerd, we gaan verder met de bestaande resultaten.\n",
      "Dit bestand is laatst gewijzigd op: Mon May 10 16:01:20 2021\n"
     ]
    },
    {
     "data": {
      "text/plain": [
       "[38, 78, 38, 44, 23]"
      ]
     },
     "execution_count": 9,
     "metadata": {},
     "output_type": "execute_result"
    }
   ],
   "source": [
    "# finalBacklinkData = get_all_website_links_semrush(dftest, 'domain_ascore', False)\n",
    "# finalBacklinkData"
   ]
  },
  {
   "cell_type": "code",
   "execution_count": 10,
   "metadata": {},
   "outputs": [
    {
     "name": "stdout",
     "output_type": "stream",
     "text": [
      "Deze call is al een keer uitgevoerd, we gaan verder met de bestaande resultaten.\n",
      "Dit bestand is laatst gewijzigd op: Mon May 10 16:01:20 2021\n"
     ]
    },
    {
     "data": {
      "text/plain": [
       "[76, 79, 64, 69, 85]"
      ]
     },
     "execution_count": 10,
     "metadata": {},
     "output_type": "execute_result"
    }
   ],
   "source": [
    "# finalBacklinkData = get_all_website_links_semrush(dftest, 'page_ascore', False)\n",
    "# finalBacklinkData"
   ]
  },
  {
   "cell_type": "code",
   "execution_count": 11,
   "metadata": {},
   "outputs": [
    {
     "name": "stdout",
     "output_type": "stream",
     "text": [
      "Deze call is al een keer uitgevoerd, we gaan verder met de bestaande resultaten.\n",
      "Dit bestand is laatst gewijzigd op: Mon May 10 16:01:20 2021\n"
     ]
    },
    {
     "data": {
      "text/plain": [
       "[50, 58, 41, 24, 39]"
      ]
     },
     "execution_count": 11,
     "metadata": {},
     "output_type": "execute_result"
    }
   ],
   "source": [
    "# finalBacklinkData = get_all_website_links_semrush(dftest, 'ascore', False)\n",
    "# finalBacklinkData"
   ]
  }
 ],
 "metadata": {
  "kernelspec": {
   "display_name": "Python 3",
   "language": "python",
   "name": "python3"
  },
  "language_info": {
   "codemirror_mode": {
    "name": "ipython",
    "version": 3
   },
   "file_extension": ".py",
   "mimetype": "text/x-python",
   "name": "python",
   "nbconvert_exporter": "python",
   "pygments_lexer": "ipython3",
   "version": "3.8.5"
  }
 },
 "nbformat": 4,
 "nbformat_minor": 4
}
