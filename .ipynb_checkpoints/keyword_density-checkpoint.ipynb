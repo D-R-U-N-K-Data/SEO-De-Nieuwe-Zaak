{
 "cells": [
  {
   "cell_type": "code",
   "execution_count": 1,
   "metadata": {},
   "outputs": [],
   "source": [
    "from bs4 import BeautifulSoup\n",
    "import requests\n",
    "import re\n",
    "from collections import Counter\n",
    "from string import punctuation\n",
    "import math\n",
    "import pandas as pd\n",
    "import time\n",
    "from ipynb.fs.full.functions import *\n",
    "\n",
    "keyword = \"bouwmaterialen\""
   ]
  },
  {
   "cell_type": "code",
   "execution_count": 5,
   "metadata": {},
   "outputs": [],
   "source": [
    "websites = GetWebsites()\n",
    "\n",
    "# remove punctuation\n",
    "def CleanText(text):\n",
    "    text = str(text)\n",
    "    forbidden = [r'\\n', r'.', r'?', r'!', r'(', r')', r'\\r']\n",
    "    for i in forbidden:\n",
    "        text.replace(i, ' ')\n",
    "    return text\n",
    "\n",
    "# returns amount of a specific word on a page (complete page)\n",
    "def WordCount(webpage, word):\n",
    "    words = ''.join([t for t in webpage.find_all(text=True)])\n",
    "    words = CleanText(words.lower())\n",
    "    words = words.split()\n",
    "    return words.count(word.lower())\n",
    "\n",
    "# returns amount of a specific word on a page (body only)\n",
    "def WordCountBody(webpage, word):\n",
    "    words = ''.join([t for t in webpage.body.find_all(text=True)])\n",
    "    words = CleanText(words.lower())\n",
    "    words = words.split()\n",
    "    return words.count(word.lower())\n",
    "\n",
    "# returns the total amount of words on a page\n",
    "def TotalWordCount(website):\n",
    "    # strip all script and style elements\n",
    "    for script in website([\"script\", \"style\"]):\n",
    "        script.extract()\n",
    "\n",
    "    text = website.get_text()\n",
    "    \n",
    "    # break into lines and remove leading and trailing space on each\n",
    "    lines = (line.strip() for line in text.splitlines())\n",
    "    # break multi-headlines into a line each\n",
    "    chunks = (phrase.strip() for line in lines for phrase in line.split(\"  \"))\n",
    "    # drop blank lines\n",
    "    text = '\\n'.join(chunk for chunk in chunks if chunk)\n",
    "    \n",
    "    # calculate amount of seperate words\n",
    "    total_word_count = len(text.split())\n",
    "    return total_word_count\n",
    "\n",
    "# returns keyword density = keyword to total words ratio\n",
    "def KeywordDensity(keyword, website):\n",
    "    total_length = TotalWordCount(website)\n",
    "    keyword_amount = WordCount(website,keyword)\n",
    "    return keyword_amount / total_length\n",
    "\n",
    "def ToPercentage(number):\n",
    "    return round(number * 100, 2)"
   ]
  },
  {
   "cell_type": "code",
   "execution_count": 10,
   "metadata": {},
   "outputs": [],
   "source": [
    "def GetKeywordDensity(keyword, df):\n",
    "    rows_list = []\n",
    "    counter = 0\n",
    "    urls = df[\"Ur\"]\n",
    "    \n",
    "    start = time.time() # used for debugging\n",
    "    for key, value in urls.iteritems():\n",
    "        try:\n",
    "            r = requests.get(value, timeout=5)\n",
    "            soup = BeautifulSoup(r.content)   \n",
    "            results = {\"keyword_density_percentage\":ToPercentage(KeywordDensity(keyword, soup))}\n",
    "            rows_list.append(results)\n",
    "        except requests.exceptions.Timeout:\n",
    "            continue    \n",
    "        counter = counter+1 # used for debugging\n",
    "        print(counter) # used for debugging\n",
    "    end = time.time() # used for debugging\n",
    "    print(\"Run time: \", end - start, \" seconds\") # used for debugging\n",
    "    \n",
    "    return pd.DataFrame(rows_list)"
   ]
  },
  {
   "cell_type": "code",
   "execution_count": 11,
   "metadata": {},
   "outputs": [
    {
     "name": "stdout",
     "output_type": "stream",
     "text": [
      "1\n",
      "Run time:  6.797348976135254  seconds\n"
     ]
    },
    {
     "data": {
      "text/html": [
       "<div>\n",
       "<style scoped>\n",
       "    .dataframe tbody tr th:only-of-type {\n",
       "        vertical-align: middle;\n",
       "    }\n",
       "\n",
       "    .dataframe tbody tr th {\n",
       "        vertical-align: top;\n",
       "    }\n",
       "\n",
       "    .dataframe thead th {\n",
       "        text-align: right;\n",
       "    }\n",
       "</style>\n",
       "<table border=\"1\" class=\"dataframe\">\n",
       "  <thead>\n",
       "    <tr style=\"text-align: right;\">\n",
       "      <th></th>\n",
       "      <th>keyword_density_percentage</th>\n",
       "    </tr>\n",
       "  </thead>\n",
       "  <tbody>\n",
       "    <tr>\n",
       "      <th>0</th>\n",
       "      <td>0.17</td>\n",
       "    </tr>\n",
       "  </tbody>\n",
       "</table>\n",
       "</div>"
      ],
      "text/plain": [
       "   keyword_density_percentage\n",
       "0                        0.17"
      ]
     },
     "execution_count": 11,
     "metadata": {},
     "output_type": "execute_result"
    }
   ],
   "source": [
    "d = {'Ur': [\"https://www.bouwmaat.com/bouwmaterialen\", \"https://www.bouwbestel.nl/bouwmaterialen.html\"], 'Iets': [3, 4]}\n",
    "df = pd.DataFrame(data=d)\n",
    "GetKeywordDensity(keyword, df)"
   ]
  },
  {
   "cell_type": "code",
   "execution_count": null,
   "metadata": {},
   "outputs": [],
   "source": []
  }
 ],
 "metadata": {
  "kernelspec": {
   "display_name": "Python 3",
   "language": "python",
   "name": "python3"
  },
  "language_info": {
   "codemirror_mode": {
    "name": "ipython",
    "version": 3
   },
   "file_extension": ".py",
   "mimetype": "text/x-python",
   "name": "python",
   "nbconvert_exporter": "python",
   "pygments_lexer": "ipython3",
   "version": "3.8.5"
  }
 },
 "nbformat": 4,
 "nbformat_minor": 4
}
