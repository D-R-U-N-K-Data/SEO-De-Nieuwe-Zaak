{
 "cells": [
  {
   "cell_type": "markdown",
   "metadata": {},
   "source": [
    "# Import"
   ]
  },
  {
   "cell_type": "code",
   "execution_count": 1,
   "metadata": {},
   "outputs": [],
   "source": [
    "from func_timeout import func_timeout, FunctionTimedOut, func_set_timeout"
   ]
  },
  {
   "cell_type": "markdown",
   "metadata": {},
   "source": [
    "# Helper functions"
   ]
  },
  {
   "cell_type": "code",
   "execution_count": 2,
   "metadata": {},
   "outputs": [],
   "source": [
    "from ipynb.fs.full.functions import RequestSoup"
   ]
  },
  {
   "cell_type": "markdown",
   "metadata": {},
   "source": [
    "# Functions"
   ]
  },
  {
   "cell_type": "code",
   "execution_count": 3,
   "metadata": {},
   "outputs": [],
   "source": [
    "# Find header tags, count them and add them to a dictionary\n",
    "# Input: webpage, output: dictionary of count of H1 til H6 headers on this webpage\n",
    "@func_set_timeout(5)\n",
    "def GetAllHeadersFromURL(webpage):\n",
    "    soup = RequestSoup(webpage)\n",
    "    \n",
    "    headers = {}\n",
    "    for i in range(1,7):\n",
    "        header_soup = soup.find(f\"h{i}\")\n",
    "        if header_soup is not None:                        \n",
    "            header_soup_count = len(header_soup)\n",
    "        else:\n",
    "            header_soup_count = 0\n",
    "        headers[f\"h{i}\"] = header_soup_count\n",
    "        \n",
    "    return headers\n",
    "    \n",
    "# Find header tags, count them and give a sum\n",
    "# Input: webpage, output: count of headers on this webpage\n",
    "@func_set_timeout(5)\n",
    "def GetHeaderCountFromURL(webpage):\n",
    "    soup = RequestSoup(webpage)\n",
    "    sumHeaders = 0\n",
    "    \n",
    "    for i in range(1,7):\n",
    "        header_soup = soup.find(f\"h{i}\")\n",
    "        if header_soup is not None:                        \n",
    "            header_soup_count = len(header_soup)\n",
    "        else:\n",
    "            header_soup_count = 0\n",
    "        sumHeaders += header_soup_count\n",
    "        \n",
    "    return sumHeaders\n",
    "    \n",
    "# Find lists, count them and add them to a dictionary\n",
    "# Input: webpage, output: dictionary of count of OL, UL and DL lists on this webpage\n",
    "@func_set_timeout(5)\n",
    "def GetAllListsFromURL(webpage):\n",
    "    soup = RequestSoup(webpage)\n",
    "    lists = {'ol': 0, 'ul': 0, 'dl': 0}\n",
    "    \n",
    "    for listtype in lists.keys():\n",
    "        list_soup = soup.find(listtype)\n",
    "        if list_soup is not None:\n",
    "            list_soup_count = len(list_soup)\n",
    "        else:\n",
    "            list_soup_count = 0\n",
    "        lists[listtype] = list_soup_count\n",
    "    \n",
    "    return lists\n",
    "\n",
    "# Find lists, count them and give a sum\n",
    "# Input: webpage, output: count of lists on this webpage\n",
    "@func_set_timeout(5)\n",
    "def GetListsCountFromURL(webpage):\n",
    "    soup = RequestSoup(webpage)\n",
    "    lists = ['ol', 'ul', 'dl']\n",
    "    sumLists = 0\n",
    "    \n",
    "    for listtype in lists:\n",
    "        list_soup = soup.find(listtype)\n",
    "        if list_soup is not None:\n",
    "            list_soup_count = len(list_soup)\n",
    "        else:\n",
    "            list_soup_count = 0\n",
    "        sumLists += list_soup_count\n",
    "    \n",
    "    return sumLists"
   ]
  },
  {
   "cell_type": "markdown",
   "metadata": {},
   "source": [
    "# Looping functions"
   ]
  },
  {
   "cell_type": "code",
   "execution_count": 1,
   "metadata": {},
   "outputs": [],
   "source": [
    "# Loop GetHeaderCountFromURL\n",
    "# Input: SEMrush keyword dataframe, output: list with header counts from all websites\n",
    "def LoopGetHeaderCountFromURL(dataframe):\n",
    "    HeaderCount = []\n",
    "    for url in dataframe.index:\n",
    "        try:\n",
    "            var = GetHeaderCountFromURL(dataframe['Ur'][url])\n",
    "        except:\n",
    "            var = None\n",
    "        HeaderCount.append(var)\n",
    "    return HeaderCount\n",
    "\n",
    "# Loop GetListsCountFromURL\n",
    "# Input: SEMrush keyword dataframe, output: list with header counts from all websites\n",
    "def LoopGetListsCountFromURL(dataframe):\n",
    "    ListsCount = []\n",
    "    for url in dataframe.index:\n",
    "        try:\n",
    "            var = GetListsCountFromURL(dataframe['Ur'][url])\n",
    "        except:\n",
    "            var = None\n",
    "        ListsCount.append(var)\n",
    "    return ListsCount"
   ]
  },
  {
   "cell_type": "markdown",
   "metadata": {},
   "source": [
    "# Executing"
   ]
  },
  {
   "cell_type": "code",
   "execution_count": 4,
   "metadata": {},
   "outputs": [
    {
     "data": {
      "text/plain": [
       "6"
      ]
     },
     "execution_count": 4,
     "metadata": {},
     "output_type": "execute_result"
    }
   ],
   "source": [
    "GetHeaderCountFromURL('https://bouwmaat.nl')"
   ]
  },
  {
   "cell_type": "markdown",
   "metadata": {},
   "source": [
    "# Unused code"
   ]
  },
  {
   "cell_type": "code",
   "execution_count": 13,
   "metadata": {},
   "outputs": [],
   "source": [
    "# ul_soup_all = soup.find_all('ul', {'class':'class-name'})\n",
    "# li_soup_all = soup.find_all('li', {'class':'class-name'})\n",
    "# li_ul_soup_count = sum(1 for ul in ul_soup_all for li in ul) # Count list items within unordered lists\n",
    "# li_ol_soup_count = sum(1 for ol in li_soup_all for li in ol) # Count list items within ordered lists\n",
    "# print(f\"LI in UL: {ul_soup_count}\")\n",
    "# print(f\"LI in OL: {ol_soup_count}\")"
   ]
  },
  {
   "cell_type": "code",
   "execution_count": null,
   "metadata": {},
   "outputs": [],
   "source": []
  }
 ],
 "metadata": {
  "kernelspec": {
   "display_name": "Python 3",
   "language": "python",
   "name": "python3"
  },
  "language_info": {
   "codemirror_mode": {
    "name": "ipython",
    "version": 3
   },
   "file_extension": ".py",
   "mimetype": "text/x-python",
   "name": "python",
   "nbconvert_exporter": "python",
   "pygments_lexer": "ipython3",
   "version": "3.8.5"
  }
 },
 "nbformat": 4,
 "nbformat_minor": 4
}
