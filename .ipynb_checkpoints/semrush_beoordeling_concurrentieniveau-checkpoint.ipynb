{
 "cells": [
  {
   "cell_type": "code",
   "execution_count": 6,
   "metadata": {},
   "outputs": [],
   "source": [
    "from ipynb.fs.full.semrush_call import *"
   ]
  },
  {
   "cell_type": "code",
   "execution_count": 15,
   "metadata": {},
   "outputs": [],
   "source": [
    "### Function used to call all other functions to get the data in a formatted way\n",
    "def execute_call(keyword, export_columns, potential_overwrite):\n",
    "    endpoint_url = \"https://api.semrush.com/\"\n",
    "    params = {\n",
    "    \"?type\": 'phrase_kdi',\n",
    "    'key': 'b9fd485dbbcc0d31bc30e828806fd14c',\n",
    "    'phrase': keyword,\n",
    "    'export_columns': export_columns, # Columns from https://www.semrush.com/api-analytics/#columns\n",
    "    'database': 'nl', # Country of market\n",
    "    }\n",
    "    \n",
    "    params_hashed = hash_variable(params)\n",
    "    file_exists = existing_file(params_hashed, \"keywordDifficulty\", potential_overwrite)\n",
    "    \n",
    "    if file_exists == True: # Just load CSV file\n",
    "        finalKeywordData = pd.read_csv(f\"calls\\keywordDifficulty-{params_hashed}.csv\")\n",
    "        return finalKeywordData\n",
    "    else: # Execute query and save to CSV file\n",
    "        data = requests.get(semrush_call(params, endpoint_url))\n",
    "        parsed_data = parse_response(data.content)\n",
    "        finalKeywordData = pd.DataFrame(parsed_data)\n",
    "        # Add the finalKeywordData to the dataframe and a new CSV file\n",
    "        finalKeywordData.to_csv(f\"calls\\keywordDifficulty-{params_hashed}.csv\")\n",
    "        finalKeywordData = pd.read_csv(f\"calls\\keywordDifficulty-{params_hashed}.csv\") # Make sure to read from CSV to easily make format uniform\n",
    "        return finalKeywordData"
   ]
  },
  {
   "cell_type": "code",
   "execution_count": 24,
   "metadata": {},
   "outputs": [
    {
     "name": "stdout",
     "output_type": "stream",
     "text": [
      "81.81\n"
     ]
    }
   ],
   "source": [
    "result = execute_call(\"fietsmand\", 'Kd', False)\n",
    "concurrentieNiveau = test['0'][0]\n",
    "print(concurrentieNiveau)"
   ]
  }
 ],
 "metadata": {
  "kernelspec": {
   "display_name": "Python 3",
   "language": "python",
   "name": "python3"
  },
  "language_info": {
   "codemirror_mode": {
    "name": "ipython",
    "version": 3
   },
   "file_extension": ".py",
   "mimetype": "text/x-python",
   "name": "python",
   "nbconvert_exporter": "python",
   "pygments_lexer": "ipython3",
   "version": "3.8.5"
  }
 },
 "nbformat": 4,
 "nbformat_minor": 4
}
