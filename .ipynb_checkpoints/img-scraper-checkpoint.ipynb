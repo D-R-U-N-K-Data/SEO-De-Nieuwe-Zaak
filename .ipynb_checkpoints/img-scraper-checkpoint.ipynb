{
 "cells": [
  {
   "cell_type": "code",
   "execution_count": 20,
   "metadata": {},
   "outputs": [
    {
     "name": "stdout",
     "output_type": "stream",
     "text": [
      "Empty DataFrame\n",
      "Columns: [Total images, Alt tags]\n",
      "Index: []\n",
      "\n",
      "Aantal foto's gevonden op de pagina: 60\n",
      "   Total images                                           Alt tags\n",
      "0            60  [SmartData Agency, Google afbeeldingen flos ke...\n",
      "No videos have been found.\n"
     ]
    }
   ],
   "source": [
    "from bs4 import BeautifulSoup\n",
    "import requests\n",
    "import pandas as pd\n",
    "\n",
    "dataItems = pd.DataFrame(columns=['Total images', 'Alt tags'])\n",
    "print(dataItems)\n",
    "\n",
    "totalImages = []\n",
    "allImageTags = []\n",
    "\n",
    "def scanMediaInfo(siteUrl):\n",
    "    content = requests.get(siteUrl).content\n",
    "    # get soup\n",
    "    soup = BeautifulSoup(content,'lxml') # choose lxml parser\n",
    "    # find the tag : <img ... >\n",
    "    image_tags = soup.findAll('img')\n",
    "    # print out image urls + details\n",
    "    imageNumber = 0\n",
    "    for image in image_tags:\n",
    "        imageNumber = imageNumber + 1\n",
    "        #print(\"Image: \" + str(imageNumber))\n",
    "        #print(\"Image location: {}\".format(str(image.get('src'))))\n",
    "        if(str(image.get('alt'))==\"\"):\n",
    "            #print(\"Image ALT: Not defined\")\n",
    "            None\n",
    "        else:\n",
    "            #print(\"Image ALT: \"+str(image.get('alt')))\n",
    "            tag = str(image.get('alt'))\n",
    "            allImageTags.append(tag)\n",
    "        \n",
    "        \n",
    "    print(\"\\nAantal foto's gevonden op de pagina: {}\".format(str(imageNumber)))\n",
    "    \n",
    "    totalImages.append(imageNumber)\n",
    "    dataItems['Total images'] = totalImages\n",
    "    dataItems['Alt tags'] = [allImageTags]\n",
    "\n",
    "    print(dataItems)\n",
    "    \n",
    "    video = soup.findAll(\"video\")\n",
    "    videoNumber = 0\n",
    "    for vid in video:\n",
    "        videoNumber = videoNumber + 1\n",
    "        #print(\"Video location: {}\".format(str(vid.get('src'))))\n",
    "        print(\"Video: {}\".format(videoNumber))\n",
    "        if(str(vid.get('alt')== \"\")):\n",
    "           print(\"Video ALT: Not defined\")\n",
    "        else:\n",
    "           print(\"Video ALT: \"+str(vid.get('alt')))\n",
    "    \n",
    "    if (videoNumber == 0):\n",
    "        print(\"No videos have been found.\")\n",
    "    else:\n",
    "        print(\"Aantal video's gevonden op de pagina: \" + str(videoNumber))\n",
    "        \n",
    "scanMediaInfo('https://www.smartdata.agency/alt-tag/')"
   ]
  },
  {
   "cell_type": "code",
   "execution_count": null,
   "metadata": {},
   "outputs": [],
   "source": []
  }
 ],
 "metadata": {
  "kernelspec": {
   "display_name": "Python 3",
   "language": "python",
   "name": "python3"
  },
  "language_info": {
   "codemirror_mode": {
    "name": "ipython",
    "version": 3
   },
   "file_extension": ".py",
   "mimetype": "text/x-python",
   "name": "python",
   "nbconvert_exporter": "python",
   "pygments_lexer": "ipython3",
   "version": "3.8.5"
  }
 },
 "nbformat": 4,
 "nbformat_minor": 4
}
