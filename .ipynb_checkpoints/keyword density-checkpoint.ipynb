{
 "cells": [
  {
   "cell_type": "code",
   "execution_count": 29,
   "metadata": {},
   "outputs": [],
   "source": [
    "from bs4 import BeautifulSoup\n",
    "import requests\n",
    "import re\n",
    "from collections import Counter\n",
    "from string import punctuation\n",
    "import math\n",
    "import pandas as pd\n",
    "\n",
    "keyword = \"bouwmaterialen\"\n",
    "df = pd.read_csv(\"calls\\call-phrase_organic,['bouwmaterialen'],'Dn,Ur,Fk,Fp',nl,5.csv\")"
   ]
  },
  {
   "cell_type": "code",
   "execution_count": 30,
   "metadata": {},
   "outputs": [],
   "source": [
    "# remove punctuation\n",
    "def CleanText(text):\n",
    "    text = str(text)\n",
    "    forbidden = [r'\\n', r'.', r'?', r'!', r'(', r')', r'\\r']\n",
    "    for i in forbidden:\n",
    "        text.replace(i, ' ')\n",
    "    return text\n",
    "\n",
    "# returns amount of a specific word on a page (complete page)\n",
    "def WordCount(webpage, word):\n",
    "    words = ''.join([t for t in webpage.find_all(text=True)])\n",
    "    words = CleanText(words.lower())\n",
    "    words = words.split()\n",
    "    return words.count(word.lower())\n",
    "\n",
    "# returns amount of a specific word on a page (body only)\n",
    "def WordCountBody(webpage, word):\n",
    "    words = ''.join([t for t in webpage.body.find_all(text=True)])\n",
    "    words = CleanText(words.lower())\n",
    "    words = words.split()\n",
    "    return words.count(word.lower())\n",
    "\n",
    "# returns the total amount of words on a page\n",
    "def TotalWordCount(website):\n",
    "    # strip all script and style elements\n",
    "    for script in website([\"script\", \"style\"]):\n",
    "        script.extract()\n",
    "\n",
    "    text = website.get_text()\n",
    "    \n",
    "    # break into lines and remove leading and trailing space on each\n",
    "    lines = (line.strip() for line in text.splitlines())\n",
    "    # break multi-headlines into a line each\n",
    "    chunks = (phrase.strip() for line in lines for phrase in line.split(\"  \"))\n",
    "    # drop blank lines\n",
    "    text = '\\n'.join(chunk for chunk in chunks if chunk)\n",
    "    \n",
    "    # calculate amount of seperate words\n",
    "    total_word_count = len(text.split())\n",
    "    return total_word_count\n",
    "\n",
    "# returns keyword density = keyword to total words ratio\n",
    "def KeywordDensity(keyword, website):\n",
    "    total_length = TotalWordCount(soup)\n",
    "    keyword_amount = WordCount(website,keyword)\n",
    "    return keyword_amount / total_length\n",
    "\n",
    "def ToPercentage(number):\n",
    "    return round(number * 100, 2)"
   ]
  },
  {
   "cell_type": "code",
   "execution_count": 40,
   "metadata": {},
   "outputs": [
    {
     "name": "stdout",
     "output_type": "stream",
     "text": [
      "https://www.bouwmaat.nl/bouwmaterialen\n",
      "0.47 %\n",
      "https://www.hornbach.nl/shop/Bouwmateriaal/S4471/artikeloverzicht.html\n",
      "0.71 %\n",
      "https://www.online-bouwmaterialen.nl/\n",
      "1.2 %\n",
      "https://www.bouwbestel.nl/bouwmaterialen.html\n",
      "0.27 %\n",
      "https://www.bouwonline.com/\n",
      "0.07 %\n"
     ]
    }
   ],
   "source": [
    "for index, row in df.iterrows():\n",
    "    r = requests.get(row[\"1\"])\n",
    "    print(row[\"1\"])\n",
    "    soup = BeautifulSoup(r.content)\n",
    "    print(ToPercentage(KeywordDensity(keyword, soup)), \"%\")\n",
    "    "
   ]
  }
 ],
 "metadata": {
  "kernelspec": {
   "display_name": "Python 3",
   "language": "python",
   "name": "python3"
  },
  "language_info": {
   "codemirror_mode": {
    "name": "ipython",
    "version": 3
   },
   "file_extension": ".py",
   "mimetype": "text/x-python",
   "name": "python",
   "nbconvert_exporter": "python",
   "pygments_lexer": "ipython3",
   "version": "3.8.5"
  }
 },
 "nbformat": 4,
 "nbformat_minor": 4
}
