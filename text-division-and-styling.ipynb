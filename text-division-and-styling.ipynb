{
 "cells": [
  {
   "cell_type": "markdown",
   "metadata": {},
   "source": [
    "# Import"
   ]
  },
  {
   "cell_type": "code",
   "execution_count": null,
   "metadata": {},
   "outputs": [],
   "source": [
    "from bs4 import BeautifulSoup\n",
    "import urllib.request\n",
    "from urllib.parse import urlparse\n",
    "import pandas as pd #nog implementeren"
   ]
  },
  {
   "cell_type": "markdown",
   "metadata": {},
   "source": [
    "# Functions"
   ]
  },
  {
   "cell_type": "code",
   "execution_count": 71,
   "metadata": {},
   "outputs": [],
   "source": [
    "def HeadersAndLists(siteUrl):\n",
    "    external_sites_html = urllib.request.urlopen(siteUrl)\n",
    "    websiteDomain = urlparse(siteUrl).netloc\n",
    "    soup = BeautifulSoup(external_sites_html, 'html.parser')\n",
    "\n",
    "    # Find header tags and count them\n",
    "    h1_soup = soup.find('h1')\n",
    "    h1_soup_count = len(h1_soup)\n",
    "    print(f\"H1: {h1_soup_count}\")\n",
    "    h2_soup = soup.find('h2')\n",
    "    h2_soup_count = len(h2_soup)\n",
    "    print(f\"H2: {h2_soup_count}\")\n",
    "    h3_soup = soup.find('h3')\n",
    "    h3_soup_count = len(h3_soup)\n",
    "    print(f\"H3: {h3_soup_count}\")\n",
    "    h4_soup = soup.find('h4')\n",
    "    h4_soup_count = len(h4_soup)\n",
    "    print(f\"H4: {h4_soup_count}\")\n",
    "    h5_soup = soup.find('h5')\n",
    "    h5_soup_count = len(h5_soup)\n",
    "    print(f\"H5: {h5_soup_count}\")\n",
    "    h6_soup = soup.find('h6')\n",
    "    try:\n",
    "        h6_soup_count = len(h6_soup)\n",
    "        print(f\"H6: {h6_soup_count}\")\n",
    "    except:\n",
    "        print(\"H6: 0\")\n",
    "        \n",
    "    # Find all lists \n",
    "    ol_soup = soup.find('ol')\n",
    "    ol_soup_count = len(ol_soup)\n",
    "    print(f\"OL: {ol_soup_count}\")\n",
    "    ul_soup = soup.find('ul',)\n",
    "    ul_soup_count = len(ul_soup)\n",
    "    print(f\"UL: {ul_soup_count}\")\n",
    "    dl_soup = soup.find('dl')\n",
    "    if dl_soup is not None:\n",
    "        dl_soup_count = len(dl_soup)\n",
    "        print(f\"DL: {dl_soup_count}\")\n",
    "    else:\n",
    "        print(f\"DL: 0\") # Dit nog implementeren en als dataframe opslaan\n",
    "    \n",
    "    # ul_soup_all = soup.find_all('ul', {'class':'class-name'})\n",
    "    # li_soup_all = soup.find_all('li', {'class':'class-name'})\n",
    "    # li_ul_soup_count = sum(1 for ul in ul_soup_all for li in ul) # Count list items within unordered lists\n",
    "    # li_ol_soup_count = sum(1 for ol in li_soup_all for li in ol) # Count list items within ordered lists\n",
    "    # print(f\"LI in UL: {ul_soup_count}\")\n",
    "    # print(f\"LI in OL: {ol_soup_count}\")"
   ]
  },
  {
   "cell_type": "markdown",
   "metadata": {},
   "source": [
    "# Executing"
   ]
  },
  {
   "cell_type": "code",
   "execution_count": 72,
   "metadata": {},
   "outputs": [
    {
     "name": "stdout",
     "output_type": "stream",
     "text": [
      "H1: 2\n",
      "H2: 1\n",
      "H3: 1\n",
      "H4: 1\n",
      "H5: 1\n",
      "H6: 0\n",
      "OL: 9\n",
      "UL: 9\n",
      "DL: 0\n"
     ]
    }
   ],
   "source": [
    "HeadersAndLists('https://www.w3schools.com/html/html_lists.asp')"
   ]
  },
  {
   "cell_type": "code",
   "execution_count": null,
   "metadata": {},
   "outputs": [],
   "source": []
  }
 ],
 "metadata": {
  "kernelspec": {
   "display_name": "Python 3",
   "language": "python",
   "name": "python3"
  },
  "language_info": {
   "codemirror_mode": {
    "name": "ipython",
    "version": 3
   },
   "file_extension": ".py",
   "mimetype": "text/x-python",
   "name": "python",
   "nbconvert_exporter": "python",
   "pygments_lexer": "ipython3",
   "version": "3.8.5"
  }
 },
 "nbformat": 4,
 "nbformat_minor": 4
}
