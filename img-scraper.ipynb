{
 "cells": [
  {
   "cell_type": "code",
   "execution_count": 24,
   "metadata": {},
   "outputs": [
    {
     "name": "stdout",
     "output_type": "stream",
     "text": [
      "Image: 1\n",
      "Image ALT: Not defined\n",
      "Image: 2\n",
      "Image ALT: Not defined\n",
      "Image: 3\n",
      "Image ALT: Not defined\n",
      "Image: 4\n",
      "Image ALT: Not defined\n",
      "Image: 5\n",
      "Image ALT: Not defined\n",
      "Image: 6\n",
      "Image ALT: Not defined\n",
      "Image: 7\n",
      "Image ALT: Not defined\n",
      "Image: 8\n",
      "Image ALT: Not defined\n",
      "Image: 9\n",
      "Image ALT: Not defined\n",
      "Image: 10\n",
      "Image ALT: Not defined\n",
      "Image: 11\n",
      "Image ALT: Not defined\n",
      "Image: 12\n",
      "Image ALT: Not defined\n",
      "Image: 13\n",
      "Image ALT: Not defined\n",
      "\n",
      "Aantal foto's gevonden op de pagina: 13\n",
      "Video: 1\n",
      "Video ALT: Not defined\n",
      "Aantal video's gevonden op de pagina: 1\n"
     ]
    }
   ],
   "source": [
    "from bs4 import BeautifulSoup\n",
    "import requests\n",
    "\n",
    "def scanMediaInfo(siteUrl):\n",
    "    content = requests.get(siteUrl).content\n",
    "    # get soup\n",
    "    soup = BeautifulSoup(content,'lxml') # choose lxml parser\n",
    "    # find the tag : <img ... >\n",
    "    image_tags = soup.findAll('img')\n",
    "    # print out image urls + details\n",
    "    imageNumber = 0\n",
    "    for image in image_tags:\n",
    "        imageNumber = imageNumber + 1\n",
    "        print(\"Image: \" + str(imageNumber))\n",
    "        #print(\"Image location: {}\".format(str(image.get('src'))))\n",
    "        if(str(image.get('alt')==\"\")):\n",
    "           print(\"Image ALT: Not defined\")\n",
    "        else:\n",
    "           print(\"Image ALT: \"+str(image.get('alt')))        \n",
    "        \n",
    "    print(\"\\nAantal foto's gevonden op de pagina: {}\".format(str(imageNumber)))\n",
    "    \n",
    "    video = soup.findAll(\"video\")\n",
    "    videoNumber = 0\n",
    "    for vid in video:\n",
    "        videoNumber = videoNumber + 1\n",
    "        #print(\"Video location: {}\".format(str(vid.get('src'))))\n",
    "        print(\"Video: {}\".format(videoNumber))\n",
    "        if(str(vid.get('alt')==\"\")):\n",
    "           print(\"Video ALT: Not defined\")\n",
    "        else:\n",
    "           print(\"Video ALT: \"+str(vid.get('alt')))\n",
    "    \n",
    "    if (videoNumber == 0):\n",
    "        print(\"No videos have been found.\")\n",
    "    else:\n",
    "        print(\"Aantal video's gevonden op de pagina: \" + str(videoNumber))\n",
    "        \n",
    "scanMediaInfo('https://www.tutorialspoint.com/html/html_video_tag.htm')"
   ]
  },
  {
   "cell_type": "code",
   "execution_count": null,
   "metadata": {},
   "outputs": [],
   "source": []
  }
 ],
 "metadata": {
  "kernelspec": {
   "display_name": "Python 3",
   "language": "python",
   "name": "python3"
  },
  "language_info": {
   "codemirror_mode": {
    "name": "ipython",
    "version": 3
   },
   "file_extension": ".py",
   "mimetype": "text/x-python",
   "name": "python",
   "nbconvert_exporter": "python",
   "pygments_lexer": "ipython3",
   "version": "3.8.5"
  }
 },
 "nbformat": 4,
 "nbformat_minor": 4
}
