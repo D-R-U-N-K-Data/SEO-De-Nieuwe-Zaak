{
 "cells": [
  {
   "cell_type": "code",
   "execution_count": 21,
   "metadata": {},
   "outputs": [],
   "source": [
    "# Import essential packages\n",
    "import urllib\n",
    "from urllib.parse import urlencode\n",
    "import requests\n",
    "import pandas as pd\n",
    "\n",
    "### Temporary annotations\n",
    "# https://api.semrush.com/?type=phrase_organic&key={{key}}&phrase=bouwmaterialen&export_columns=Dn,Ur,Fk,Fp&database=nl&display_limit=20\n",
    "# https://api.semrush.com/?type=phrase_organic&key=b9fd485dbbcc0d31bc30e828806fd14c&phrase=bouwmaterialen&export_columns=Dn,Ur,Fk,Fp&database=nl&display_limit=5"
   ]
  },
  {
   "cell_type": "code",
   "execution_count": 22,
   "metadata": {},
   "outputs": [],
   "source": [
    "### Load API Key and root url for API call\n",
    "### Function used to monitor credit use for SEMrush API\n",
    "def semrush_call(phrase):\n",
    "    params = {\n",
    "        \"?type\": 'phrase_organic',\n",
    "        'key': 'b9fd485dbbcc0d31bc30e828806fd14c',\n",
    "        'phrase': phrase,\n",
    "        'export_columns': 'Dn,Ur,Fk,Fp', # columns from https://www.semrush.com/api-analytics/#columns\n",
    "        'database': 'nl', # country of market\n",
    "        'display_limit': '5', # count of retrieving results\n",
    "        }\n",
    "    data = urllib.parse.urlencode(params, doseq=True)\n",
    "    main_call = urllib.parse.urljoin('https://api.semrush.com/', data)\n",
    "    main_call = main_call.replace(r'%3F', r'?')\n",
    "    return main_call\n",
    "\n",
    "### Function used to parse data from semrush_call\n",
    "def parse_response(call_data):\n",
    "    results = []\n",
    "    data = call_data.decode('unicode_escape')\n",
    "    lines = data.split('\\r\\n')\n",
    "    lines = list(filter(bool, lines))\n",
    "    columns = lines[0].split(';')\n",
    "        \n",
    "    for line in lines[1:]:\n",
    "        result = {}\n",
    "        for i, datum in enumerate(line.split(';')):\n",
    "            result[i] = datum.strip('\"\\n\\r\\t')\n",
    "        results.append(result)\n",
    "    return results"
   ]
  },
  {
   "cell_type": "code",
   "execution_count": 19,
   "metadata": {},
   "outputs": [],
   "source": [
    "yourKeywords = ['bouwmaterialen']\n",
    "#youKeywords can be substituted for a column of a csv file using pandas\n",
    "\n",
    "keyword_frame = []\n",
    "for every in yourKeywords:\n",
    "    data=requests.get(semrush_call(every))\n",
    "    parsed_data = parse_response(data.content)\n",
    "    df = pd.DataFrame(parsed_data)\n",
    "    keyword_frame.append(df)\n",
    "                        \n",
    "finalKeywordData = pd.concat(keyword_frame)\n",
    "finalKeywordData.to_csv(\"EnterYourCSVFileNameHere4.csv\")"
   ]
  },
  {
   "cell_type": "code",
   "execution_count": 20,
   "metadata": {},
   "outputs": [
    {
     "data": {
      "text/html": [
       "<div>\n",
       "<style scoped>\n",
       "    .dataframe tbody tr th:only-of-type {\n",
       "        vertical-align: middle;\n",
       "    }\n",
       "\n",
       "    .dataframe tbody tr th {\n",
       "        vertical-align: top;\n",
       "    }\n",
       "\n",
       "    .dataframe thead th {\n",
       "        text-align: right;\n",
       "    }\n",
       "</style>\n",
       "<table border=\"1\" class=\"dataframe\">\n",
       "  <thead>\n",
       "    <tr style=\"text-align: right;\">\n",
       "      <th></th>\n",
       "      <th>0</th>\n",
       "      <th>1</th>\n",
       "      <th>2</th>\n",
       "      <th>3</th>\n",
       "    </tr>\n",
       "  </thead>\n",
       "  <tbody>\n",
       "    <tr>\n",
       "      <th>0</th>\n",
       "      <td>bouwmaat.nl</td>\n",
       "      <td>https://www.bouwmaat.nl/bouwmaterialen</td>\n",
       "      <td>3,6,7,15</td>\n",
       "      <td>6</td>\n",
       "    </tr>\n",
       "    <tr>\n",
       "      <th>1</th>\n",
       "      <td>hornbach.nl</td>\n",
       "      <td>https://www.hornbach.nl/shop/Bouwmateriaal/S44...</td>\n",
       "      <td>3,6,7,15</td>\n",
       "      <td>6</td>\n",
       "    </tr>\n",
       "    <tr>\n",
       "      <th>2</th>\n",
       "      <td>online-bouwmaterialen.nl</td>\n",
       "      <td>https://www.online-bouwmaterialen.nl/</td>\n",
       "      <td>3,6,7,15</td>\n",
       "      <td>6</td>\n",
       "    </tr>\n",
       "    <tr>\n",
       "      <th>3</th>\n",
       "      <td>bouwbestel.nl</td>\n",
       "      <td>https://www.bouwbestel.nl/bouwmaterialen.html</td>\n",
       "      <td>3,6,7,15</td>\n",
       "      <td></td>\n",
       "    </tr>\n",
       "    <tr>\n",
       "      <th>4</th>\n",
       "      <td>bouwonline.com</td>\n",
       "      <td>https://www.bouwonline.com/</td>\n",
       "      <td>3,6,7,15</td>\n",
       "      <td></td>\n",
       "    </tr>\n",
       "  </tbody>\n",
       "</table>\n",
       "</div>"
      ],
      "text/plain": [
       "                          0  \\\n",
       "0               bouwmaat.nl   \n",
       "1               hornbach.nl   \n",
       "2  online-bouwmaterialen.nl   \n",
       "3             bouwbestel.nl   \n",
       "4            bouwonline.com   \n",
       "\n",
       "                                                   1         2  3  \n",
       "0             https://www.bouwmaat.nl/bouwmaterialen  3,6,7,15  6  \n",
       "1  https://www.hornbach.nl/shop/Bouwmateriaal/S44...  3,6,7,15  6  \n",
       "2              https://www.online-bouwmaterialen.nl/  3,6,7,15  6  \n",
       "3      https://www.bouwbestel.nl/bouwmaterialen.html  3,6,7,15     \n",
       "4                        https://www.bouwonline.com/  3,6,7,15     "
      ]
     },
     "execution_count": 20,
     "metadata": {},
     "output_type": "execute_result"
    }
   ],
   "source": [
    "finalKeywordData"
   ]
  }
 ],
 "metadata": {
  "kernelspec": {
   "display_name": "Python 3",
   "language": "python",
   "name": "python3"
  },
  "language_info": {
   "codemirror_mode": {
    "name": "ipython",
    "version": 3
   },
   "file_extension": ".py",
   "mimetype": "text/x-python",
   "name": "python",
   "nbconvert_exporter": "python",
   "pygments_lexer": "ipython3",
   "version": "3.8.5"
  }
 },
 "nbformat": 4,
 "nbformat_minor": 4
}
