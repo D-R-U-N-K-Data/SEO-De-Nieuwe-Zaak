{
 "cells": [
  {
   "cell_type": "markdown",
   "metadata": {},
   "source": [
    "# Packages"
   ]
  },
  {
   "cell_type": "code",
   "execution_count": 16,
   "metadata": {},
   "outputs": [
    {
     "ename": "ImportError",
     "evalue": "cannot import name 'existing_file' from 'ipynb.fs.full.functions' (unknown location)",
     "output_type": "error",
     "traceback": [
      "\u001b[1;31m---------------------------------------------------------------------------\u001b[0m",
      "\u001b[1;31mImportError\u001b[0m                               Traceback (most recent call last)",
      "\u001b[1;32m<ipython-input-16-a017cef05fab>\u001b[0m in \u001b[0;36m<module>\u001b[1;34m\u001b[0m\n\u001b[0;32m      8\u001b[0m \u001b[1;33m\u001b[0m\u001b[0m\n\u001b[0;32m      9\u001b[0m \u001b[1;31m# Import functions\u001b[0m\u001b[1;33m\u001b[0m\u001b[1;33m\u001b[0m\u001b[1;33m\u001b[0m\u001b[0m\n\u001b[1;32m---> 10\u001b[1;33m \u001b[1;32mfrom\u001b[0m \u001b[0mipynb\u001b[0m\u001b[1;33m.\u001b[0m\u001b[0mfs\u001b[0m\u001b[1;33m.\u001b[0m\u001b[0mfull\u001b[0m\u001b[1;33m.\u001b[0m\u001b[0mfunctions\u001b[0m \u001b[1;32mimport\u001b[0m \u001b[0mexisting_file\u001b[0m\u001b[1;33m\u001b[0m\u001b[1;33m\u001b[0m\u001b[0m\n\u001b[0m\u001b[0;32m     11\u001b[0m \u001b[1;33m\u001b[0m\u001b[0m\n\u001b[0;32m     12\u001b[0m \u001b[1;31m### Temporary annotations\u001b[0m\u001b[1;33m\u001b[0m\u001b[1;33m\u001b[0m\u001b[1;33m\u001b[0m\u001b[0m\n",
      "\u001b[1;31mImportError\u001b[0m: cannot import name 'existing_file' from 'ipynb.fs.full.functions' (unknown location)"
     ]
    }
   ],
   "source": [
    "# Import essential packages\n",
    "import urllib\n",
    "from urllib.parse import urlencode\n",
    "import requests\n",
    "import pandas as pd\n",
    "import os.path, time\n",
    "import hashlib\n",
    "\n",
    "# Import functions\n",
    "from ipynb.fs.full.functions import existing_file\n",
    "\n",
    "### Temporary annotations\n",
    "# https://api.semrush.com/?type=phrase_organic&key={{key}}&phrase=bouwmaterialen&export_columns=Dn,Ur,Fk,Fp&database=nl&display_limit=20\n",
    "# https://api.semrush.com/?type=phrase_organic&key=b9fd485dbbcc0d31bc30e828806fd14c&phrase=bouwmaterialen&export_columns=Dn,Ur,Fk,Fp&database=nl&display_limit=5\n",
    "# https://api.semrush.com/?type=phrase_organic&key=b9fd485dbbcc0d31bc30e828806fd14c&phrase=bouwmaterialen&export_columns=Dn,Ur,Ts&database=nl&display_limit=1"
   ]
  },
  {
   "cell_type": "markdown",
   "metadata": {},
   "source": [
    "# Variables"
   ]
  },
  {
   "cell_type": "code",
   "execution_count": 13,
   "metadata": {},
   "outputs": [],
   "source": [
    "### Below code is for keywords\n",
    "endpoint_url = 'https://api.semrush.com/'\n",
    "export_columns = 'Dn,Ur'\n",
    "params = {\n",
    "    \"?type\": 'phrase_organic',\n",
    "    'key': 'b9fd485dbbcc0d31bc30e828806fd14c',\n",
    "    'phrase': 'bouwmaterialen',\n",
    "    'export_columns': export_columns, # Columns from https://www.semrush.com/api-analytics/#columns\n",
    "    'database': 'nl', # Country of market\n",
    "    'display_limit': '50', # Count of retrieving results\n",
    "    }\n",
    "\n",
    "# ### Below code is for backlinks\n",
    "# endpoint_url = 'https://api.semrush.com/analytics/v1/'\n",
    "# export_columns = 'external_num,internal_num'\n",
    "# params = {\n",
    "#     '?key': 'b9fd485dbbcc0d31bc30e828806fd14c',\n",
    "#     'type': 'backlinks',\n",
    "#     'target': 'bouwmaat.nl',\n",
    "#     'target_type': 'root_domain',\n",
    "#     'export_columns': export_columns,\n",
    "#     'display_limit': '1'\n",
    "#     }\n",
    "\n",
    "### Do you want to overwrite the data if it already exists?\n",
    "potential_overwrite = False"
   ]
  },
  {
   "cell_type": "markdown",
   "metadata": {},
   "source": [
    "# Functions"
   ]
  },
  {
   "cell_type": "code",
   "execution_count": 14,
   "metadata": {},
   "outputs": [],
   "source": [
    "### Function used to monitor credit use for SEMrush API\n",
    "def semrush_call(params):\n",
    "    data = urllib.parse.urlencode(params, doseq=True)\n",
    "    main_call = urllib.parse.urljoin(endpoint_url, data)\n",
    "    main_call = main_call.replace(r'%3F', r'?')\n",
    "    return main_call\n",
    "\n",
    "### Function used to parse data from semrush_call\n",
    "def parse_response(call_data):\n",
    "    results = []\n",
    "    data = call_data.decode('unicode_escape')\n",
    "    lines = data.split('\\r\\n')\n",
    "    lines = list(filter(bool, lines))\n",
    "    columns = lines[0].split(';')\n",
    "        \n",
    "    for line in lines[1:]:\n",
    "        result = {}\n",
    "        for i, datum in enumerate(line.split(';')):\n",
    "            result[i] = datum.strip('\"\\n\\r\\t')\n",
    "        results.append(result)\n",
    "    return results\n",
    "\n",
    "### Function used to rename columns to readable format\n",
    "def rename_columns(finalKeywordData):\n",
    "    x = export_columns.split(',')\n",
    "    finalKeywordData = finalKeywordData.rename(columns={finalKeywordData.columns[0]:'Number'})\n",
    "\n",
    "    for i in range(0, (len(finalKeywordData.columns)-1)):\n",
    "        finalKeywordData = finalKeywordData.rename(columns={finalKeywordData.columns[i+1]:x[i]})\n",
    "        \n",
    "    return finalKeywordData\n",
    "        \n",
    "### Function used to call all other functions to get the data in a formatted way\n",
    "def execute_call():\n",
    "    params_hashed = hash_variable(params)\n",
    "    file_exists = existing_file(params_hashed, \"call\")\n",
    "    if file_exists == True: # Just load CSV file\n",
    "        finalKeywordData = pd.read_csv(f\"calls\\call-{params_hashed}.csv\")\n",
    "        return rename_columns(finalKeywordData)\n",
    "    else: # Execute query and save to CSV file\n",
    "        data = requests.get(semrush_call(params))\n",
    "        parsed_data = parse_response(data.content)\n",
    "        finalKeywordData = pd.DataFrame(parsed_data)\n",
    "        # Add the finalKeywordData to the dataframe and a new CSV file\n",
    "        finalKeywordData.to_csv(f\"calls\\call-{params_hashed}.csv\")\n",
    "        finalKeywordData = pd.read_csv(f\"calls\\call-{params_hashed}.csv\") # Make sure to read from CSV to easily make format uniform\n",
    "        return rename_columns(finalKeywordData)"
   ]
  },
  {
   "cell_type": "markdown",
   "metadata": {},
   "source": [
    "# Executing of functions"
   ]
  },
  {
   "cell_type": "code",
   "execution_count": 15,
   "metadata": {},
   "outputs": [
    {
     "ename": "NameError",
     "evalue": "name 'hash_variable' is not defined",
     "output_type": "error",
     "traceback": [
      "\u001b[1;31m---------------------------------------------------------------------------\u001b[0m",
      "\u001b[1;31mNameError\u001b[0m                                 Traceback (most recent call last)",
      "\u001b[1;32m<ipython-input-15-b753d3ce7b8c>\u001b[0m in \u001b[0;36m<module>\u001b[1;34m\u001b[0m\n\u001b[0;32m      1\u001b[0m \u001b[1;31m# Executing of final function\u001b[0m\u001b[1;33m\u001b[0m\u001b[1;33m\u001b[0m\u001b[1;33m\u001b[0m\u001b[0m\n\u001b[1;32m----> 2\u001b[1;33m \u001b[0mfinalKeywordData\u001b[0m \u001b[1;33m=\u001b[0m \u001b[0mexecute_call\u001b[0m\u001b[1;33m(\u001b[0m\u001b[1;33m)\u001b[0m\u001b[1;33m\u001b[0m\u001b[1;33m\u001b[0m\u001b[0m\n\u001b[0m\u001b[0;32m      3\u001b[0m \u001b[0mfinalKeywordData\u001b[0m\u001b[1;33m\u001b[0m\u001b[1;33m\u001b[0m\u001b[0m\n",
      "\u001b[1;32m<ipython-input-14-b81eaed03e4b>\u001b[0m in \u001b[0;36mexecute_call\u001b[1;34m()\u001b[0m\n\u001b[0;32m     33\u001b[0m \u001b[1;31m### Function used to call all other functions to get the data in a formatted way\u001b[0m\u001b[1;33m\u001b[0m\u001b[1;33m\u001b[0m\u001b[1;33m\u001b[0m\u001b[0m\n\u001b[0;32m     34\u001b[0m \u001b[1;32mdef\u001b[0m \u001b[0mexecute_call\u001b[0m\u001b[1;33m(\u001b[0m\u001b[1;33m)\u001b[0m\u001b[1;33m:\u001b[0m\u001b[1;33m\u001b[0m\u001b[1;33m\u001b[0m\u001b[0m\n\u001b[1;32m---> 35\u001b[1;33m     \u001b[0mparams_hashed\u001b[0m \u001b[1;33m=\u001b[0m \u001b[0mhash_variable\u001b[0m\u001b[1;33m(\u001b[0m\u001b[0mparams\u001b[0m\u001b[1;33m)\u001b[0m\u001b[1;33m\u001b[0m\u001b[1;33m\u001b[0m\u001b[0m\n\u001b[0m\u001b[0;32m     36\u001b[0m     \u001b[0mfile_exists\u001b[0m \u001b[1;33m=\u001b[0m \u001b[0mexisting_file\u001b[0m\u001b[1;33m(\u001b[0m\u001b[0mparams_hashed\u001b[0m\u001b[1;33m,\u001b[0m \u001b[1;34m\"call\"\u001b[0m\u001b[1;33m)\u001b[0m\u001b[1;33m\u001b[0m\u001b[1;33m\u001b[0m\u001b[0m\n\u001b[0;32m     37\u001b[0m     \u001b[1;32mif\u001b[0m \u001b[0mfile_exists\u001b[0m \u001b[1;33m==\u001b[0m \u001b[1;32mTrue\u001b[0m\u001b[1;33m:\u001b[0m \u001b[1;31m# Just load CSV file\u001b[0m\u001b[1;33m\u001b[0m\u001b[1;33m\u001b[0m\u001b[0m\n",
      "\u001b[1;31mNameError\u001b[0m: name 'hash_variable' is not defined"
     ]
    }
   ],
   "source": [
    "# Executing of final function\n",
    "finalKeywordData = execute_call()\n",
    "finalKeywordData"
   ]
  },
  {
   "cell_type": "markdown",
   "metadata": {},
   "source": [
    "# Unused code"
   ]
  },
  {
   "cell_type": "code",
   "execution_count": 145,
   "metadata": {},
   "outputs": [],
   "source": [
    "### Unusued for loop to use more keywords in a given query\n",
    "# for every in yourKeywords:\n",
    "#     data=requests.get(semrush_call(phrasetype, every, export_columns, database, display_limit))\n",
    "#     parsed_data = parse_response(data.content)\n",
    "#     df = pd.DataFrame(parsed_data)\n",
    "#     keyword_frame.append(df)"
   ]
  }
 ],
 "metadata": {
  "kernelspec": {
   "display_name": "Python 3",
   "language": "python",
   "name": "python3"
  },
  "language_info": {
   "codemirror_mode": {
    "name": "ipython",
    "version": 3
   },
   "file_extension": ".py",
   "mimetype": "text/x-python",
   "name": "python",
   "nbconvert_exporter": "python",
   "pygments_lexer": "ipython3",
   "version": "3.8.5"
  }
 },
 "nbformat": 4,
 "nbformat_minor": 4
}
