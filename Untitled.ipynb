{
 "cells": [
  {
   "cell_type": "code",
   "execution_count": 1,
   "metadata": {},
   "outputs": [
    {
     "name": "stdout",
     "output_type": "stream",
     "text": [
      "Domain:\n",
      "www.schroeven-online.nl\n",
      "\n",
      "META-title:\n",
      "Schroeven kopen online | Vandaag in huis | SCHROEVEN ONLINE\n",
      "\n",
      "META-description:\n",
      "Schroeven kopen online van A-merken. Grote voorraden. Klantbeoordeling: 9. Nergens betere prijzen. Nu schroeven kopen online en vandaag in huis. Dé schroeven specialist voor schroeven kopen online. Bestel Nu!\n"
     ]
    }
   ],
   "source": [
    "from bs4 import BeautifulSoup\n",
    "import urllib.request\n",
    "from urllib.parse import urlparse\n",
    "\n",
    "def findMetaDetails(siteUrl):\n",
    "    try:\n",
    "        external_sites_html = urllib.request.urlopen(siteUrl)\n",
    "        websiteDomain = urlparse(siteUrl).netloc\n",
    "        soup = BeautifulSoup(external_sites_html)\n",
    "        metaTitle = soup.title.string.lstrip()\n",
    "\n",
    "        # First get the meta description tag\n",
    "        metaDescription = soup.find('meta', attrs={'name':'og:description'}) or soup.find('meta', attrs={'property':'description'}) or soup.find('meta', attrs={'name':'description'})\n",
    "    \n",
    "        # If description meta tag was found, then get the content attribute and save it to db entry\n",
    "        if metaDescription:\n",
    "            metaDescription = metaDescription.get('content')\n",
    "    \n",
    "        print(\"Domain:\\n\" + websiteDomain + \"\\n\")\n",
    "        print(\"META-title:\\n\" + metaTitle + \"\\n\")\n",
    "        print(\"META-description:\\n\" + metaDescription)\n",
    "    except:\n",
    "        print(\"No META-details have been found.\")\n",
    "    \n",
    "findMetaDetails('https://www.schroeven-online.nl/nl/schroeven/')"
   ]
  }
 ],
 "metadata": {
  "kernelspec": {
   "display_name": "Python 3",
   "language": "python",
   "name": "python3"
  },
  "language_info": {
   "codemirror_mode": {
    "name": "ipython",
    "version": 3
   },
   "file_extension": ".py",
   "mimetype": "text/x-python",
   "name": "python",
   "nbconvert_exporter": "python",
   "pygments_lexer": "ipython3",
   "version": "3.8.5"
  }
 },
 "nbformat": 4,
 "nbformat_minor": 4
}
