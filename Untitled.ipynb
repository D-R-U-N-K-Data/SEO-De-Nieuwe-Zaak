{
 "cells": [
  {
   "cell_type": "code",
   "execution_count": 32,
   "metadata": {},
   "outputs": [
    {
     "name": "stdout",
     "output_type": "stream",
     "text": [
      "https://www.bouwmaterialenkopen.com/WWWWWWWWWWWWWWWWWWWW\n",
      "tel:085 - 401 23 60i dont start good\n",
      "javascript:;i dont start good\n",
      "Nonei dont start good\n",
      "https://www.bouwmaterialenkopen.com/klussen/zwembad-bouwen/WWWWWWWWWWWWWWWWWWWW\n",
      "https://www.bouwmaterialenkopen.com/klussen/zwembad-bouwen/WWWWWWWWWWWWWWWWWWWW\n",
      "https://www.bouwmaterialenkopen.com/klussen/garage-bouwen/WWWWWWWWWWWWWWWWWWWW\n",
      "https://www.bouwmaterialenkopen.com/klussen/garage-bouwen/WWWWWWWWWWWWWWWWWWWW\n",
      "https://www.bouwmaterialenkopen.com/klussen/binnenmuur-maken/WWWWWWWWWWWWWWWWWWWW\n",
      "https://www.bouwmaterialenkopen.com/klussen/binnenmuur-maken/WWWWWWWWWWWWWWWWWWWW\n",
      "https://www.bouwmaterialenkopen.com/klussen/buitenmuur-maken/WWWWWWWWWWWWWWWWWWWW\n",
      "https://www.bouwmaterialenkopen.com/klussen/buitenmuur-maken/WWWWWWWWWWWWWWWWWWWW\n",
      "https://www.bouwmaterialenkopen.com/klussen/tuinmuur-maken/WWWWWWWWWWWWWWWWWWWW\n",
      "https://www.bouwmaterialenkopen.com/klussen/tuinmuur-maken/WWWWWWWWWWWWWWWWWWWW\n",
      "https://www.bouwmaterialenkopen.com/metselstenen/WWWWWWWWWWWWWWWWWWWW\n",
      "https://www.bouwmaterialenkopen.com/betonblokken/WWWWWWWWWWWWWWWWWWWW\n",
      "https://www.bouwmaterialenkopen.com/kalkzandsteen/WWWWWWWWWWWWWWWWWWWW\n",
      "https://www.bouwmaterialenkopen.com/cellenbeton/WWWWWWWWWWWWWWWWWWWW\n",
      "https://www.bouwmaterialenkopen.com/isolatie/WWWWWWWWWWWWWWWWWWWW\n",
      "https://www.bouwmaterialenkopen.com/bouwstaal/WWWWWWWWWWWWWWWWWWWW\n",
      "https://www.bouwmaterialenkopen.com/WWWWWWWWWWWWWWWWWWWW\n",
      "tel:085 - 401 23 60i dont start good\n",
      "#i dont start good\n"
     ]
    }
   ],
   "source": [
    "from bs4 import BeautifulSoup \n",
    "import urllib.request\n",
    "from urllib.request import urlopen\n",
    "from urllib.parse import urlparse\n",
    "import re\n",
    "import requests\n",
    "from urllib.parse import urlparse, urljoin\n",
    "\n",
    "def findExternalLinks(siteUrl):\n",
    "\n",
    "        req = requests.get(siteUrl)\n",
    "        soup = BeautifulSoup(req.content, 'html.parser')\n",
    "        \n",
    "        links = [x.get('href') for x in soup.findAll('a')]\n",
    "        \n",
    "        for a in links:\n",
    "            a = str(a)\n",
    "            if(a.startswith('http')):\n",
    "#                 print(a)\n",
    "                pass\n",
    "            elif(a.startswith('/')): \n",
    "                domain = urlparse(siteUrl).netloc\n",
    "                domain = \"https://\" + domain\n",
    "                \n",
    "                try:\n",
    "                    code = urlopen(domain + a).code\n",
    "                    print(domain + a + \"WWWWWWWWWWWWWWWWWWWW\")\n",
    "                except:\n",
    "#                     pass\n",
    "                    print(a + \"Cant OPEN!\")\n",
    "            else:\n",
    "                print(a + \"i dont start good\")\n",
    "#                 pass\n",
    "                \n",
    "findExternalLinks('https://www.bouwmaterialenkopen.com/')"
   ]
  },
  {
   "cell_type": "code",
   "execution_count": 25,
   "metadata": {},
   "outputs": [],
   "source": [
    "import requests\n",
    "from urllib.parse import urlparse, urljoin\n",
    "from bs4 import BeautifulSoup\n",
    "\n",
    "internal_urls = set()\n",
    "external_urls = set()\n",
    "\n",
    "def is_valid(url):\n",
    "    parsed = urlparse(url)\n",
    "    return bool(parsed.netloc) and bool(parsed.scheme)\n",
    "\n",
    "def get_all_website_links(url):\n",
    "    urls = set()\n",
    "    domain_name = urlparse(url).netloc\n",
    "    soup = BeautifulSoup(requests.get(url).content, \"html.parser\")\n",
    "    \n",
    "    for a_tag in soup.findAll(\"a\"):\n",
    "        href = a_tag.attrs.get(\"href\")\n",
    "        if href == \"\" or href is None:\n",
    "            # href empty tag\n",
    "            continue\n",
    "        # join the URL if it's relative (not absolute link)\n",
    "        href = urljoin(url, href)\n",
    "        parsed_href = urlparse(href)\n",
    "        # remove URL GET parameters, URL fragments, etc.\n",
    "        href = parsed_href.scheme + \"://\" + parsed_href.netloc + parsed_href.path\n",
    "        if not is_valid(href):\n",
    "            # not a valid URL\n",
    "            continue\n",
    "        if href in internal_urls:\n",
    "            # already in the set\n",
    "            continue\n",
    "        if domain_name not in href:\n",
    "            # external link\n",
    "            if href not in external_urls:\n",
    "                print(f\"[!] External link: {href}\")\n",
    "                external_urls.add(href)\n",
    "            continue\n",
    "        print(f\"[*] Internal link: {href}\")\n",
    "        urls.add(href)\n",
    "        internal_urls.add(href)\n",
    "        \n",
    "    print(\"[+] Total Internal links:\", len(internal_urls))\n",
    "    print(\"[+] Total External links:\", len(external_urls))\n",
    "        \n",
    "#     return urls"
   ]
  },
  {
   "cell_type": "code",
   "execution_count": 19,
   "metadata": {},
   "outputs": [
    {
     "data": {
      "text/plain": [
       "True"
      ]
     },
     "execution_count": 19,
     "metadata": {},
     "output_type": "execute_result"
    }
   ],
   "source": [
    "is_valid('https://bouwmaterialen.com/klussen/tuinmuur-maken/')"
   ]
  },
  {
   "cell_type": "code",
   "execution_count": 20,
   "metadata": {},
   "outputs": [
    {
     "name": "stdout",
     "output_type": "stream",
     "text": [
      "[*] Internal link: https://www.bouwmaterialenkopen.com/account/\n",
      "[*] Internal link: https://www.bouwmaterialenkopen.com/service/\n",
      "[*] Internal link: https://www.bouwmaterialenkopen.com/cart/\n",
      "[*] Internal link: https://www.bouwmaterialenkopen.com/\n",
      "[!] External link: tel://085 - 401 23 60\n",
      "[!] External link: https://api.whatsapp.com/send\n",
      "[!] External link: javascript://;\n",
      "[*] Internal link: https://www.bouwmaterialenkopen.com/service/laagste-prijsgarantie/\n",
      "[!] External link: https://www.kiyoh.com/reviews/1047035/bouwmaterialenkopen_com\n",
      "[!] External link: https://www.thuiswinkel.org/leden/bouwmaterialenkopen.com/certificaat\n",
      "[*] Internal link: https://www.bouwmaterialenkopen.com/betonblokken/\n",
      "[*] Internal link: https://www.bouwmaterialenkopen.com/betonblokken/betonblokken-acties/\n",
      "[*] Internal link: https://www.bouwmaterialenkopen.com/betonblokken/metselblokken/\n",
      "[*] Internal link: https://www.bouwmaterialenkopen.com/betonblokken/lijmblokken/\n",
      "[*] Internal link: https://www.bouwmaterialenkopen.com/betonblokken/betonstenen/\n",
      "[*] Internal link: https://www.bouwmaterialenkopen.com/kalkzandsteen/\n",
      "[*] Internal link: https://www.bouwmaterialenkopen.com/kalkzandsteen/kalkzandsteen-acties/\n",
      "[*] Internal link: https://www.bouwmaterialenkopen.com/kalkzandsteen/lijmblokken/\n",
      "[*] Internal link: https://www.bouwmaterialenkopen.com/kalkzandsteen/vellingblokken/\n",
      "[*] Internal link: https://www.bouwmaterialenkopen.com/kalkzandsteen/metselblokken/\n",
      "[*] Internal link: https://www.bouwmaterialenkopen.com/kalkzandsteen/metselstenen/\n",
      "[*] Internal link: https://www.bouwmaterialenkopen.com/kalkzandsteen/blokkenlijm/\n",
      "[*] Internal link: https://www.bouwmaterialenkopen.com/metselstenen/\n",
      "[*] Internal link: https://www.bouwmaterialenkopen.com/metselstenen/metselstenen-acties/\n",
      "[*] Internal link: https://www.bouwmaterialenkopen.com/metselstenen/handvorm-metselstenen/\n",
      "[*] Internal link: https://www.bouwmaterialenkopen.com/metselstenen/vormbak-metselstenen/\n",
      "[*] Internal link: https://www.bouwmaterialenkopen.com/metselstenen/partij-aanbiedingen/\n",
      "[*] Internal link: https://www.bouwmaterialenkopen.com/metselstenen/gevelstenen/\n",
      "[*] Internal link: https://www.bouwmaterialenkopen.com/metselstenen/bakstenen/\n",
      "[*] Internal link: https://www.bouwmaterialenkopen.com/cellenbeton/\n",
      "[*] Internal link: https://www.bouwmaterialenkopen.com/isolatieblok/\n",
      "[*] Internal link: https://www.bouwmaterialenkopen.com/cement/\n",
      "[*] Internal link: https://www.bouwmaterialenkopen.com/staal/\n",
      "[*] Internal link: https://www.bouwmaterialenkopen.com/zand/\n",
      "[*] Internal link: https://www.bouwmaterialenkopen.com/isolatie/\n",
      "[*] Internal link: https://www.bouwmaterialenkopen.com/hout-plaat/\n",
      "[*] Internal link: https://www.bouwmaterialenkopen.com/hout-plaat/vurenhout-balken-en-latten/\n",
      "[*] Internal link: https://www.bouwmaterialenkopen.com/hout-plaat/metselprofielen/\n",
      "[*] Internal link: https://www.bouwmaterialenkopen.com/hout-plaat/underlayment-en-osb/\n",
      "[*] Internal link: https://www.bouwmaterialenkopen.com/hout-plaat/metal-studs/\n",
      "[*] Internal link: https://www.bouwmaterialenkopen.com/hout-plaat/gipsplaten/\n",
      "[*] Internal link: https://www.bouwmaterialenkopen.com/klussen/garage-bouwen/\n",
      "[*] Internal link: https://www.bouwmaterialenkopen.com/service/payment-methods/\n",
      "[*] Internal link: https://www.bouwmaterialenkopen.com/klussen/zwembad-bouwen/\n",
      "[*] Internal link: https://www.bouwmaterialenkopen.com/klussen/binnenmuur-maken/\n",
      "[*] Internal link: https://www.bouwmaterialenkopen.com/klussen/buitenmuur-maken/\n",
      "[*] Internal link: https://www.bouwmaterialenkopen.com/klussen/tuinmuur-maken/\n",
      "[*] Internal link: https://www.bouwmaterialenkopen.com/betonblokken-30x10x20cm-2e-keus.html\n",
      "[*] Internal link: https://www.bouwmaterialenkopen.com/kalkzandsteen-lijmblok-43-7x10x19-8cm.html\n",
      "[*] Internal link: https://www.bouwmaterialenkopen.com/waalformaat-massief-vuilwerk-metselstenen.html\n",
      "[*] Internal link: https://www.bouwmaterialenkopen.com/betonblokken-29x20x19cm.html\n",
      "[*] Internal link: https://www.bouwmaterialenkopen.com/cellenbetonblokken-60x10x40cm.html\n",
      "[*] Internal link: https://www.bouwmaterialenkopen.com/kalkzandsteen-metselsteen-maasformaat-21-4x10-2x8.html\n",
      "[*] Internal link: https://www.bouwmaterialenkopen.com/bouwstaal/\n",
      "[*] Internal link: https://www.bouwmaterialenkopen.com/service/about/\n",
      "[*] Internal link: https://www.bouwmaterialenkopen.com/service/general-terms-conditions/\n",
      "[*] Internal link: https://www.bouwmaterialenkopen.com/service/disclaimer/\n",
      "[*] Internal link: https://www.bouwmaterialenkopen.com/service/privacy-policy/\n",
      "[*] Internal link: https://www.bouwmaterialenkopen.com/sitemap/\n",
      "[*] Internal link: https://www.bouwmaterialenkopen.com/service/overgangspartijen/\n",
      "[*] Internal link: https://www.bouwmaterialenkopen.com/service/transport/\n",
      "[*] Internal link: https://www.bouwmaterialenkopen.com/service/retourneren/\n",
      "[*] Internal link: https://www.bouwmaterialenkopen.com/service/monsterstenen/\n",
      "[*] Internal link: https://www.bouwmaterialenkopen.com/service/klachten/\n",
      "[*] Internal link: https://www.bouwmaterialenkopen.com/service/garantie/\n",
      "[*] Internal link: https://www.bouwmaterialenkopen.com/service/afhalen/\n",
      "[*] Internal link: https://www.bouwmaterialenkopen.com/service/contact/\n",
      "[*] Internal link: https://www.bouwmaterialenkopen.com/service/cookie-verklaring/\n",
      "[*] Internal link: https://www.bouwmaterialenkopen.com/service/veelgestelde-vragen/\n",
      "[*] Internal link: https://www.bouwmaterialenkopen.com/service/alle-artikelen/\n",
      "[*] Internal link: https://www.bouwmaterialenkopen.com/collection/offers/\n",
      "[*] Internal link: https://www.bouwmaterialenkopen.com/collection/\n",
      "[!] External link: https://www.youtube.com/channel/UCBWHaYvF_P3xen8Wn3VpVIQ\n",
      "[!] External link: https://www.facebook.com/pages/category/Retail-Company/BouwmaterialenKopencom-1527966770836212/\n",
      "[!] External link: https://www.instagram.com/bouwmaterialenkopen/\n",
      "[!] External link: https://nl.pinterest.com/bouwmaterialenkopen/\n",
      "[+] Total Internal links: 67\n",
      "[+] Total External links: 9\n"
     ]
    }
   ],
   "source": [
    "get_all_website_links('https://www.bouwmaterialenkopen.com/')"
   ]
  },
  {
   "cell_type": "markdown",
   "metadata": {},
   "source": [
    "# Unnecessary code "
   ]
  },
  {
   "cell_type": "code",
   "execution_count": null,
   "metadata": {},
   "outputs": [],
   "source": [
    "# from bs4 import BeautifulSoup\n",
    "# import requests\n",
    "# import re\n",
    "\n",
    "# dikz = 0\n",
    "  \n",
    "# # function to extract html document from given url\n",
    "# def getHTMLdocument(url):\n",
    "      \n",
    "#     # request for HTML document of given url\n",
    "#     response = requests.get(url)\n",
    "      \n",
    "#     # response will be provided in JSON format\n",
    "#     return response.text\n",
    "  \n",
    "    \n",
    "# # assign required credentials\n",
    "# # assign URL\n",
    "# url_to_scrape = \"https://www.bouwmaterialenkopen.com/\"\n",
    "  \n",
    "# # create document\n",
    "# html_document = getHTMLdocument(url_to_scrape)\n",
    "  \n",
    "# # create soap object\n",
    "# soup = BeautifulSoup(html_document, 'html.parser')\n",
    "  \n",
    "  \n",
    "# # find all the anchor tags with \"href\" \n",
    "# # attribute starting with \"https://\"\n",
    "# for link in soup.find_all('a', attrs={'href': re.compile(\"^https://\")}):\n",
    "#     # display the actual urls\n",
    "#     print(link.get('href'))\n",
    "#     dikz = dikz + 1\n",
    "#     print(dikz)"
   ]
  },
  {
   "cell_type": "code",
   "execution_count": 30,
   "metadata": {},
   "outputs": [
    {
     "name": "stdout",
     "output_type": "stream",
     "text": [
      "omega=toaster\n",
      "www.bouwmaterialenkopen.com\n",
      "https://www.bouwmaterialenkopen.com\n",
      "omega=toaster\n"
     ]
    }
   ],
   "source": [
    "from urllib.request import urlopen\n",
    "try:\n",
    "    code = urlopen(\"https://www.thuiswinkel.org/leden/bouwmaterialenkopen.com/certificaat\").code\n",
    "    print('omega=toaster')\n",
    "except: \n",
    "    print('toaster')\n",
    "    \n",
    "lol = \"https://www.bouwmaterialenkopen.com\"   \n",
    "domain = urlparse(lol).netloc\n",
    "print(domain) # --> www.example.test\n",
    "domain = \"https://\" + domain\n",
    "print(domain)\n",
    "\n",
    "try:\n",
    "    code = urlopen(\"https://www.bouwmaterialenkopen.com/klussen/zwembad-bouwen/\").code\n",
    "    print('omega=toaster')\n",
    "except: \n",
    "    print('toaster')"
   ]
  },
  {
   "cell_type": "code",
   "execution_count": 22,
   "metadata": {},
   "outputs": [],
   "source": [
    "ab = \"https://www.bouwmaterialenkopen.com/klussen/zwembad-bouwen/\""
   ]
  },
  {
   "cell_type": "code",
   "execution_count": null,
   "metadata": {},
   "outputs": [],
   "source": [
    "try:\n",
    "    code = urlopen(ab).code\n",
    "    print(ab)\n",
    "except:\n",
    "    print('failed')"
   ]
  },
  {
   "cell_type": "code",
   "execution_count": 39,
   "metadata": {},
   "outputs": [
    {
     "name": "stdout",
     "output_type": "stream",
     "text": [
      "/Cant OPEN!\n"
     ]
    }
   ],
   "source": [
    "def lollolol(siteUrll):            \n",
    "    if(siteUrll.startswith('http')):\n",
    "        pass\n",
    "    elif(siteUrll.startswith('/')): \n",
    "        domain = urlparse(siteUrll).netloc\n",
    "        domain = \"https://\" + domain\n",
    "                \n",
    "        try:\n",
    "            code = urlopen(domain + siteUrll).code\n",
    "            print(domain + siteUrll + \"WWWWWWWWWWWWWWWWWWWW\")\n",
    "        except:\n",
    "            print(siteUrll + \"Cant OPEN!\")\n",
    "    else:\n",
    "        print(siteUrll + \"i dont start good\")\n",
    "                \n",
    "lollolol('/')"
   ]
  },
  {
   "cell_type": "code",
   "execution_count": null,
   "metadata": {},
   "outputs": [],
   "source": []
  }
 ],
 "metadata": {
  "kernelspec": {
   "display_name": "Python 3",
   "language": "python",
   "name": "python3"
  },
  "language_info": {
   "codemirror_mode": {
    "name": "ipython",
    "version": 3
   },
   "file_extension": ".py",
   "mimetype": "text/x-python",
   "name": "python",
   "nbconvert_exporter": "python",
   "pygments_lexer": "ipython3",
   "version": "3.8.5"
  }
 },
 "nbformat": 4,
 "nbformat_minor": 4
}
